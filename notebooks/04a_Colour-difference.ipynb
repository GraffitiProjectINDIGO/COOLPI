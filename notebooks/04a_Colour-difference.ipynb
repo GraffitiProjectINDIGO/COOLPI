{
 "cells": [
  {
   "cell_type": "markdown",
   "metadata": {},
   "source": [
    "<img src=\"res/logo/coolpi.png\" width=\"200\">\n",
    "\n",
    "# Coolpi Notebook"
   ]
  },
  {
   "cell_type": "markdown",
   "metadata": {},
   "source": [
    "# 04a. - Colour-difference"
   ]
  },
  {
   "cell_type": "markdown",
   "metadata": {},
   "source": [
    "## $\\Delta E_{ab}^*$"
   ]
  },
  {
   "cell_type": "markdown",
   "metadata": {},
   "source": [
    "### Colour samples in CIELAB coordinates"
   ]
  },
  {
   "cell_type": "code",
   "execution_count": 1,
   "metadata": {},
   "outputs": [],
   "source": [
    "from coolpi.colour.cie_colour_spectral import CIELAB"
   ]
  },
  {
   "cell_type": "markdown",
   "metadata": {},
   "source": [
    "Samples"
   ]
  },
  {
   "cell_type": "code",
   "execution_count": 2,
   "metadata": {},
   "outputs": [],
   "source": [
    "L1, a1, b1 = 29.08465, 43.545095, -39.821735\n",
    "L2, a2, b2 = 35.89365, 15.903706, -29.659472"
   ]
  },
  {
   "cell_type": "code",
   "execution_count": 3,
   "metadata": {},
   "outputs": [],
   "source": [
    "LAB1 = CIELAB(\"Sample_1\", L1, a1, b1, \"D65\", 2)\n",
    "LAB2 = CIELAB(\"Sample_2\", L2, a2, b2, \"D65\", 2)"
   ]
  },
  {
   "cell_type": "markdown",
   "metadata": {},
   "source": [
    "$\\Delta E_{ab}^*$ colour-difference"
   ]
  },
  {
   "cell_type": "code",
   "execution_count": 4,
   "metadata": {},
   "outputs": [
    {
     "data": {
      "text/plain": [
       "30.22714766779178"
      ]
     },
     "execution_count": 4,
     "metadata": {},
     "output_type": "execute_result"
    }
   ],
   "source": [
    "AEab = LAB1.delta_e_ab(LAB2)\n",
    "AEab"
   ]
  },
  {
   "cell_type": "code",
   "execution_count": 5,
   "metadata": {},
   "outputs": [
    {
     "data": {
      "text/plain": [
       "30.22714766779178"
      ]
     },
     "execution_count": 5,
     "metadata": {},
     "output_type": "execute_result"
    }
   ],
   "source": [
    "AEab = LAB2.delta_e_ab(LAB1)\n",
    "AEab"
   ]
  },
  {
   "cell_type": "markdown",
   "metadata": {},
   "source": [
    "Note: For the calculation of the $\\Delta E_{ab}^*$ colour-difference, both samples must be in the same CIELAB colour space, and under the same illuminant. On the contrary, a `CIEIlluminantError` is raised."
   ]
  },
  {
   "cell_type": "code",
   "execution_count": 6,
   "metadata": {},
   "outputs": [],
   "source": [
    "XYZ2 = LAB2.to_XYZ()\n",
    "XYZ2_D50 = XYZ2.to_CIE_illuminant(\"D50\", 2)\n",
    "LAB2_D50 = XYZ2_D50.to_LAB()"
   ]
  },
  {
   "cell_type": "markdown",
   "metadata": {},
   "source": [
    "Attributes"
   ]
  },
  {
   "cell_type": "code",
   "execution_count": 7,
   "metadata": {},
   "outputs": [
    {
     "name": "stdout",
     "output_type": "stream",
     "text": [
      "CIE LAB\n",
      "Sample_2\n",
      "[35.88247742383635, 10.417170329437342, -29.678735062351123]\n",
      "Illuminant object: CIE D50 standard illuminant\n",
      "2º standard observer (CIE 1931)\n",
      "{'Sample_2': [35.88247742383635, 10.417170329437342, -29.678735062351123]}\n"
     ]
    }
   ],
   "source": [
    "print(LAB2_D50.colour_space()) # subtype\n",
    "print(LAB2_D50.name_id)\n",
    "print(LAB2_D50.coordinates)\n",
    "print(LAB2_D50.illuminant) # str method\n",
    "print(LAB2_D50.observer) # str method\n",
    "print(LAB2_D50.get_sample()) # color data as dict"
   ]
  },
  {
   "cell_type": "code",
   "execution_count": 8,
   "metadata": {},
   "outputs": [
    {
     "ename": "CIEIlluminantError",
     "evalue": "The CIELAB target must be referred to the same illuminant D65.",
     "output_type": "error",
     "traceback": [
      "\u001b[0;31m---------------------------------------------------------------------------\u001b[0m",
      "\u001b[0;31mCIEIlluminantError\u001b[0m                        Traceback (most recent call last)",
      "\u001b[1;32m/Users/adolfomoladatebar/Library/Mobile Documents/com~apple~CloudDocs/GitHub/notebooks_test/04a_Colour-difference.ipynb Cell 16\u001b[0m in \u001b[0;36m<cell line: 1>\u001b[0;34m()\u001b[0m\n\u001b[0;32m----> <a href='vscode-notebook-cell:/Users/adolfomoladatebar/Library/Mobile%20Documents/com~apple~CloudDocs/GitHub/notebooks_test/04a_Colour-difference.ipynb#X21sZmlsZQ%3D%3D?line=0'>1</a>\u001b[0m LAB1\u001b[39m.\u001b[39;49mdelta_e_ab(LAB2_D50)\n",
      "File \u001b[0;32m~/.local/share/virtualenvs/notebooks_test-m1LjhKG4/lib/python3.9/site-packages/coolpi/colour/cie_colour_spectral.py:1817\u001b[0m, in \u001b[0;36mCIELAB.delta_e_ab\u001b[0;34m(self, target)\u001b[0m\n\u001b[1;32m   1815\u001b[0m         \u001b[39mreturn\u001b[39;00m AE_ab\n\u001b[1;32m   1816\u001b[0m     \u001b[39melse\u001b[39;00m:\n\u001b[0;32m-> 1817\u001b[0m         \u001b[39mraise\u001b[39;00m CIEIlluminantError(\u001b[39mf\u001b[39m\u001b[39m\"\u001b[39m\u001b[39mThe CIELAB target must be referred to the same illuminant \u001b[39m\u001b[39m{\u001b[39;00m\u001b[39mself\u001b[39m\u001b[39m.\u001b[39milluminant\u001b[39m.\u001b[39milluminant_name\u001b[39m}\u001b[39;00m\u001b[39m.\u001b[39m\u001b[39m\"\u001b[39m)\n\u001b[1;32m   1818\u001b[0m \u001b[39melse\u001b[39;00m:\n\u001b[1;32m   1819\u001b[0m     \u001b[39mraise\u001b[39;00m ClassTypeError(\u001b[39m\"\u001b[39m\u001b[39mThe input target is not a CIELAB colour object.\u001b[39m\u001b[39m\"\u001b[39m)\n",
      "\u001b[0;31mCIEIlluminantError\u001b[0m: The CIELAB target must be referred to the same illuminant D65."
     ]
    }
   ],
   "source": [
    "LAB1.delta_e_ab(LAB2_D50)"
   ]
  },
  {
   "cell_type": "markdown",
   "metadata": {},
   "source": [
    "$\\Delta E_{00}^*$ colour-difference"
   ]
  },
  {
   "cell_type": "code",
   "execution_count": 9,
   "metadata": {},
   "outputs": [
    {
     "data": {
      "text/plain": [
       "13.205812360718502"
      ]
     },
     "execution_count": 9,
     "metadata": {},
     "output_type": "execute_result"
    }
   ],
   "source": [
    "AE00 = LAB1.CIEDE2000(LAB2)\n",
    "AE00"
   ]
  },
  {
   "cell_type": "code",
   "execution_count": 10,
   "metadata": {},
   "outputs": [
    {
     "data": {
      "text/plain": [
       "13.205812360718502"
      ]
     },
     "execution_count": 10,
     "metadata": {},
     "output_type": "execute_result"
    }
   ],
   "source": [
    "AE00 = LAB2.CIEDE2000(LAB1)\n",
    "AE00"
   ]
  },
  {
   "cell_type": "markdown",
   "metadata": {},
   "source": [
    "### Colour samples in CIELCHab coordinates"
   ]
  },
  {
   "cell_type": "code",
   "execution_count": 11,
   "metadata": {},
   "outputs": [],
   "source": [
    "from coolpi.colour.cie_colour_spectral import CIELCHab"
   ]
  },
  {
   "cell_type": "markdown",
   "metadata": {},
   "source": [
    "Samples"
   ]
  },
  {
   "cell_type": "code",
   "execution_count": 12,
   "metadata": {},
   "outputs": [],
   "source": [
    "L1, Cab1, Hab1 = 29.08465, 59.008015, 317.557266 \n",
    "L2, Cab2, Hab2 = 35.89365, 33.654303, 298.200655"
   ]
  },
  {
   "cell_type": "code",
   "execution_count": 13,
   "metadata": {},
   "outputs": [],
   "source": [
    "LCHab1 = CIELCHab(\"Sample_1\", L1, Cab1, Hab1, \"D65\", 2)\n",
    "LCHab2 = CIELCHab(\"Sample_2\", L2, Cab2, Hab2, \"D65\", 2)"
   ]
  },
  {
   "cell_type": "markdown",
   "metadata": {},
   "source": [
    "$\\Delta H_{ab}^*$ hue difference"
   ]
  },
  {
   "cell_type": "code",
   "execution_count": 14,
   "metadata": {},
   "outputs": [
    {
     "data": {
      "text/plain": [
       "-14.98356683141618"
      ]
     },
     "execution_count": 14,
     "metadata": {},
     "output_type": "execute_result"
    }
   ],
   "source": [
    "AHab = LCHab1.hue_difference(LCHab2)\n",
    "AHab"
   ]
  },
  {
   "cell_type": "code",
   "execution_count": 15,
   "metadata": {},
   "outputs": [
    {
     "data": {
      "text/plain": [
       "14.98356683141618"
      ]
     },
     "execution_count": 15,
     "metadata": {},
     "output_type": "execute_result"
    }
   ],
   "source": [
    "AHab = LCHab2.hue_difference(LCHab1)\n",
    "AHab"
   ]
  },
  {
   "cell_type": "markdown",
   "metadata": {},
   "source": [
    "$\\Delta E_{ab}^*$ colour-difference"
   ]
  },
  {
   "cell_type": "code",
   "execution_count": 16,
   "metadata": {},
   "outputs": [
    {
     "data": {
      "text/plain": [
       "30.227147866949988"
      ]
     },
     "execution_count": 16,
     "metadata": {},
     "output_type": "execute_result"
    }
   ],
   "source": [
    "AEab = LCHab1.delta_e_ab(LCHab2)\n",
    "AEab"
   ]
  },
  {
   "cell_type": "code",
   "execution_count": 25,
   "metadata": {},
   "outputs": [
    {
     "data": {
      "text/plain": [
       "30.227147866949988"
      ]
     },
     "execution_count": 25,
     "metadata": {},
     "output_type": "execute_result"
    }
   ],
   "source": [
    "AEab = LCHab2.delta_e_ab(LCHab1)\n",
    "AEab"
   ]
  },
  {
   "cell_type": "markdown",
   "metadata": {},
   "source": [
    "## $\\Delta E_{uv}^*$"
   ]
  },
  {
   "cell_type": "markdown",
   "metadata": {},
   "source": [
    "### Colour samples in CIELUV coordinates"
   ]
  },
  {
   "cell_type": "code",
   "execution_count": 17,
   "metadata": {},
   "outputs": [],
   "source": [
    "from coolpi.colour.cie_colour_spectral import CIELUV"
   ]
  },
  {
   "cell_type": "markdown",
   "metadata": {},
   "source": [
    "Samples"
   ]
  },
  {
   "cell_type": "code",
   "execution_count": 18,
   "metadata": {},
   "outputs": [],
   "source": [
    "L1, U1, V1 = 29.08465, 19.220243, -55.723049\n",
    "L2, U2, V2 = 35.89365, -1.021978, -42.663638"
   ]
  },
  {
   "cell_type": "code",
   "execution_count": 19,
   "metadata": {},
   "outputs": [],
   "source": [
    "LUV1 = CIELUV(\"Sample_1\", L1, U1, V1, \"D65\", 2)\n",
    "LUV2 = CIELUV(\"Sample_2\", L2, U2, V2, \"D65\", 2)"
   ]
  },
  {
   "cell_type": "markdown",
   "metadata": {},
   "source": [
    "$s_{uv}$ saturation"
   ]
  },
  {
   "cell_type": "code",
   "execution_count": 20,
   "metadata": {},
   "outputs": [
    {
     "data": {
      "text/plain": [
       "2.0266596073363474"
      ]
     },
     "execution_count": 20,
     "metadata": {},
     "output_type": "execute_result"
    }
   ],
   "source": [
    "s_uv_1 = LUV1.get_saturation()\n",
    "s_uv_1"
   ]
  },
  {
   "cell_type": "code",
   "execution_count": 21,
   "metadata": {},
   "outputs": [
    {
     "data": {
      "text/plain": [
       "1.1889533840492867"
      ]
     },
     "execution_count": 21,
     "metadata": {},
     "output_type": "execute_result"
    }
   ],
   "source": [
    "s_uv_2 = LUV2.get_saturation()\n",
    "s_uv_2"
   ]
  },
  {
   "cell_type": "markdown",
   "metadata": {},
   "source": [
    "$\\Delta E_{uv}^*$ colour-difference"
   ]
  },
  {
   "cell_type": "code",
   "execution_count": 22,
   "metadata": {},
   "outputs": [
    {
     "data": {
      "text/plain": [
       "25.03314218550604"
      ]
     },
     "execution_count": 22,
     "metadata": {},
     "output_type": "execute_result"
    }
   ],
   "source": [
    "AEuv = LUV1.delta_e_uv(LUV2)\n",
    "AEuv"
   ]
  },
  {
   "cell_type": "code",
   "execution_count": 23,
   "metadata": {},
   "outputs": [
    {
     "data": {
      "text/plain": [
       "25.03314218550604"
      ]
     },
     "execution_count": 23,
     "metadata": {},
     "output_type": "execute_result"
    }
   ],
   "source": [
    "AEuv = LUV2.delta_e_uv(LUV1)\n",
    "AEuv"
   ]
  },
  {
   "cell_type": "markdown",
   "metadata": {},
   "source": [
    "### Colour samples in CIELCHuv coordinates"
   ]
  },
  {
   "cell_type": "code",
   "execution_count": 24,
   "metadata": {},
   "outputs": [],
   "source": [
    "from coolpi.colour.cie_colour_spectral import CIELCHuv"
   ]
  },
  {
   "cell_type": "markdown",
   "metadata": {},
   "source": [
    "Samples"
   ]
  },
  {
   "cell_type": "code",
   "execution_count": 25,
   "metadata": {},
   "outputs": [],
   "source": [
    "L1, Cuv1, Huv1 = 29.08465, 58.94469, 289.030567\n",
    "L2, Cuv2, Huv2 = 35.89365, 42.67588, 268.627782"
   ]
  },
  {
   "cell_type": "code",
   "execution_count": 26,
   "metadata": {},
   "outputs": [],
   "source": [
    "LCHuv1 = CIELCHuv(\"Sample_1\", L1, Cuv1, Huv1, \"D65\", 2)\n",
    "LCHuv2 = CIELCHuv(\"Sample_2\", L2, Cuv2, Huv2, \"D65\", 2)"
   ]
  },
  {
   "cell_type": "markdown",
   "metadata": {},
   "source": [
    "$\\Delta H_{uv}^*$ hue difference"
   ]
  },
  {
   "cell_type": "code",
   "execution_count": 27,
   "metadata": {},
   "outputs": [
    {
     "data": {
      "text/plain": [
       "-17.76574315954105"
      ]
     },
     "execution_count": 27,
     "metadata": {},
     "output_type": "execute_result"
    }
   ],
   "source": [
    "AHuv = LCHuv1.hue_difference(LCHuv2)\n",
    "AHuv"
   ]
  },
  {
   "cell_type": "code",
   "execution_count": 28,
   "metadata": {},
   "outputs": [
    {
     "data": {
      "text/plain": [
       "17.76574315954105"
      ]
     },
     "execution_count": 28,
     "metadata": {},
     "output_type": "execute_result"
    }
   ],
   "source": [
    "AHuv = LCHuv2.hue_difference(LCHuv1)\n",
    "AHuv"
   ]
  },
  {
   "cell_type": "markdown",
   "metadata": {},
   "source": [
    "$\\Delta E_{ab}^*$ colour-difference"
   ]
  },
  {
   "cell_type": "code",
   "execution_count": 29,
   "metadata": {},
   "outputs": [
    {
     "data": {
      "text/plain": [
       "25.03314382627319"
      ]
     },
     "execution_count": 29,
     "metadata": {},
     "output_type": "execute_result"
    }
   ],
   "source": [
    "AEuv = LCHuv1.delta_e_uv(LCHuv2)\n",
    "AEuv"
   ]
  },
  {
   "cell_type": "code",
   "execution_count": 30,
   "metadata": {},
   "outputs": [
    {
     "data": {
      "text/plain": [
       "25.03314382627319"
      ]
     },
     "execution_count": 30,
     "metadata": {},
     "output_type": "execute_result"
    }
   ],
   "source": [
    "AEuv = LCHuv2.delta_e_uv(LCHuv1)\n",
    "AEuv"
   ]
  },
  {
   "cell_type": "markdown",
   "metadata": {},
   "source": [
    "## Using the coolpy module"
   ]
  },
  {
   "cell_type": "markdown",
   "metadata": {},
   "source": [
    "### $\\Delta E_{ab}^*$"
   ]
  },
  {
   "cell_type": "code",
   "execution_count": 31,
   "metadata": {},
   "outputs": [],
   "source": [
    "import coolpi.colour.colour_difference as cde"
   ]
  },
  {
   "cell_type": "markdown",
   "metadata": {},
   "source": [
    "CIELAB colour samples"
   ]
  },
  {
   "cell_type": "code",
   "execution_count": 32,
   "metadata": {},
   "outputs": [],
   "source": [
    "L1, a1, b1 = 29.08465, 43.545095, -39.821735\n",
    "L2, a2, b2 = 35.89365, 15.903706, -29.659472"
   ]
  },
  {
   "cell_type": "code",
   "execution_count": 33,
   "metadata": {},
   "outputs": [
    {
     "name": "stdout",
     "output_type": "stream",
     "text": [
      "CIELAB lightness difference =  6.809000000000001\n",
      "CIELAB a difference         =  -27.641389000000004\n",
      "CIELAB b difference         =  10.162262999999996\n"
     ]
    }
   ],
   "source": [
    "AL = L2 - L1\n",
    "Aa = a2 - a1 \n",
    "Ab = b2 - b1 \n",
    "\n",
    "print(\"CIELAB lightness difference = \", AL)\n",
    "print(\"CIELAB a difference         = \", Aa)\n",
    "print(\"CIELAB b difference         = \", Ab)"
   ]
  },
  {
   "cell_type": "code",
   "execution_count": 34,
   "metadata": {},
   "outputs": [
    {
     "data": {
      "text/plain": [
       "30.22714766779178"
      ]
     },
     "execution_count": 34,
     "metadata": {},
     "output_type": "execute_result"
    }
   ],
   "source": [
    "AEab = cde.delta_E_ab(L1, a1, b1, L2, a2, b2)\n",
    "AEab"
   ]
  },
  {
   "cell_type": "markdown",
   "metadata": {},
   "source": [
    "CIELCHab colour samples"
   ]
  },
  {
   "cell_type": "code",
   "execution_count": 35,
   "metadata": {},
   "outputs": [],
   "source": [
    "L1, Cab1, Hab1 = 29.08465, 59.008015, 317.557266 \n",
    "L2, Cab2, Hab2 = 35.89365, 33.654303, 298.200655"
   ]
  },
  {
   "cell_type": "code",
   "execution_count": 36,
   "metadata": {},
   "outputs": [
    {
     "name": "stdout",
     "output_type": "stream",
     "text": [
      "CIELAB chroma difference    =  -25.353712\n",
      "CIELAB hue-angle difference =  -0.3378365939777529\n"
     ]
    }
   ],
   "source": [
    "ACab = Cab2 - Cab1\n",
    "Ahab = cde.compute_hue_angle_difference(Cab1, Hab1, Cab2, Hab2)\n",
    "\n",
    "print(\"CIELAB chroma difference    = \", ACab)\n",
    "print(\"CIELAB hue-angle difference = \", Ahab)"
   ]
  },
  {
   "cell_type": "code",
   "execution_count": 37,
   "metadata": {},
   "outputs": [
    {
     "name": "stdout",
     "output_type": "stream",
     "text": [
      "CIELAB hue difference    =  -14.98356683141618\n"
     ]
    }
   ],
   "source": [
    "AHab = cde.compute_Delta_H_difference(Cab1, Cab2, Ahab)\n",
    "print(\"CIELAB hue difference    = \", AHab)"
   ]
  },
  {
   "cell_type": "code",
   "execution_count": 38,
   "metadata": {},
   "outputs": [
    {
     "data": {
      "text/plain": [
       "30.227147866949988"
      ]
     },
     "execution_count": 38,
     "metadata": {},
     "output_type": "execute_result"
    }
   ],
   "source": [
    "AEab = cde.delta_E_ab_cielchab(L1, Cab1, Hab1, L2, Cab2, Hab2)\n",
    "AEab"
   ]
  },
  {
   "cell_type": "markdown",
   "metadata": {},
   "source": [
    "### $\\Delta E_{00}^*$"
   ]
  },
  {
   "cell_type": "code",
   "execution_count": 39,
   "metadata": {},
   "outputs": [
    {
     "name": "stdout",
     "output_type": "stream",
     "text": [
      "13.205812360718502\n"
     ]
    }
   ],
   "source": [
    "AE00 = cde.CIEDE2000(L1, a1, b1, L2, a2, b2, kl=1, kc=1, kh=1)\n",
    "print(AE00)"
   ]
  },
  {
   "cell_type": "markdown",
   "metadata": {},
   "source": [
    "### $\\Delta E_{uv}^*$"
   ]
  },
  {
   "cell_type": "markdown",
   "metadata": {},
   "source": [
    "CIELUV coordinates"
   ]
  },
  {
   "cell_type": "code",
   "execution_count": 40,
   "metadata": {},
   "outputs": [],
   "source": [
    "L1, U1, V1 = 29.08465, 19.220243, -55.723049\n",
    "L2, U2, V2 = 35.89365, -1.021978, -42.663638"
   ]
  },
  {
   "cell_type": "code",
   "execution_count": 41,
   "metadata": {},
   "outputs": [
    {
     "name": "stdout",
     "output_type": "stream",
     "text": [
      "CIELUV lightness difference =  6.809000000000001\n",
      "CIELUV u difference         =  -20.242221\n",
      "CIELUV v difference         =  13.059411000000004\n"
     ]
    }
   ],
   "source": [
    "AL = L2 - L1\n",
    "AU = U2 - U1 \n",
    "AV = V2 - V1 \n",
    "\n",
    "print(\"CIELUV lightness difference = \", AL)\n",
    "print(\"CIELUV u difference         = \", AU)\n",
    "print(\"CIELUV v difference         = \", AV)"
   ]
  },
  {
   "cell_type": "code",
   "execution_count": 42,
   "metadata": {},
   "outputs": [
    {
     "data": {
      "text/plain": [
       "25.03314218550604"
      ]
     },
     "execution_count": 42,
     "metadata": {},
     "output_type": "execute_result"
    }
   ],
   "source": [
    "AEuv = cde.delta_E_uv(L1, U1, V1, L2, U2, V2)\n",
    "AEuv"
   ]
  },
  {
   "cell_type": "markdown",
   "metadata": {},
   "source": [
    "CIELCHuv coordinates"
   ]
  },
  {
   "cell_type": "code",
   "execution_count": 43,
   "metadata": {},
   "outputs": [],
   "source": [
    "L1, Cuv1, Huv1 = 29.08465, 58.94469, 289.030567\n",
    "L2, Cuv2, Huv2 = 35.89365, 42.67588, 268.627782"
   ]
  },
  {
   "cell_type": "code",
   "execution_count": 44,
   "metadata": {},
   "outputs": [
    {
     "name": "stdout",
     "output_type": "stream",
     "text": [
      "CIELUV lightness difference =  6.809000000000001\n",
      "CIELUV chroma difference    =  -16.268810000000002\n",
      "CIELUV hue-angle difference =  -0.35609577482651117\n"
     ]
    }
   ],
   "source": [
    "AL = L2 - L1\n",
    "ACuv = Cuv2 - Cuv1 \n",
    "Ahuv = cde.compute_hue_angle_difference(Cuv1, Huv1, Cuv2, Huv2) \n",
    "\n",
    "print(\"CIELUV lightness difference = \", AL)\n",
    "print(\"CIELUV chroma difference    = \", ACuv)\n",
    "print(\"CIELUV hue-angle difference = \", Ahuv)"
   ]
  },
  {
   "cell_type": "markdown",
   "metadata": {},
   "source": [
    "$\\Delta H_{uv}^*$ hue difference "
   ]
  },
  {
   "cell_type": "code",
   "execution_count": 45,
   "metadata": {},
   "outputs": [
    {
     "name": "stdout",
     "output_type": "stream",
     "text": [
      "CIELUV hue difference    =  -17.76574315954105\n"
     ]
    }
   ],
   "source": [
    "AHuv = cde.compute_Delta_H_difference(Cuv1, Cuv2, Ahuv)\n",
    "print(\"CIELUV hue difference    = \", AHuv)"
   ]
  },
  {
   "cell_type": "code",
   "execution_count": 46,
   "metadata": {},
   "outputs": [
    {
     "data": {
      "text/plain": [
       "25.03314382627319"
      ]
     },
     "execution_count": 46,
     "metadata": {},
     "output_type": "execute_result"
    }
   ],
   "source": [
    "AEuv = cde.delta_E_uv_cielchuv(L1, Cuv1, Huv1 , L2, Cuv2, Huv2)\n",
    "AEuv"
   ]
  }
 ],
 "metadata": {
  "kernelspec": {
   "display_name": "Python 3.9.0 ('notebooks_test-m1LjhKG4')",
   "language": "python",
   "name": "python3"
  },
  "language_info": {
   "codemirror_mode": {
    "name": "ipython",
    "version": 3
   },
   "file_extension": ".py",
   "mimetype": "text/x-python",
   "name": "python",
   "nbconvert_exporter": "python",
   "pygments_lexer": "ipython3",
   "version": "3.9.0"
  },
  "vscode": {
   "interpreter": {
    "hash": "0fdcca9142aee400815b03e813baab2695bec9f8e0467cda749508e0689582fe"
   }
  }
 },
 "nbformat": 4,
 "nbformat_minor": 4
}
