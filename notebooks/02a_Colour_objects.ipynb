{
 "cells": [
  {
   "cell_type": "markdown",
   "metadata": {},
   "source": [
    "<img src=\"res/logo/coolpi.png\" width=\"200\">\n",
    "\n",
    "# Notebook"
   ]
  },
  {
   "cell_type": "markdown",
   "metadata": {},
   "source": [
    "# 02a. - Colour Objects"
   ]
  },
  {
   "cell_type": "markdown",
   "metadata": {},
   "source": [
    "## Import packages "
   ]
  },
  {
   "cell_type": "code",
   "execution_count": 1,
   "metadata": {},
   "outputs": [
    {
     "data": {
      "text/plain": [
       "'3.9.0 (v3.9.0:9cf6752276, Oct  5 2020, 11:29:23) \\n[Clang 6.0 (clang-600.0.57)]'"
      ]
     },
     "execution_count": 1,
     "metadata": {},
     "output_type": "execute_result"
    }
   ],
   "source": [
    "import sys\n",
    "sys.version "
   ]
  },
  {
   "cell_type": "code",
   "execution_count": 2,
   "metadata": {},
   "outputs": [],
   "source": [
    "import os\n",
    "%matplotlib inline"
   ]
  },
  {
   "cell_type": "markdown",
   "metadata": {},
   "source": [
    "## CIE XYZ"
   ]
  },
  {
   "cell_type": "code",
   "execution_count": 3,
   "metadata": {},
   "outputs": [],
   "source": [
    "from coolpi.colour.cie_colour_spectral import CIEXYZ"
   ]
  },
  {
   "cell_type": "markdown",
   "metadata": {},
   "source": [
    "### Create an instance:"
   ]
  },
  {
   "cell_type": "markdown",
   "metadata": {},
   "source": [
    "To create an instance of the `CIEXYZ` class, simply enter the required parameters as follows:"
   ]
  },
  {
   "cell_type": "code",
   "execution_count": 4,
   "metadata": {},
   "outputs": [],
   "source": [
    "sample_XYZ = CIEXYZ(name_id=\"Sample_1\", X=10.234, Y=5.871, Z=22.109, cie_illuminant=\"D65\", observer=2)"
   ]
  },
  {
   "cell_type": "markdown",
   "metadata": {},
   "source": [
    "An *Illuminant* instance can also be passed as a parameter:"
   ]
  },
  {
   "cell_type": "code",
   "execution_count": 5,
   "metadata": {},
   "outputs": [],
   "source": [
    "from coolpi.colour.cie_colour_spectral import Illuminant\n",
    "D65 = Illuminant(\"D65\")"
   ]
  },
  {
   "cell_type": "code",
   "execution_count": 6,
   "metadata": {},
   "outputs": [],
   "source": [
    "sample_XYZ = CIEXYZ(name_id=\"Sample_1\", X=10.234, Y=5.871, Z=22.109, cie_illuminant=D65, observer=2)"
   ]
  },
  {
   "cell_type": "markdown",
   "metadata": {},
   "source": [
    "The colour sample should be referred to a valid CIE standard illuminant and observer:"
   ]
  },
  {
   "cell_type": "code",
   "execution_count": 7,
   "metadata": {},
   "outputs": [
    {
     "ename": "CIEIlluminantError",
     "evalue": "The input illuminant is not a valid CIE standard illuminant.",
     "output_type": "error",
     "traceback": [
      "\u001b[0;31m---------------------------------------------------------------------------\u001b[0m",
      "\u001b[0;31mCIEIlluminantError\u001b[0m                        Traceback (most recent call last)",
      "\u001b[1;32m/Users/adolfomoladatebar/Library/Mobile Documents/com~apple~CloudDocs/GitHub/notebooks_test/02a_Colour_objects.ipynb Cell 15\u001b[0m in \u001b[0;36m<cell line: 1>\u001b[0;34m()\u001b[0m\n\u001b[0;32m----> <a href='vscode-notebook-cell:/Users/adolfomoladatebar/Library/Mobile%20Documents/com~apple~CloudDocs/GitHub/notebooks_test/02a_Colour_objects.ipynb#X20sZmlsZQ%3D%3D?line=0'>1</a>\u001b[0m sample_XYZ \u001b[39m=\u001b[39m CIEXYZ(name_id\u001b[39m=\u001b[39;49m\u001b[39m\"\u001b[39;49m\u001b[39mSample_1\u001b[39;49m\u001b[39m\"\u001b[39;49m, X\u001b[39m=\u001b[39;49m\u001b[39m10.234\u001b[39;49m, Y\u001b[39m=\u001b[39;49m\u001b[39m5.871\u001b[39;49m, Z\u001b[39m=\u001b[39;49m\u001b[39m22.109\u001b[39;49m, cie_illuminant\u001b[39m=\u001b[39;49m\u001b[39m\"\u001b[39;49m\u001b[39mD30\u001b[39;49m\u001b[39m\"\u001b[39;49m, observer\u001b[39m=\u001b[39;49m\u001b[39m2\u001b[39;49m)\n",
      "File \u001b[0;32m~/.local/share/virtualenvs/notebooks_test-m1LjhKG4/lib/python3.9/site-packages/coolpi/colour/cie_colour_spectral.py:1307\u001b[0m, in \u001b[0;36mCIEXYZ.__init__\u001b[0;34m(self, name_id, X, Y, Z, cie_illuminant, observer)\u001b[0m\n\u001b[1;32m   1306\u001b[0m \u001b[39mdef\u001b[39;00m \u001b[39m__init__\u001b[39m(\u001b[39mself\u001b[39m, name_id, X, Y, Z, cie_illuminant \u001b[39m=\u001b[39m \u001b[39m\"\u001b[39m\u001b[39mD65\u001b[39m\u001b[39m\"\u001b[39m, observer \u001b[39m=\u001b[39m \u001b[39m2\u001b[39m):\n\u001b[0;32m-> 1307\u001b[0m     \u001b[39mself\u001b[39;49m\u001b[39m.\u001b[39;49m__illuminant_is_CIE__(cie_illuminant)\n\u001b[1;32m   1308\u001b[0m     \u001b[39mself\u001b[39m\u001b[39m.\u001b[39m__update__(name_id, cie_illuminant, observer, [X, Y, Z])\n",
      "File \u001b[0;32m~/.local/share/virtualenvs/notebooks_test-m1LjhKG4/lib/python3.9/site-packages/coolpi/colour/cie_colour_spectral.py:1205\u001b[0m, in \u001b[0;36mColour.__illuminant_is_CIE__\u001b[0;34m(self, illuminant)\u001b[0m\n\u001b[1;32m   1203\u001b[0m         \u001b[39mreturn\u001b[39;00m \u001b[39mTrue\u001b[39;00m\n\u001b[1;32m   1204\u001b[0m     \u001b[39melse\u001b[39;00m:\n\u001b[0;32m-> 1205\u001b[0m         \u001b[39mraise\u001b[39;00m CIEIlluminantError(\u001b[39m\"\u001b[39m\u001b[39mThe input illuminant is not a valid CIE standard illuminant.\u001b[39m\u001b[39m\"\u001b[39m)\n\u001b[1;32m   1206\u001b[0m \u001b[39melif\u001b[39;00m \u001b[39misinstance\u001b[39m(illuminant, Illuminant):\n\u001b[1;32m   1207\u001b[0m     \u001b[39mreturn\u001b[39;00m \u001b[39mTrue\u001b[39;00m\n",
      "\u001b[0;31mCIEIlluminantError\u001b[0m: The input illuminant is not a valid CIE standard illuminant."
     ]
    }
   ],
   "source": [
    "sample_XYZ = CIEXYZ(name_id=\"Sample_1\", X=10.234, Y=5.871, Z=22.109, cie_illuminant=\"D30\", observer=2)"
   ]
  },
  {
   "cell_type": "code",
   "execution_count": 8,
   "metadata": {},
   "outputs": [
    {
     "ename": "CIEObserverError",
     "evalue": "The observer should be a CIE standard 1931 or 1964 observer (2º or 10º).",
     "output_type": "error",
     "traceback": [
      "\u001b[0;31m---------------------------------------------------------------------------\u001b[0m",
      "\u001b[0;31mCIEObserverError\u001b[0m                          Traceback (most recent call last)",
      "\u001b[1;32m/Users/adolfomoladatebar/Library/Mobile Documents/com~apple~CloudDocs/GitHub/notebooks_test/02a_Colour_objects.ipynb Cell 16\u001b[0m in \u001b[0;36m<cell line: 1>\u001b[0;34m()\u001b[0m\n\u001b[0;32m----> <a href='vscode-notebook-cell:/Users/adolfomoladatebar/Library/Mobile%20Documents/com~apple~CloudDocs/GitHub/notebooks_test/02a_Colour_objects.ipynb#X21sZmlsZQ%3D%3D?line=0'>1</a>\u001b[0m sample_XYZ \u001b[39m=\u001b[39m CIEXYZ(name_id\u001b[39m=\u001b[39;49m\u001b[39m\"\u001b[39;49m\u001b[39mSample_1\u001b[39;49m\u001b[39m\"\u001b[39;49m, X\u001b[39m=\u001b[39;49m\u001b[39m10.234\u001b[39;49m, Y\u001b[39m=\u001b[39;49m\u001b[39m5.871\u001b[39;49m, Z\u001b[39m=\u001b[39;49m\u001b[39m22.109\u001b[39;49m, cie_illuminant\u001b[39m=\u001b[39;49m\u001b[39m\"\u001b[39;49m\u001b[39mD65\u001b[39;49m\u001b[39m\"\u001b[39;49m, observer\u001b[39m=\u001b[39;49m\u001b[39m20\u001b[39;49m)\n",
      "File \u001b[0;32m~/.local/share/virtualenvs/notebooks_test-m1LjhKG4/lib/python3.9/site-packages/coolpi/colour/cie_colour_spectral.py:1308\u001b[0m, in \u001b[0;36mCIEXYZ.__init__\u001b[0;34m(self, name_id, X, Y, Z, cie_illuminant, observer)\u001b[0m\n\u001b[1;32m   1306\u001b[0m \u001b[39mdef\u001b[39;00m \u001b[39m__init__\u001b[39m(\u001b[39mself\u001b[39m, name_id, X, Y, Z, cie_illuminant \u001b[39m=\u001b[39m \u001b[39m\"\u001b[39m\u001b[39mD65\u001b[39m\u001b[39m\"\u001b[39m, observer \u001b[39m=\u001b[39m \u001b[39m2\u001b[39m):\n\u001b[1;32m   1307\u001b[0m     \u001b[39mself\u001b[39m\u001b[39m.\u001b[39m__illuminant_is_CIE__(cie_illuminant)\n\u001b[0;32m-> 1308\u001b[0m     \u001b[39mself\u001b[39;49m\u001b[39m.\u001b[39;49m__update__(name_id, cie_illuminant, observer, [X, Y, Z])\n",
      "File \u001b[0;32m~/.local/share/virtualenvs/notebooks_test-m1LjhKG4/lib/python3.9/site-packages/coolpi/colour/cie_colour_spectral.py:1314\u001b[0m, in \u001b[0;36mCIEXYZ.__update__\u001b[0;34m(self, name_id, illuminant, observer, coordinates)\u001b[0m\n\u001b[1;32m   1313\u001b[0m \u001b[39mdef\u001b[39;00m \u001b[39m__update__\u001b[39m(\u001b[39mself\u001b[39m, name_id, illuminant, observer, coordinates):\n\u001b[0;32m-> 1314\u001b[0m     \u001b[39msuper\u001b[39;49m()\u001b[39m.\u001b[39;49m__update__(illuminant, observer, coordinates)\n\u001b[1;32m   1315\u001b[0m     \u001b[39mself\u001b[39m\u001b[39m.\u001b[39mname_id \u001b[39m=\u001b[39m name_id\n",
      "File \u001b[0;32m~/.local/share/virtualenvs/notebooks_test-m1LjhKG4/lib/python3.9/site-packages/coolpi/colour/cie_colour_spectral.py:1248\u001b[0m, in \u001b[0;36mColour.__update__\u001b[0;34m(self, illuminant, observer, coordinates)\u001b[0m\n\u001b[1;32m   1246\u001b[0m \u001b[39mdef\u001b[39;00m \u001b[39m__update__\u001b[39m(\u001b[39mself\u001b[39m, illuminant, observer, coordinates):\n\u001b[1;32m   1247\u001b[0m     \u001b[39mself\u001b[39m\u001b[39m.\u001b[39milluminant \u001b[39m=\u001b[39m illuminant\n\u001b[0;32m-> 1248\u001b[0m     \u001b[39mself\u001b[39;49m\u001b[39m.\u001b[39;49mobserver \u001b[39m=\u001b[39m observer\n\u001b[1;32m   1249\u001b[0m     \u001b[39mself\u001b[39m\u001b[39m.\u001b[39mcoordinates \u001b[39m=\u001b[39m coordinates\n",
      "File \u001b[0;32m~/.local/share/virtualenvs/notebooks_test-m1LjhKG4/lib/python3.9/site-packages/coolpi/colour/cie_colour_spectral.py:1220\u001b[0m, in \u001b[0;36mColour.observer\u001b[0;34m(self, observer)\u001b[0m\n\u001b[1;32m   1218\u001b[0m     \u001b[39mself\u001b[39m\u001b[39m.\u001b[39m__observer  \u001b[39m=\u001b[39m observer\n\u001b[1;32m   1219\u001b[0m \u001b[39melse\u001b[39;00m:\n\u001b[0;32m-> 1220\u001b[0m     \u001b[39mself\u001b[39m\u001b[39m.\u001b[39m__observer \u001b[39m=\u001b[39m Observer(observer)\n",
      "File \u001b[0;32m~/.local/share/virtualenvs/notebooks_test-m1LjhKG4/lib/python3.9/site-packages/coolpi/colour/cie_colour_spectral.py:293\u001b[0m, in \u001b[0;36mObserver.__init__\u001b[0;34m(self, observer)\u001b[0m\n\u001b[1;32m    287\u001b[0m \u001b[39mdef\u001b[39;00m \u001b[39m__init__\u001b[39m(\u001b[39mself\u001b[39m, observer\u001b[39m=\u001b[39m\u001b[39m2\u001b[39m):     \n\u001b[1;32m    288\u001b[0m     \u001b[39m'''\u001b[39;00m\n\u001b[1;32m    289\u001b[0m \u001b[39m    The Observer class receives a valid `str` or `int` type for the specification of the 2º or \u001b[39;00m\n\u001b[1;32m    290\u001b[0m \u001b[39m    10º degree CIE standard observer.\u001b[39;00m\n\u001b[1;32m    291\u001b[0m \n\u001b[1;32m    292\u001b[0m \u001b[39m    '''\u001b[39;00m   \n\u001b[0;32m--> 293\u001b[0m     \u001b[39mself\u001b[39;49m\u001b[39m.\u001b[39;49mobserver \u001b[39m=\u001b[39m observer\n",
      "File \u001b[0;32m~/.local/share/virtualenvs/notebooks_test-m1LjhKG4/lib/python3.9/site-packages/coolpi/colour/cie_colour_spectral.py:285\u001b[0m, in \u001b[0;36mObserver.observer\u001b[0;34m(self, observer)\u001b[0m\n\u001b[1;32m    283\u001b[0m     \u001b[39mself\u001b[39m\u001b[39m.\u001b[39m__observer \u001b[39m=\u001b[39m \u001b[39mint\u001b[39m(observer)\n\u001b[1;32m    284\u001b[0m \u001b[39melse\u001b[39;00m:\n\u001b[0;32m--> 285\u001b[0m     \u001b[39mraise\u001b[39;00m CIEObserverError(\u001b[39m\"\u001b[39m\u001b[39mThe observer should be a CIE standard 1931 or 1964 observer (2º or 10º).\u001b[39m\u001b[39m\"\u001b[39m)\n",
      "\u001b[0;31mCIEObserverError\u001b[0m: The observer should be a CIE standard 1931 or 1964 observer (2º or 10º)."
     ]
    }
   ],
   "source": [
    "sample_XYZ = CIEXYZ(name_id=\"Sample_1\", X=10.234, Y=5.871, Z=22.109, cie_illuminant=\"D65\", observer=20)"
   ]
  },
  {
   "cell_type": "markdown",
   "metadata": {},
   "source": [
    "### Attributes"
   ]
  },
  {
   "cell_type": "code",
   "execution_count": 9,
   "metadata": {},
   "outputs": [
    {
     "name": "stdout",
     "output_type": "stream",
     "text": [
      "Colour Object\n",
      "CIE XYZ\n",
      "CIE XYZ\n",
      "Sample_1\n",
      "[10.234, 5.871, 22.109]\n",
      "Illuminant object: CIE D65 standard illuminant\n",
      "2º standard observer (CIE 1931)\n",
      "{'Sample_1': [10.234, 5.871, 22.109]}\n"
     ]
    }
   ],
   "source": [
    "print(sample_XYZ.type)\n",
    "print(sample_XYZ.colour_space()) # subtype\n",
    "print(sample_XYZ.subtype) # returns colour space\n",
    "print(sample_XYZ.name_id)\n",
    "print(sample_XYZ.coordinates)\n",
    "print(sample_XYZ.illuminant)\n",
    "print(sample_XYZ.observer) # Observer str method\n",
    "print(sample_XYZ.get_sample()) # colour data as dict"
   ]
  },
  {
   "cell_type": "markdown",
   "metadata": {},
   "source": [
    "### Methods"
   ]
  },
  {
   "cell_type": "markdown",
   "metadata": {},
   "source": [
    "The `__str__` method returns the string representation of the object. This method is called when the print() or str() \n",
    "function is invoked on an object."
   ]
  },
  {
   "cell_type": "code",
   "execution_count": 10,
   "metadata": {},
   "outputs": [
    {
     "name": "stdout",
     "output_type": "stream",
     "text": [
      "CIEXYZ object: Sample_1 : X =10.234, Y=5.871, Z=22.109\n"
     ]
    }
   ],
   "source": [
    "print(sample_XYZ)"
   ]
  },
  {
   "cell_type": "markdown",
   "metadata": {},
   "source": [
    "`Colour Space Conversion`"
   ]
  },
  {
   "cell_type": "markdown",
   "metadata": {},
   "source": [
    "It is only necessary to execute the class method that performs the colour conversion to the output colour space, for example:"
   ]
  },
  {
   "cell_type": "code",
   "execution_count": 11,
   "metadata": {},
   "outputs": [
    {
     "data": {
      "text/plain": [
       "coolpi.colour.cie_colour_spectral.CIExyY"
      ]
     },
     "execution_count": 11,
     "metadata": {},
     "output_type": "execute_result"
    }
   ],
   "source": [
    "sample_xyY = sample_XYZ.to_xyY() # returns a CIExyY class object\n",
    "type(sample_xyY)"
   ]
  },
  {
   "cell_type": "markdown",
   "metadata": {},
   "source": [
    "Note: After applying the colour conversion, a new Colour object is returned."
   ]
  },
  {
   "cell_type": "markdown",
   "metadata": {},
   "source": [
    "The alternative way to obtain the colour coordinates in the desired output colour space is:"
   ]
  },
  {
   "cell_type": "code",
   "execution_count": 12,
   "metadata": {},
   "outputs": [
    {
     "name": "stdout",
     "output_type": "stream",
     "text": [
      "xyY   =  [0.2678076097765217, 0.1536347935311666, 5.871]\n",
      "uvY   =  [0.24866060039118973, 0.320963881768372, 5.871]\n",
      "LAB   =  [29.084647940987004, 43.545094568382126, -39.82173471482208]\n",
      "LCHab =  [29.084647940987004, 59.008014851094664, 317.5572656376388]\n",
      "LUV   =  [29.084647940987004, 19.22024307991132, -55.72304917618993]\n",
      "LCHuv =  [29.084647940987004, 58.94468554113221, 289.03056690015865]\n"
     ]
    }
   ],
   "source": [
    "print(\"xyY   = \", sample_XYZ.to_xyY().coordinates)\n",
    "print(\"uvY   = \", sample_XYZ.to_uvY().coordinates)\n",
    "print(\"LAB   = \", sample_XYZ.to_LAB().coordinates)\n",
    "print(\"LCHab = \", sample_XYZ.to_LCHab().coordinates)\n",
    "print(\"LUV   = \", sample_XYZ.to_LUV().coordinates)\n",
    "print(\"LCHuv = \", sample_XYZ.to_LCHuv().coordinates)"
   ]
  },
  {
   "cell_type": "markdown",
   "metadata": {},
   "source": [
    "RGB"
   ]
  },
  {
   "cell_type": "code",
   "execution_count": 13,
   "metadata": {},
   "outputs": [
    {
     "name": "stdout",
     "output_type": "stream",
     "text": [
      "sRGB     =  [0.39755114527023666, 0.1523320829991103, 0.5141947956274906]\n",
      "AdobeRGB =  [0.3484283664374471, 0.1522825496876888, 0.5051836729448721]\n",
      "AppleRGB =  [0.3835002641849221, 0.12346656707261819, 0.5212116703733893]\n"
     ]
    }
   ],
   "source": [
    "print(\"sRGB     = \", sample_XYZ.to_RGB(rgb_name_space = \"sRGB\").coordinates)\n",
    "print(\"AdobeRGB = \", sample_XYZ.to_RGB(rgb_name_space = \"Adobe\").coordinates)\n",
    "print(\"AppleRGB = \", sample_XYZ.to_RGB(rgb_name_space = \"Apple\").coordinates)"
   ]
  },
  {
   "cell_type": "markdown",
   "metadata": {},
   "source": [
    "Note: The colour conversion between CIE XYZ and the other CIE spaces is implemented as methods of the class itself. However, it is possible to apply the transformation functions between colour spaces by importing the module `colour_space_conversion`. \n",
    "\n",
    "Please, see notebook `05_Colour_Space_Conversion.ipynb`."
   ]
  },
  {
   "cell_type": "markdown",
   "metadata": {},
   "source": [
    "### CATs - Chromatic Adaptation Transforms"
   ]
  },
  {
   "cell_type": "markdown",
   "metadata": {},
   "source": [
    "CATs are implemented as methods of CIEXYZ class "
   ]
  },
  {
   "cell_type": "markdown",
   "metadata": {},
   "source": [
    "To CIE Illuminant"
   ]
  },
  {
   "cell_type": "markdown",
   "metadata": {},
   "source": [
    "A new *CIEXYZ* instance is created with the XYZ values referred to the new illuminant."
   ]
  },
  {
   "cell_type": "code",
   "execution_count": 14,
   "metadata": {},
   "outputs": [
    {
     "data": {
      "text/plain": [
       "coolpi.colour.cie_colour_spectral.CIEXYZ"
      ]
     },
     "execution_count": 14,
     "metadata": {},
     "output_type": "execute_result"
    }
   ],
   "source": [
    "sample_XYZ_d50 = sample_XYZ.to_CIE_illuminant(to_cie_illuminant_name =\"D50\", to_observer=2, cat_model=\"Bradford\")\n",
    "type(sample_XYZ_d50)"
   ]
  },
  {
   "cell_type": "markdown",
   "metadata": {},
   "source": [
    "Note: The models implemented are: \"von Kries\", \"Bradford\", \"Sharp\", \"CMCCAT200\", \"CAT02\", \"BS\", \"BSPC\"."
   ]
  },
  {
   "cell_type": "markdown",
   "metadata": {},
   "source": [
    "Attributes"
   ]
  },
  {
   "cell_type": "code",
   "execution_count": 15,
   "metadata": {},
   "outputs": [
    {
     "name": "stdout",
     "output_type": "stream",
     "text": [
      "CIE XYZ\n",
      "Sample_1\n",
      "[9.893278796703505, 5.7763373686957, 16.63362389551362]\n",
      "Illuminant object: CIE D50 standard illuminant\n",
      "2º standard observer (CIE 1931)\n",
      "{'Sample_1': [9.893278796703505, 5.7763373686957, 16.63362389551362]}\n"
     ]
    }
   ],
   "source": [
    "print(sample_XYZ_d50.colour_space())\n",
    "print(sample_XYZ_d50.name_id)\n",
    "print(sample_XYZ_d50.coordinates)\n",
    "print(sample_XYZ_d50.illuminant)\n",
    "print(sample_XYZ_d50.observer) \n",
    "print(sample_XYZ_d50.get_sample())"
   ]
  },
  {
   "cell_type": "markdown",
   "metadata": {},
   "source": [
    "Also, it is possible to apply a CAT transform using a user illuminant white point ($X_{n2}$, $Y_{n2}$, $Z_{n2}$). \n",
    "\n",
    "The method returns the XYZ coordinates under the new illuminant:"
   ]
  },
  {
   "cell_type": "code",
   "execution_count": 16,
   "metadata": {},
   "outputs": [
    {
     "name": "stdout",
     "output_type": "stream",
     "text": [
      "The XYZ values in the new illuminant are: 8.233072778635329, 5.34612439356663, 7.078762278967476\n"
     ]
    }
   ],
   "source": [
    "X2, Y2, Z2 = sample_XYZ.to_user_illuminant(Xn2=91.4, Yn2=102.3, Zn2=37.8, cat_model=\"Bradford\")\n",
    "print(f\"The XYZ values in the new illuminant are: {X2}, {Y2}, {Z2}\")"
   ]
  },
  {
   "cell_type": "markdown",
   "metadata": {},
   "source": [
    "## CIE xyY"
   ]
  },
  {
   "cell_type": "code",
   "execution_count": 17,
   "metadata": {},
   "outputs": [],
   "source": [
    "from coolpi.colour.cie_colour_spectral import CIExyY"
   ]
  },
  {
   "cell_type": "markdown",
   "metadata": {},
   "source": [
    "### To create an instance:"
   ]
  },
  {
   "cell_type": "markdown",
   "metadata": {},
   "source": [
    "To create an instance of the `CIExyY` class, simply enter the required parameters as follows:"
   ]
  },
  {
   "cell_type": "code",
   "execution_count": 18,
   "metadata": {},
   "outputs": [],
   "source": [
    "sample_xyY = CIExyY(name_id=\"Sample_1\", x=0.26781, y=0.15364, Y=5.871, cie_illuminant=\"D65\", observer=2)"
   ]
  },
  {
   "cell_type": "markdown",
   "metadata": {},
   "source": [
    "An *Illuminant* instance can also be passed as a parameter:"
   ]
  },
  {
   "cell_type": "code",
   "execution_count": 19,
   "metadata": {},
   "outputs": [],
   "source": [
    "sample_xyY = CIExyY(name_id=\"Sample_1\", x=0.26781, y=0.15364, Y=5.871, cie_illuminant=D65, observer=2)"
   ]
  },
  {
   "cell_type": "markdown",
   "metadata": {},
   "source": [
    "The colour sample should be referred to a valid CIE standard illuminant and observer:"
   ]
  },
  {
   "cell_type": "code",
   "execution_count": 20,
   "metadata": {},
   "outputs": [
    {
     "ename": "CIEIlluminantError",
     "evalue": "The input illuminant is not a valid CIE standard illuminant.",
     "output_type": "error",
     "traceback": [
      "\u001b[0;31m---------------------------------------------------------------------------\u001b[0m",
      "\u001b[0;31mCIEIlluminantError\u001b[0m                        Traceback (most recent call last)",
      "\u001b[1;32m/Users/adolfomoladatebar/Library/Mobile Documents/com~apple~CloudDocs/GitHub/notebooks_test/02a_Colour_objects.ipynb Cell 49\u001b[0m in \u001b[0;36m<cell line: 1>\u001b[0;34m()\u001b[0m\n\u001b[0;32m----> <a href='vscode-notebook-cell:/Users/adolfomoladatebar/Library/Mobile%20Documents/com~apple~CloudDocs/GitHub/notebooks_test/02a_Colour_objects.ipynb#X66sZmlsZQ%3D%3D?line=0'>1</a>\u001b[0m sample_xyY \u001b[39m=\u001b[39m CIExyY(name_id\u001b[39m=\u001b[39;49m\u001b[39m\"\u001b[39;49m\u001b[39mSample_1\u001b[39;49m\u001b[39m\"\u001b[39;49m, x\u001b[39m=\u001b[39;49m\u001b[39m0.26781\u001b[39;49m, y\u001b[39m=\u001b[39;49m\u001b[39m0.15364\u001b[39;49m, Y\u001b[39m=\u001b[39;49m\u001b[39m5.871\u001b[39;49m, cie_illuminant\u001b[39m=\u001b[39;49m\u001b[39m\"\u001b[39;49m\u001b[39mD30\u001b[39;49m\u001b[39m\"\u001b[39;49m, observer\u001b[39m=\u001b[39;49m\u001b[39m2\u001b[39;49m)\n",
      "File \u001b[0;32m~/.local/share/virtualenvs/notebooks_test-m1LjhKG4/lib/python3.9/site-packages/coolpi/colour/cie_colour_spectral.py:1454\u001b[0m, in \u001b[0;36mCIExyY.__init__\u001b[0;34m(self, name_id, x, y, Y, cie_illuminant, observer)\u001b[0m\n\u001b[1;32m   1453\u001b[0m \u001b[39mdef\u001b[39;00m \u001b[39m__init__\u001b[39m(\u001b[39mself\u001b[39m, name_id, x, y , Y, cie_illuminant \u001b[39m=\u001b[39m \u001b[39m\"\u001b[39m\u001b[39mD65\u001b[39m\u001b[39m\"\u001b[39m, observer \u001b[39m=\u001b[39m \u001b[39m2\u001b[39m):\n\u001b[0;32m-> 1454\u001b[0m     \u001b[39mself\u001b[39;49m\u001b[39m.\u001b[39;49m__illuminant_is_CIE__(cie_illuminant)\n\u001b[1;32m   1455\u001b[0m     \u001b[39mself\u001b[39m\u001b[39m.\u001b[39m__update__(name_id, cie_illuminant, observer, [x, y, Y])\n",
      "File \u001b[0;32m~/.local/share/virtualenvs/notebooks_test-m1LjhKG4/lib/python3.9/site-packages/coolpi/colour/cie_colour_spectral.py:1205\u001b[0m, in \u001b[0;36mColour.__illuminant_is_CIE__\u001b[0;34m(self, illuminant)\u001b[0m\n\u001b[1;32m   1203\u001b[0m         \u001b[39mreturn\u001b[39;00m \u001b[39mTrue\u001b[39;00m\n\u001b[1;32m   1204\u001b[0m     \u001b[39melse\u001b[39;00m:\n\u001b[0;32m-> 1205\u001b[0m         \u001b[39mraise\u001b[39;00m CIEIlluminantError(\u001b[39m\"\u001b[39m\u001b[39mThe input illuminant is not a valid CIE standard illuminant.\u001b[39m\u001b[39m\"\u001b[39m)\n\u001b[1;32m   1206\u001b[0m \u001b[39melif\u001b[39;00m \u001b[39misinstance\u001b[39m(illuminant, Illuminant):\n\u001b[1;32m   1207\u001b[0m     \u001b[39mreturn\u001b[39;00m \u001b[39mTrue\u001b[39;00m\n",
      "\u001b[0;31mCIEIlluminantError\u001b[0m: The input illuminant is not a valid CIE standard illuminant."
     ]
    }
   ],
   "source": [
    "sample_xyY = CIExyY(name_id=\"Sample_1\", x=0.26781, y=0.15364, Y=5.871, cie_illuminant=\"D30\", observer=2)"
   ]
  },
  {
   "cell_type": "code",
   "execution_count": 21,
   "metadata": {},
   "outputs": [
    {
     "ename": "CIEObserverError",
     "evalue": "The observer should be a CIE standard 1931 or 1964 observer (2º or 10º).",
     "output_type": "error",
     "traceback": [
      "\u001b[0;31m---------------------------------------------------------------------------\u001b[0m",
      "\u001b[0;31mCIEObserverError\u001b[0m                          Traceback (most recent call last)",
      "\u001b[1;32m/Users/adolfomoladatebar/Library/Mobile Documents/com~apple~CloudDocs/GitHub/notebooks_test/02a_Colour_objects.ipynb Cell 50\u001b[0m in \u001b[0;36m<cell line: 1>\u001b[0;34m()\u001b[0m\n\u001b[0;32m----> <a href='vscode-notebook-cell:/Users/adolfomoladatebar/Library/Mobile%20Documents/com~apple~CloudDocs/GitHub/notebooks_test/02a_Colour_objects.ipynb#Y100sZmlsZQ%3D%3D?line=0'>1</a>\u001b[0m sample_xyY \u001b[39m=\u001b[39m CIExyY(name_id\u001b[39m=\u001b[39;49m\u001b[39m\"\u001b[39;49m\u001b[39mSample_1\u001b[39;49m\u001b[39m\"\u001b[39;49m, x\u001b[39m=\u001b[39;49m\u001b[39m0.26781\u001b[39;49m, y\u001b[39m=\u001b[39;49m\u001b[39m0.15364\u001b[39;49m, Y\u001b[39m=\u001b[39;49m\u001b[39m5.871\u001b[39;49m, cie_illuminant\u001b[39m=\u001b[39;49m\u001b[39m\"\u001b[39;49m\u001b[39mD65\u001b[39;49m\u001b[39m\"\u001b[39;49m, observer\u001b[39m=\u001b[39;49m\u001b[39m20\u001b[39;49m)\n",
      "File \u001b[0;32m~/.local/share/virtualenvs/notebooks_test-m1LjhKG4/lib/python3.9/site-packages/coolpi/colour/cie_colour_spectral.py:1455\u001b[0m, in \u001b[0;36mCIExyY.__init__\u001b[0;34m(self, name_id, x, y, Y, cie_illuminant, observer)\u001b[0m\n\u001b[1;32m   1453\u001b[0m \u001b[39mdef\u001b[39;00m \u001b[39m__init__\u001b[39m(\u001b[39mself\u001b[39m, name_id, x, y , Y, cie_illuminant \u001b[39m=\u001b[39m \u001b[39m\"\u001b[39m\u001b[39mD65\u001b[39m\u001b[39m\"\u001b[39m, observer \u001b[39m=\u001b[39m \u001b[39m2\u001b[39m):\n\u001b[1;32m   1454\u001b[0m     \u001b[39mself\u001b[39m\u001b[39m.\u001b[39m__illuminant_is_CIE__(cie_illuminant)\n\u001b[0;32m-> 1455\u001b[0m     \u001b[39mself\u001b[39;49m\u001b[39m.\u001b[39;49m__update__(name_id, cie_illuminant, observer, [x, y, Y])\n",
      "File \u001b[0;32m~/.local/share/virtualenvs/notebooks_test-m1LjhKG4/lib/python3.9/site-packages/coolpi/colour/cie_colour_spectral.py:1461\u001b[0m, in \u001b[0;36mCIExyY.__update__\u001b[0;34m(self, name_id, illuminant_name, observer, coordinates)\u001b[0m\n\u001b[1;32m   1460\u001b[0m \u001b[39mdef\u001b[39;00m \u001b[39m__update__\u001b[39m(\u001b[39mself\u001b[39m, name_id, illuminant_name, observer, coordinates):\n\u001b[0;32m-> 1461\u001b[0m     \u001b[39msuper\u001b[39;49m()\u001b[39m.\u001b[39;49m__update__(illuminant_name, observer, coordinates)\n\u001b[1;32m   1462\u001b[0m     \u001b[39mself\u001b[39m\u001b[39m.\u001b[39mname_id \u001b[39m=\u001b[39m name_id\n",
      "File \u001b[0;32m~/.local/share/virtualenvs/notebooks_test-m1LjhKG4/lib/python3.9/site-packages/coolpi/colour/cie_colour_spectral.py:1248\u001b[0m, in \u001b[0;36mColour.__update__\u001b[0;34m(self, illuminant, observer, coordinates)\u001b[0m\n\u001b[1;32m   1246\u001b[0m \u001b[39mdef\u001b[39;00m \u001b[39m__update__\u001b[39m(\u001b[39mself\u001b[39m, illuminant, observer, coordinates):\n\u001b[1;32m   1247\u001b[0m     \u001b[39mself\u001b[39m\u001b[39m.\u001b[39milluminant \u001b[39m=\u001b[39m illuminant\n\u001b[0;32m-> 1248\u001b[0m     \u001b[39mself\u001b[39;49m\u001b[39m.\u001b[39;49mobserver \u001b[39m=\u001b[39m observer\n\u001b[1;32m   1249\u001b[0m     \u001b[39mself\u001b[39m\u001b[39m.\u001b[39mcoordinates \u001b[39m=\u001b[39m coordinates\n",
      "File \u001b[0;32m~/.local/share/virtualenvs/notebooks_test-m1LjhKG4/lib/python3.9/site-packages/coolpi/colour/cie_colour_spectral.py:1220\u001b[0m, in \u001b[0;36mColour.observer\u001b[0;34m(self, observer)\u001b[0m\n\u001b[1;32m   1218\u001b[0m     \u001b[39mself\u001b[39m\u001b[39m.\u001b[39m__observer  \u001b[39m=\u001b[39m observer\n\u001b[1;32m   1219\u001b[0m \u001b[39melse\u001b[39;00m:\n\u001b[0;32m-> 1220\u001b[0m     \u001b[39mself\u001b[39m\u001b[39m.\u001b[39m__observer \u001b[39m=\u001b[39m Observer(observer)\n",
      "File \u001b[0;32m~/.local/share/virtualenvs/notebooks_test-m1LjhKG4/lib/python3.9/site-packages/coolpi/colour/cie_colour_spectral.py:293\u001b[0m, in \u001b[0;36mObserver.__init__\u001b[0;34m(self, observer)\u001b[0m\n\u001b[1;32m    287\u001b[0m \u001b[39mdef\u001b[39;00m \u001b[39m__init__\u001b[39m(\u001b[39mself\u001b[39m, observer\u001b[39m=\u001b[39m\u001b[39m2\u001b[39m):     \n\u001b[1;32m    288\u001b[0m     \u001b[39m'''\u001b[39;00m\n\u001b[1;32m    289\u001b[0m \u001b[39m    The Observer class receives a valid `str` or `int` type for the specification of the 2º or \u001b[39;00m\n\u001b[1;32m    290\u001b[0m \u001b[39m    10º degree CIE standard observer.\u001b[39;00m\n\u001b[1;32m    291\u001b[0m \n\u001b[1;32m    292\u001b[0m \u001b[39m    '''\u001b[39;00m   \n\u001b[0;32m--> 293\u001b[0m     \u001b[39mself\u001b[39;49m\u001b[39m.\u001b[39;49mobserver \u001b[39m=\u001b[39m observer\n",
      "File \u001b[0;32m~/.local/share/virtualenvs/notebooks_test-m1LjhKG4/lib/python3.9/site-packages/coolpi/colour/cie_colour_spectral.py:285\u001b[0m, in \u001b[0;36mObserver.observer\u001b[0;34m(self, observer)\u001b[0m\n\u001b[1;32m    283\u001b[0m     \u001b[39mself\u001b[39m\u001b[39m.\u001b[39m__observer \u001b[39m=\u001b[39m \u001b[39mint\u001b[39m(observer)\n\u001b[1;32m    284\u001b[0m \u001b[39melse\u001b[39;00m:\n\u001b[0;32m--> 285\u001b[0m     \u001b[39mraise\u001b[39;00m CIEObserverError(\u001b[39m\"\u001b[39m\u001b[39mThe observer should be a CIE standard 1931 or 1964 observer (2º or 10º).\u001b[39m\u001b[39m\"\u001b[39m)\n",
      "\u001b[0;31mCIEObserverError\u001b[0m: The observer should be a CIE standard 1931 or 1964 observer (2º or 10º)."
     ]
    }
   ],
   "source": [
    "sample_xyY = CIExyY(name_id=\"Sample_1\", x=0.26781, y=0.15364, Y=5.871, cie_illuminant=\"D65\", observer=20)"
   ]
  },
  {
   "cell_type": "markdown",
   "metadata": {},
   "source": [
    "### Attributes"
   ]
  },
  {
   "cell_type": "code",
   "execution_count": 22,
   "metadata": {},
   "outputs": [
    {
     "name": "stdout",
     "output_type": "stream",
     "text": [
      "Colour Object\n",
      "CIE xyY\n",
      "CIE xyY\n",
      "Sample_1\n",
      "[0.26781, 0.15364, 5.871]\n",
      "Illuminant object: CIE D65 standard illuminant\n",
      "2º standard observer (CIE 1931)\n",
      "{'Sample_1': [0.26781, 0.15364, 5.871]}\n"
     ]
    }
   ],
   "source": [
    "print(sample_xyY.type)\n",
    "print(sample_xyY.colour_space()) # subtype\n",
    "print(sample_xyY.subtype) # returns colour space\n",
    "print(sample_xyY.name_id)\n",
    "print(sample_xyY.coordinates)\n",
    "print(sample_xyY.illuminant)\n",
    "print(sample_xyY.observer) # str method\n",
    "print(sample_xyY.get_sample()) # colour data as dict"
   ]
  },
  {
   "cell_type": "markdown",
   "metadata": {},
   "source": [
    "### Methods"
   ]
  },
  {
   "cell_type": "markdown",
   "metadata": {},
   "source": [
    "The `__str__` method returns the string representation of the object. This method is called when the print() or str() \n",
    "function is invoked on an object."
   ]
  },
  {
   "cell_type": "code",
   "execution_count": 23,
   "metadata": {},
   "outputs": [
    {
     "name": "stdout",
     "output_type": "stream",
     "text": [
      "CIExyY object: Sample_1 : x =0.26781, y=0.15364, Y=5.871\n"
     ]
    }
   ],
   "source": [
    "print(sample_xyY)"
   ]
  },
  {
   "cell_type": "markdown",
   "metadata": {},
   "source": [
    "`Colour space conversion`:"
   ]
  },
  {
   "cell_type": "markdown",
   "metadata": {},
   "source": [
    "It is only necessary to execute the class method that performs the colour conversion to the output colour space, for example:"
   ]
  },
  {
   "cell_type": "code",
   "execution_count": 24,
   "metadata": {},
   "outputs": [
    {
     "data": {
      "text/plain": [
       "coolpi.colour.cie_colour_spectral.CIEuvY"
      ]
     },
     "execution_count": 24,
     "metadata": {},
     "output_type": "execute_result"
    }
   ],
   "source": [
    "sample_uvY = sample_xyY.to_uvY() # returns a CIELAB class object\n",
    "type(sample_uvY)"
   ]
  },
  {
   "cell_type": "markdown",
   "metadata": {},
   "source": [
    "Note: After applying the colour conversion, a new Colour object is returned."
   ]
  },
  {
   "cell_type": "markdown",
   "metadata": {},
   "source": [
    "The alternative way to obtain the colour coordinates in the desired output colour space is:"
   ]
  },
  {
   "cell_type": "code",
   "execution_count": 25,
   "metadata": {},
   "outputs": [
    {
     "name": "stdout",
     "output_type": "stream",
     "text": [
      "XYZ   =  [10.233744532673784, 5.871, 22.107960492059362]\n",
      "uvY   =  [0.24865948942215288, 0.32097046002144813, 5.871]\n",
      "LAB   =  [29.084647940987004, 43.54311522120996, -39.81989232614932]\n",
      "LCHab =  [29.084647940987004, 59.005310846005145, 317.55728877376833]\n",
      "LUV   =  [29.084647940987004, 19.21982302204829, -55.72056193591771]\n",
      "LCHuv =  [29.084647940987004, 58.942197273712985, 289.03096925944504]\n"
     ]
    }
   ],
   "source": [
    "print(\"XYZ   = \", sample_xyY.to_XYZ().coordinates)\n",
    "print(\"uvY   = \", sample_xyY.to_uvY().coordinates)\n",
    "print(\"LAB   = \", sample_xyY.to_LAB().coordinates)\n",
    "print(\"LCHab = \", sample_xyY.to_LCHab().coordinates)\n",
    "print(\"LUV   = \", sample_xyY.to_LUV().coordinates)\n",
    "print(\"LCHuv = \", sample_xyY.to_LCHuv().coordinates)"
   ]
  },
  {
   "cell_type": "markdown",
   "metadata": {},
   "source": [
    "RGB"
   ]
  },
  {
   "cell_type": "code",
   "execution_count": 26,
   "metadata": {},
   "outputs": [
    {
     "name": "stdout",
     "output_type": "stream",
     "text": [
      "sRGB     =  [0.3975466946551014, 0.1523408468071324, 0.5141831884504302]\n",
      "AdobeRGB =  [0.3484256104933206, 0.15229131747801383, 0.5051723823847176]\n",
      "AppleRGB =  [0.38349633557812984, 0.12347918390545604, 0.5211998170812592]\n"
     ]
    }
   ],
   "source": [
    "print(\"sRGB     = \", sample_xyY.to_RGB(rgb_name_space = \"sRGB\").coordinates)\n",
    "print(\"AdobeRGB = \", sample_xyY.to_RGB(rgb_name_space = \"Adobe\").coordinates)\n",
    "print(\"AppleRGB = \", sample_xyY.to_RGB(rgb_name_space = \"Apple\").coordinates)"
   ]
  },
  {
   "cell_type": "markdown",
   "metadata": {},
   "source": [
    "### CIE 1931 x,y Chromaticity Diagram "
   ]
  },
  {
   "cell_type": "markdown",
   "metadata": {},
   "source": [
    "*CIExyY* objects can be represented in the CIE 1931 Chromaticity Diagram as follows:"
   ]
  },
  {
   "cell_type": "code",
   "execution_count": 27,
   "metadata": {},
   "outputs": [
    {
     "data": {
      "image/png": "[encoded data removed]",
      "text/plain": [
       "<Figure size 800x800 with 1 Axes>"
      ]
     },
     "metadata": {},
     "output_type": "display_data"
    }
   ],
   "source": [
    "sample_xyY.plot()"
   ]
  },
  {
   "cell_type": "markdown",
   "metadata": {},
   "source": [
    "To save the figure:"
   ]
  },
  {
   "cell_type": "markdown",
   "metadata": {},
   "source": [
    "Note: It is possible to save the figure by specifying save_figure = `True`, and entering the output path"
   ]
  },
  {
   "cell_type": "code",
   "execution_count": 28,
   "metadata": {},
   "outputs": [],
   "source": [
    "path_figure = os.path.join(*[\"res\", \"plot\", \"xy_sample.png\"]) # your path here\n",
    "sample_xyY.plot(show_figure = False, save_figure = True, output_path = path_figure)"
   ]
  },
  {
   "cell_type": "markdown",
   "metadata": {},
   "source": [
    "## CIEuvY"
   ]
  },
  {
   "cell_type": "code",
   "execution_count": 29,
   "metadata": {},
   "outputs": [],
   "source": [
    "from coolpi.colour.cie_colour_spectral import CIEuvY"
   ]
  },
  {
   "cell_type": "markdown",
   "metadata": {},
   "source": [
    "### To create an instance"
   ]
  },
  {
   "cell_type": "markdown",
   "metadata": {},
   "source": [
    "To create an instance of the `CIEuvY` class, simply enter the required parameters as follows:"
   ]
  },
  {
   "cell_type": "code",
   "execution_count": 30,
   "metadata": {},
   "outputs": [],
   "source": [
    "sample_uvY = CIEuvY(name_id=\"Sample_1\", u=0.24866, v=0.32096, Y=5.871, cie_illuminant=\"D65\", observer=2)"
   ]
  },
  {
   "cell_type": "markdown",
   "metadata": {},
   "source": [
    "An *Illuminant* instance can also be passed as a parameter:"
   ]
  },
  {
   "cell_type": "code",
   "execution_count": 31,
   "metadata": {},
   "outputs": [],
   "source": [
    "sample_uvY = CIEuvY(name_id=\"Sample_1\", u=0.24866, v=0.32096, Y=5.871, cie_illuminant=D65, observer=2)"
   ]
  },
  {
   "cell_type": "markdown",
   "metadata": {},
   "source": [
    "The colour sample should be referred to a valid CIE standard illuminant and observer:"
   ]
  },
  {
   "cell_type": "code",
   "execution_count": 32,
   "metadata": {},
   "outputs": [
    {
     "ename": "CIEIlluminantError",
     "evalue": "The input illuminant is not a valid CIE standard illuminant.",
     "output_type": "error",
     "traceback": [
      "\u001b[0;31m---------------------------------------------------------------------------\u001b[0m",
      "\u001b[0;31mCIEIlluminantError\u001b[0m                        Traceback (most recent call last)",
      "\u001b[1;32m/Users/adolfomoladatebar/Library/Mobile Documents/com~apple~CloudDocs/GitHub/notebooks_test/02a_Colour_objects.ipynb Cell 78\u001b[0m in \u001b[0;36m<cell line: 1>\u001b[0;34m()\u001b[0m\n\u001b[0;32m----> <a href='vscode-notebook-cell:/Users/adolfomoladatebar/Library/Mobile%20Documents/com~apple~CloudDocs/GitHub/notebooks_test/02a_Colour_objects.ipynb#Y140sZmlsZQ%3D%3D?line=0'>1</a>\u001b[0m sample_uvY \u001b[39m=\u001b[39m CIEuvY(name_id\u001b[39m=\u001b[39;49m\u001b[39m\"\u001b[39;49m\u001b[39mSample_1\u001b[39;49m\u001b[39m\"\u001b[39;49m, u\u001b[39m=\u001b[39;49m\u001b[39m0.24866\u001b[39;49m, v\u001b[39m=\u001b[39;49m\u001b[39m0.32096\u001b[39;49m, Y\u001b[39m=\u001b[39;49m\u001b[39m5.871\u001b[39;49m, cie_illuminant\u001b[39m=\u001b[39;49m\u001b[39m\"\u001b[39;49m\u001b[39mD30\u001b[39;49m\u001b[39m\"\u001b[39;49m, observer\u001b[39m=\u001b[39;49m\u001b[39m2\u001b[39;49m)\n",
      "File \u001b[0;32m~/.local/share/virtualenvs/notebooks_test-m1LjhKG4/lib/python3.9/site-packages/coolpi/colour/cie_colour_spectral.py:1595\u001b[0m, in \u001b[0;36mCIEuvY.__init__\u001b[0;34m(self, name_id, u, v, Y, cie_illuminant, observer)\u001b[0m\n\u001b[1;32m   1594\u001b[0m \u001b[39mdef\u001b[39;00m \u001b[39m__init__\u001b[39m(\u001b[39mself\u001b[39m, name_id, u, v, Y, cie_illuminant \u001b[39m=\u001b[39m \u001b[39m\"\u001b[39m\u001b[39mD65\u001b[39m\u001b[39m\"\u001b[39m, observer \u001b[39m=\u001b[39m \u001b[39m2\u001b[39m):\n\u001b[0;32m-> 1595\u001b[0m     \u001b[39mself\u001b[39;49m\u001b[39m.\u001b[39;49m__illuminant_is_CIE__(cie_illuminant)\n\u001b[1;32m   1596\u001b[0m     \u001b[39mself\u001b[39m\u001b[39m.\u001b[39m__update__(name_id, cie_illuminant, observer, [u, v, Y])\n",
      "File \u001b[0;32m~/.local/share/virtualenvs/notebooks_test-m1LjhKG4/lib/python3.9/site-packages/coolpi/colour/cie_colour_spectral.py:1205\u001b[0m, in \u001b[0;36mColour.__illuminant_is_CIE__\u001b[0;34m(self, illuminant)\u001b[0m\n\u001b[1;32m   1203\u001b[0m         \u001b[39mreturn\u001b[39;00m \u001b[39mTrue\u001b[39;00m\n\u001b[1;32m   1204\u001b[0m     \u001b[39melse\u001b[39;00m:\n\u001b[0;32m-> 1205\u001b[0m         \u001b[39mraise\u001b[39;00m CIEIlluminantError(\u001b[39m\"\u001b[39m\u001b[39mThe input illuminant is not a valid CIE standard illuminant.\u001b[39m\u001b[39m\"\u001b[39m)\n\u001b[1;32m   1206\u001b[0m \u001b[39melif\u001b[39;00m \u001b[39misinstance\u001b[39m(illuminant, Illuminant):\n\u001b[1;32m   1207\u001b[0m     \u001b[39mreturn\u001b[39;00m \u001b[39mTrue\u001b[39;00m\n",
      "\u001b[0;31mCIEIlluminantError\u001b[0m: The input illuminant is not a valid CIE standard illuminant."
     ]
    }
   ],
   "source": [
    "sample_uvY = CIEuvY(name_id=\"Sample_1\", u=0.24866, v=0.32096, Y=5.871, cie_illuminant=\"D30\", observer=2)"
   ]
  },
  {
   "cell_type": "code",
   "execution_count": 33,
   "metadata": {},
   "outputs": [
    {
     "ename": "CIEObserverError",
     "evalue": "The observer should be a CIE standard 1931 or 1964 observer (2º or 10º).",
     "output_type": "error",
     "traceback": [
      "\u001b[0;31m---------------------------------------------------------------------------\u001b[0m",
      "\u001b[0;31mCIEObserverError\u001b[0m                          Traceback (most recent call last)",
      "\u001b[1;32m/Users/adolfomoladatebar/Library/Mobile Documents/com~apple~CloudDocs/GitHub/notebooks_test/02a_Colour_objects.ipynb Cell 79\u001b[0m in \u001b[0;36m<cell line: 1>\u001b[0;34m()\u001b[0m\n\u001b[0;32m----> <a href='vscode-notebook-cell:/Users/adolfomoladatebar/Library/Mobile%20Documents/com~apple~CloudDocs/GitHub/notebooks_test/02a_Colour_objects.ipynb#Y141sZmlsZQ%3D%3D?line=0'>1</a>\u001b[0m sample_uvY \u001b[39m=\u001b[39m CIEuvY(name_id\u001b[39m=\u001b[39;49m\u001b[39m\"\u001b[39;49m\u001b[39mSample_1\u001b[39;49m\u001b[39m\"\u001b[39;49m, u\u001b[39m=\u001b[39;49m\u001b[39m0.24866\u001b[39;49m, v\u001b[39m=\u001b[39;49m\u001b[39m0.32096\u001b[39;49m, Y\u001b[39m=\u001b[39;49m\u001b[39m5.871\u001b[39;49m, cie_illuminant\u001b[39m=\u001b[39;49m\u001b[39m\"\u001b[39;49m\u001b[39mD65\u001b[39;49m\u001b[39m\"\u001b[39;49m, observer\u001b[39m=\u001b[39;49m\u001b[39m20\u001b[39;49m)\n",
      "File \u001b[0;32m~/.local/share/virtualenvs/notebooks_test-m1LjhKG4/lib/python3.9/site-packages/coolpi/colour/cie_colour_spectral.py:1596\u001b[0m, in \u001b[0;36mCIEuvY.__init__\u001b[0;34m(self, name_id, u, v, Y, cie_illuminant, observer)\u001b[0m\n\u001b[1;32m   1594\u001b[0m \u001b[39mdef\u001b[39;00m \u001b[39m__init__\u001b[39m(\u001b[39mself\u001b[39m, name_id, u, v, Y, cie_illuminant \u001b[39m=\u001b[39m \u001b[39m\"\u001b[39m\u001b[39mD65\u001b[39m\u001b[39m\"\u001b[39m, observer \u001b[39m=\u001b[39m \u001b[39m2\u001b[39m):\n\u001b[1;32m   1595\u001b[0m     \u001b[39mself\u001b[39m\u001b[39m.\u001b[39m__illuminant_is_CIE__(cie_illuminant)\n\u001b[0;32m-> 1596\u001b[0m     \u001b[39mself\u001b[39;49m\u001b[39m.\u001b[39;49m__update__(name_id, cie_illuminant, observer, [u, v, Y])\n",
      "File \u001b[0;32m~/.local/share/virtualenvs/notebooks_test-m1LjhKG4/lib/python3.9/site-packages/coolpi/colour/cie_colour_spectral.py:1602\u001b[0m, in \u001b[0;36mCIEuvY.__update__\u001b[0;34m(self, name_id, illuminant, observer, coordinates)\u001b[0m\n\u001b[1;32m   1601\u001b[0m \u001b[39mdef\u001b[39;00m \u001b[39m__update__\u001b[39m(\u001b[39mself\u001b[39m, name_id, illuminant, observer, coordinates):\n\u001b[0;32m-> 1602\u001b[0m     \u001b[39msuper\u001b[39;49m()\u001b[39m.\u001b[39;49m__update__(illuminant, observer, coordinates)\n\u001b[1;32m   1603\u001b[0m     \u001b[39mself\u001b[39m\u001b[39m.\u001b[39mname_id \u001b[39m=\u001b[39m name_id\n",
      "File \u001b[0;32m~/.local/share/virtualenvs/notebooks_test-m1LjhKG4/lib/python3.9/site-packages/coolpi/colour/cie_colour_spectral.py:1248\u001b[0m, in \u001b[0;36mColour.__update__\u001b[0;34m(self, illuminant, observer, coordinates)\u001b[0m\n\u001b[1;32m   1246\u001b[0m \u001b[39mdef\u001b[39;00m \u001b[39m__update__\u001b[39m(\u001b[39mself\u001b[39m, illuminant, observer, coordinates):\n\u001b[1;32m   1247\u001b[0m     \u001b[39mself\u001b[39m\u001b[39m.\u001b[39milluminant \u001b[39m=\u001b[39m illuminant\n\u001b[0;32m-> 1248\u001b[0m     \u001b[39mself\u001b[39;49m\u001b[39m.\u001b[39;49mobserver \u001b[39m=\u001b[39m observer\n\u001b[1;32m   1249\u001b[0m     \u001b[39mself\u001b[39m\u001b[39m.\u001b[39mcoordinates \u001b[39m=\u001b[39m coordinates\n",
      "File \u001b[0;32m~/.local/share/virtualenvs/notebooks_test-m1LjhKG4/lib/python3.9/site-packages/coolpi/colour/cie_colour_spectral.py:1220\u001b[0m, in \u001b[0;36mColour.observer\u001b[0;34m(self, observer)\u001b[0m\n\u001b[1;32m   1218\u001b[0m     \u001b[39mself\u001b[39m\u001b[39m.\u001b[39m__observer  \u001b[39m=\u001b[39m observer\n\u001b[1;32m   1219\u001b[0m \u001b[39melse\u001b[39;00m:\n\u001b[0;32m-> 1220\u001b[0m     \u001b[39mself\u001b[39m\u001b[39m.\u001b[39m__observer \u001b[39m=\u001b[39m Observer(observer)\n",
      "File \u001b[0;32m~/.local/share/virtualenvs/notebooks_test-m1LjhKG4/lib/python3.9/site-packages/coolpi/colour/cie_colour_spectral.py:293\u001b[0m, in \u001b[0;36mObserver.__init__\u001b[0;34m(self, observer)\u001b[0m\n\u001b[1;32m    287\u001b[0m \u001b[39mdef\u001b[39;00m \u001b[39m__init__\u001b[39m(\u001b[39mself\u001b[39m, observer\u001b[39m=\u001b[39m\u001b[39m2\u001b[39m):     \n\u001b[1;32m    288\u001b[0m     \u001b[39m'''\u001b[39;00m\n\u001b[1;32m    289\u001b[0m \u001b[39m    The Observer class receives a valid `str` or `int` type for the specification of the 2º or \u001b[39;00m\n\u001b[1;32m    290\u001b[0m \u001b[39m    10º degree CIE standard observer.\u001b[39;00m\n\u001b[1;32m    291\u001b[0m \n\u001b[1;32m    292\u001b[0m \u001b[39m    '''\u001b[39;00m   \n\u001b[0;32m--> 293\u001b[0m     \u001b[39mself\u001b[39;49m\u001b[39m.\u001b[39;49mobserver \u001b[39m=\u001b[39m observer\n",
      "File \u001b[0;32m~/.local/share/virtualenvs/notebooks_test-m1LjhKG4/lib/python3.9/site-packages/coolpi/colour/cie_colour_spectral.py:285\u001b[0m, in \u001b[0;36mObserver.observer\u001b[0;34m(self, observer)\u001b[0m\n\u001b[1;32m    283\u001b[0m     \u001b[39mself\u001b[39m\u001b[39m.\u001b[39m__observer \u001b[39m=\u001b[39m \u001b[39mint\u001b[39m(observer)\n\u001b[1;32m    284\u001b[0m \u001b[39melse\u001b[39;00m:\n\u001b[0;32m--> 285\u001b[0m     \u001b[39mraise\u001b[39;00m CIEObserverError(\u001b[39m\"\u001b[39m\u001b[39mThe observer should be a CIE standard 1931 or 1964 observer (2º or 10º).\u001b[39m\u001b[39m\"\u001b[39m)\n",
      "\u001b[0;31mCIEObserverError\u001b[0m: The observer should be a CIE standard 1931 or 1964 observer (2º or 10º)."
     ]
    }
   ],
   "source": [
    "sample_uvY = CIEuvY(name_id=\"Sample_1\", u=0.24866, v=0.32096, Y=5.871, cie_illuminant=\"D65\", observer=20)"
   ]
  },
  {
   "cell_type": "markdown",
   "metadata": {},
   "source": [
    "### Attributes"
   ]
  },
  {
   "cell_type": "code",
   "execution_count": 34,
   "metadata": {},
   "outputs": [
    {
     "name": "stdout",
     "output_type": "stream",
     "text": [
      "Colour Object\n",
      "CIE u'v'Y\n",
      "CIE u'v'Y\n",
      "Sample_1\n",
      "[0.24866, 0.32096, 5.871]\n",
      "Illuminant object: CIE D65 standard illuminant\n",
      "2º standard observer (CIE 1931)\n",
      "{'Sample_1': [0.24866, 0.32096, 5.871]}\n"
     ]
    }
   ],
   "source": [
    "print(sample_uvY.type)\n",
    "print(sample_uvY.colour_space()) # subtype\n",
    "print(sample_uvY.subtype) # returns colour space\n",
    "print(sample_uvY.name_id)\n",
    "print(sample_uvY.coordinates)\n",
    "print(sample_uvY.illuminant) # str method\n",
    "print(sample_uvY.observer) # str method\n",
    "print(sample_uvY.get_sample()) # colour data as dict"
   ]
  },
  {
   "cell_type": "markdown",
   "metadata": {},
   "source": [
    "### Methods"
   ]
  },
  {
   "cell_type": "markdown",
   "metadata": {},
   "source": [
    "The `__str__` method returns the string representation of the object. This method is called when the print() or str() \n",
    "function is invoked on an object."
   ]
  },
  {
   "cell_type": "code",
   "execution_count": 35,
   "metadata": {},
   "outputs": [
    {
     "name": "stdout",
     "output_type": "stream",
     "text": [
      "CIEuvY object: Sample_1 : u' =0.24866, v'=0.32096, Y=5.871\n"
     ]
    }
   ],
   "source": [
    "print(sample_uvY)"
   ]
  },
  {
   "cell_type": "markdown",
   "metadata": {},
   "source": [
    "`Colour space conversion`:"
   ]
  },
  {
   "cell_type": "markdown",
   "metadata": {},
   "source": [
    "It is only necessary to execute the class method that performs the colour conversion to the output colour space, for example:"
   ]
  },
  {
   "cell_type": "code",
   "execution_count": 36,
   "metadata": {},
   "outputs": [
    {
     "data": {
      "text/plain": [
       "coolpi.colour.cie_colour_spectral.CIELAB"
      ]
     },
     "execution_count": 36,
     "metadata": {},
     "output_type": "execute_result"
    }
   ],
   "source": [
    "sample_LAB = sample_uvY.to_LAB() # returns a CIELAB class object\n",
    "type(sample_LAB)"
   ]
  },
  {
   "cell_type": "markdown",
   "metadata": {},
   "source": [
    "Note: After applying the colour conversion, a new Colour object is returned."
   ]
  },
  {
   "cell_type": "markdown",
   "metadata": {},
   "source": [
    "The alternative way to obtain the colour coordinates in the desired output colour space is:"
   ]
  },
  {
   "cell_type": "code",
   "execution_count": 37,
   "metadata": {},
   "outputs": [
    {
     "name": "stdout",
     "output_type": "stream",
     "text": [
      "XYZ   =  [10.234099062188434, 5.871, 22.109630654910273]\n",
      "xyY   =  [0.26780508819376303, 0.15363185984730635, 5.871]\n",
      "LAB   =  [29.084647940987004, 43.5458620880538, -39.82285243808329]\n",
      "LCHab =  [29.084647940987004, 59.00933554359986, 317.55696768515674]\n",
      "LUV   =  [29.084647940987004, 19.220016071748365, -55.72451687445427]\n",
      "LCHuv =  [29.084647940987004, 58.94599900493335, 289.02989312888906]\n"
     ]
    }
   ],
   "source": [
    "print(\"XYZ   = \", sample_uvY.to_XYZ().coordinates)\n",
    "print(\"xyY   = \", sample_uvY.to_xyY().coordinates)\n",
    "print(\"LAB   = \", sample_uvY.to_LAB().coordinates)\n",
    "print(\"LCHab = \", sample_uvY.to_LCHab().coordinates)\n",
    "print(\"LUV   = \", sample_uvY.to_LUV().coordinates)\n",
    "print(\"LCHuv = \", sample_uvY.to_LCHuv().coordinates)"
   ]
  },
  {
   "cell_type": "markdown",
   "metadata": {},
   "source": [
    "RGB"
   ]
  },
  {
   "cell_type": "code",
   "execution_count": 38,
   "metadata": {},
   "outputs": [
    {
     "name": "stdout",
     "output_type": "stream",
     "text": [
      "sRGB     =  [0.3975512398171586, 0.15232908950474702, 0.5142018048920176]\n",
      "AdobeRGB =  [0.34842811042674693, 0.15227955537015053, 0.5051905145986682]\n",
      "AppleRGB =  [0.383500167319504, 0.12346212215521132, 0.5212188124193071]\n"
     ]
    }
   ],
   "source": [
    "print(\"sRGB     = \", sample_uvY.to_RGB(rgb_name_space = \"sRGB\").coordinates)\n",
    "print(\"AdobeRGB = \", sample_uvY.to_RGB(rgb_name_space = \"Adobe\").coordinates)\n",
    "print(\"AppleRGB = \", sample_uvY.to_RGB(rgb_name_space = \"Apple\").coordinates)"
   ]
  },
  {
   "cell_type": "markdown",
   "metadata": {},
   "source": [
    "## CIELAB"
   ]
  },
  {
   "cell_type": "code",
   "execution_count": 39,
   "metadata": {},
   "outputs": [],
   "source": [
    "from coolpi.colour.cie_colour_spectral import CIELAB"
   ]
  },
  {
   "cell_type": "markdown",
   "metadata": {},
   "source": [
    "### To create an instance:"
   ]
  },
  {
   "cell_type": "markdown",
   "metadata": {},
   "source": [
    "To create an instance of the `CIELAB` class, simply enter the required parameters as follows:"
   ]
  },
  {
   "cell_type": "code",
   "execution_count": 40,
   "metadata": {},
   "outputs": [],
   "source": [
    "sample_LAB = CIELAB(name_id=\"Sample_1\", L=29.08465, a=43.545095, b=-39.821735, cie_illuminant=\"D65\", observer=2)"
   ]
  },
  {
   "cell_type": "markdown",
   "metadata": {},
   "source": [
    "An *Illuminant* instance can also be passed as a parameter:"
   ]
  },
  {
   "cell_type": "code",
   "execution_count": 41,
   "metadata": {},
   "outputs": [],
   "source": [
    "sample_LAB = CIELAB(name_id=\"Sample_1\", L=29.08465, a=43.545095, b=-39.821735, cie_illuminant=D65, observer=2)"
   ]
  },
  {
   "cell_type": "markdown",
   "metadata": {},
   "source": [
    "The colour sample should be referred to a valid CIE standard illuminant and observer:"
   ]
  },
  {
   "cell_type": "code",
   "execution_count": 42,
   "metadata": {},
   "outputs": [
    {
     "ename": "CIEIlluminantError",
     "evalue": "The input illuminant is not a valid CIE standard illuminant.",
     "output_type": "error",
     "traceback": [
      "\u001b[0;31m---------------------------------------------------------------------------\u001b[0m",
      "\u001b[0;31mCIEIlluminantError\u001b[0m                        Traceback (most recent call last)",
      "\u001b[1;32m/Users/adolfomoladatebar/Library/Mobile Documents/com~apple~CloudDocs/GitHub/notebooks_test/02a_Colour_objects.ipynb Cell 101\u001b[0m in \u001b[0;36m<cell line: 1>\u001b[0;34m()\u001b[0m\n\u001b[0;32m----> <a href='vscode-notebook-cell:/Users/adolfomoladatebar/Library/Mobile%20Documents/com~apple~CloudDocs/GitHub/notebooks_test/02a_Colour_objects.ipynb#Y202sZmlsZQ%3D%3D?line=0'>1</a>\u001b[0m sample_LAB \u001b[39m=\u001b[39m CIELAB(name_id\u001b[39m=\u001b[39;49m\u001b[39m\"\u001b[39;49m\u001b[39mSample_1\u001b[39;49m\u001b[39m\"\u001b[39;49m, L\u001b[39m=\u001b[39;49m\u001b[39m29.08465\u001b[39;49m, a\u001b[39m=\u001b[39;49m\u001b[39m43.545095\u001b[39;49m, b\u001b[39m=\u001b[39;49m\u001b[39m-\u001b[39;49m\u001b[39m39.821735\u001b[39;49m, cie_illuminant\u001b[39m=\u001b[39;49m\u001b[39m\"\u001b[39;49m\u001b[39mD30\u001b[39;49m\u001b[39m\"\u001b[39;49m, observer\u001b[39m=\u001b[39;49m\u001b[39m2\u001b[39;49m)\n",
      "File \u001b[0;32m~/.local/share/virtualenvs/notebooks_test-m1LjhKG4/lib/python3.9/site-packages/coolpi/colour/cie_colour_spectral.py:1715\u001b[0m, in \u001b[0;36mCIELAB.__init__\u001b[0;34m(self, name_id, L, a, b, cie_illuminant, observer)\u001b[0m\n\u001b[1;32m   1714\u001b[0m \u001b[39mdef\u001b[39;00m \u001b[39m__init__\u001b[39m(\u001b[39mself\u001b[39m, name_id, L, a, b, cie_illuminant \u001b[39m=\u001b[39m \u001b[39m\"\u001b[39m\u001b[39mD65\u001b[39m\u001b[39m\"\u001b[39m, observer \u001b[39m=\u001b[39m \u001b[39m2\u001b[39m):\n\u001b[0;32m-> 1715\u001b[0m     \u001b[39mself\u001b[39;49m\u001b[39m.\u001b[39;49m__illuminant_is_CIE__(cie_illuminant)\n\u001b[1;32m   1716\u001b[0m     \u001b[39mself\u001b[39m\u001b[39m.\u001b[39m__update__(name_id, cie_illuminant, observer, [L, a, b])\n",
      "File \u001b[0;32m~/.local/share/virtualenvs/notebooks_test-m1LjhKG4/lib/python3.9/site-packages/coolpi/colour/cie_colour_spectral.py:1205\u001b[0m, in \u001b[0;36mColour.__illuminant_is_CIE__\u001b[0;34m(self, illuminant)\u001b[0m\n\u001b[1;32m   1203\u001b[0m         \u001b[39mreturn\u001b[39;00m \u001b[39mTrue\u001b[39;00m\n\u001b[1;32m   1204\u001b[0m     \u001b[39melse\u001b[39;00m:\n\u001b[0;32m-> 1205\u001b[0m         \u001b[39mraise\u001b[39;00m CIEIlluminantError(\u001b[39m\"\u001b[39m\u001b[39mThe input illuminant is not a valid CIE standard illuminant.\u001b[39m\u001b[39m\"\u001b[39m)\n\u001b[1;32m   1206\u001b[0m \u001b[39melif\u001b[39;00m \u001b[39misinstance\u001b[39m(illuminant, Illuminant):\n\u001b[1;32m   1207\u001b[0m     \u001b[39mreturn\u001b[39;00m \u001b[39mTrue\u001b[39;00m\n",
      "\u001b[0;31mCIEIlluminantError\u001b[0m: The input illuminant is not a valid CIE standard illuminant."
     ]
    }
   ],
   "source": [
    "sample_LAB = CIELAB(name_id=\"Sample_1\", L=29.08465, a=43.545095, b=-39.821735, cie_illuminant=\"D30\", observer=2)"
   ]
  },
  {
   "cell_type": "code",
   "execution_count": 43,
   "metadata": {},
   "outputs": [
    {
     "ename": "CIEObserverError",
     "evalue": "The observer should be a CIE standard 1931 or 1964 observer (2º or 10º).",
     "output_type": "error",
     "traceback": [
      "\u001b[0;31m---------------------------------------------------------------------------\u001b[0m",
      "\u001b[0;31mCIEObserverError\u001b[0m                          Traceback (most recent call last)",
      "\u001b[1;32m/Users/adolfomoladatebar/Library/Mobile Documents/com~apple~CloudDocs/GitHub/notebooks_test/02a_Colour_objects.ipynb Cell 102\u001b[0m in \u001b[0;36m<cell line: 1>\u001b[0;34m()\u001b[0m\n\u001b[0;32m----> <a href='vscode-notebook-cell:/Users/adolfomoladatebar/Library/Mobile%20Documents/com~apple~CloudDocs/GitHub/notebooks_test/02a_Colour_objects.ipynb#Y203sZmlsZQ%3D%3D?line=0'>1</a>\u001b[0m sample_LAB \u001b[39m=\u001b[39m CIELAB(name_id\u001b[39m=\u001b[39;49m\u001b[39m\"\u001b[39;49m\u001b[39mSample_1\u001b[39;49m\u001b[39m\"\u001b[39;49m, L\u001b[39m=\u001b[39;49m\u001b[39m29.08465\u001b[39;49m, a\u001b[39m=\u001b[39;49m\u001b[39m43.545095\u001b[39;49m, b\u001b[39m=\u001b[39;49m\u001b[39m-\u001b[39;49m\u001b[39m39.821735\u001b[39;49m, cie_illuminant\u001b[39m=\u001b[39;49m\u001b[39m\"\u001b[39;49m\u001b[39mD65\u001b[39;49m\u001b[39m\"\u001b[39;49m, observer\u001b[39m=\u001b[39;49m\u001b[39m20\u001b[39;49m)\n",
      "File \u001b[0;32m~/.local/share/virtualenvs/notebooks_test-m1LjhKG4/lib/python3.9/site-packages/coolpi/colour/cie_colour_spectral.py:1716\u001b[0m, in \u001b[0;36mCIELAB.__init__\u001b[0;34m(self, name_id, L, a, b, cie_illuminant, observer)\u001b[0m\n\u001b[1;32m   1714\u001b[0m \u001b[39mdef\u001b[39;00m \u001b[39m__init__\u001b[39m(\u001b[39mself\u001b[39m, name_id, L, a, b, cie_illuminant \u001b[39m=\u001b[39m \u001b[39m\"\u001b[39m\u001b[39mD65\u001b[39m\u001b[39m\"\u001b[39m, observer \u001b[39m=\u001b[39m \u001b[39m2\u001b[39m):\n\u001b[1;32m   1715\u001b[0m     \u001b[39mself\u001b[39m\u001b[39m.\u001b[39m__illuminant_is_CIE__(cie_illuminant)\n\u001b[0;32m-> 1716\u001b[0m     \u001b[39mself\u001b[39;49m\u001b[39m.\u001b[39;49m__update__(name_id, cie_illuminant, observer, [L, a, b])\n",
      "File \u001b[0;32m~/.local/share/virtualenvs/notebooks_test-m1LjhKG4/lib/python3.9/site-packages/coolpi/colour/cie_colour_spectral.py:1722\u001b[0m, in \u001b[0;36mCIELAB.__update__\u001b[0;34m(self, name_id, illuminant, observer, coordinates)\u001b[0m\n\u001b[1;32m   1721\u001b[0m \u001b[39mdef\u001b[39;00m \u001b[39m__update__\u001b[39m(\u001b[39mself\u001b[39m, name_id, illuminant, observer, coordinates):\n\u001b[0;32m-> 1722\u001b[0m     \u001b[39msuper\u001b[39;49m()\u001b[39m.\u001b[39;49m__update__(illuminant, observer, coordinates)\n\u001b[1;32m   1723\u001b[0m     \u001b[39mself\u001b[39m\u001b[39m.\u001b[39mname_id \u001b[39m=\u001b[39m name_id\n",
      "File \u001b[0;32m~/.local/share/virtualenvs/notebooks_test-m1LjhKG4/lib/python3.9/site-packages/coolpi/colour/cie_colour_spectral.py:1248\u001b[0m, in \u001b[0;36mColour.__update__\u001b[0;34m(self, illuminant, observer, coordinates)\u001b[0m\n\u001b[1;32m   1246\u001b[0m \u001b[39mdef\u001b[39;00m \u001b[39m__update__\u001b[39m(\u001b[39mself\u001b[39m, illuminant, observer, coordinates):\n\u001b[1;32m   1247\u001b[0m     \u001b[39mself\u001b[39m\u001b[39m.\u001b[39milluminant \u001b[39m=\u001b[39m illuminant\n\u001b[0;32m-> 1248\u001b[0m     \u001b[39mself\u001b[39;49m\u001b[39m.\u001b[39;49mobserver \u001b[39m=\u001b[39m observer\n\u001b[1;32m   1249\u001b[0m     \u001b[39mself\u001b[39m\u001b[39m.\u001b[39mcoordinates \u001b[39m=\u001b[39m coordinates\n",
      "File \u001b[0;32m~/.local/share/virtualenvs/notebooks_test-m1LjhKG4/lib/python3.9/site-packages/coolpi/colour/cie_colour_spectral.py:1220\u001b[0m, in \u001b[0;36mColour.observer\u001b[0;34m(self, observer)\u001b[0m\n\u001b[1;32m   1218\u001b[0m     \u001b[39mself\u001b[39m\u001b[39m.\u001b[39m__observer  \u001b[39m=\u001b[39m observer\n\u001b[1;32m   1219\u001b[0m \u001b[39melse\u001b[39;00m:\n\u001b[0;32m-> 1220\u001b[0m     \u001b[39mself\u001b[39m\u001b[39m.\u001b[39m__observer \u001b[39m=\u001b[39m Observer(observer)\n",
      "File \u001b[0;32m~/.local/share/virtualenvs/notebooks_test-m1LjhKG4/lib/python3.9/site-packages/coolpi/colour/cie_colour_spectral.py:293\u001b[0m, in \u001b[0;36mObserver.__init__\u001b[0;34m(self, observer)\u001b[0m\n\u001b[1;32m    287\u001b[0m \u001b[39mdef\u001b[39;00m \u001b[39m__init__\u001b[39m(\u001b[39mself\u001b[39m, observer\u001b[39m=\u001b[39m\u001b[39m2\u001b[39m):     \n\u001b[1;32m    288\u001b[0m     \u001b[39m'''\u001b[39;00m\n\u001b[1;32m    289\u001b[0m \u001b[39m    The Observer class receives a valid `str` or `int` type for the specification of the 2º or \u001b[39;00m\n\u001b[1;32m    290\u001b[0m \u001b[39m    10º degree CIE standard observer.\u001b[39;00m\n\u001b[1;32m    291\u001b[0m \n\u001b[1;32m    292\u001b[0m \u001b[39m    '''\u001b[39;00m   \n\u001b[0;32m--> 293\u001b[0m     \u001b[39mself\u001b[39;49m\u001b[39m.\u001b[39;49mobserver \u001b[39m=\u001b[39m observer\n",
      "File \u001b[0;32m~/.local/share/virtualenvs/notebooks_test-m1LjhKG4/lib/python3.9/site-packages/coolpi/colour/cie_colour_spectral.py:285\u001b[0m, in \u001b[0;36mObserver.observer\u001b[0;34m(self, observer)\u001b[0m\n\u001b[1;32m    283\u001b[0m     \u001b[39mself\u001b[39m\u001b[39m.\u001b[39m__observer \u001b[39m=\u001b[39m \u001b[39mint\u001b[39m(observer)\n\u001b[1;32m    284\u001b[0m \u001b[39melse\u001b[39;00m:\n\u001b[0;32m--> 285\u001b[0m     \u001b[39mraise\u001b[39;00m CIEObserverError(\u001b[39m\"\u001b[39m\u001b[39mThe observer should be a CIE standard 1931 or 1964 observer (2º or 10º).\u001b[39m\u001b[39m\"\u001b[39m)\n",
      "\u001b[0;31mCIEObserverError\u001b[0m: The observer should be a CIE standard 1931 or 1964 observer (2º or 10º)."
     ]
    }
   ],
   "source": [
    "sample_LAB = CIELAB(name_id=\"Sample_1\", L=29.08465, a=43.545095, b=-39.821735, cie_illuminant=\"D65\", observer=20)"
   ]
  },
  {
   "cell_type": "markdown",
   "metadata": {},
   "source": [
    "### Attributes"
   ]
  },
  {
   "cell_type": "code",
   "execution_count": 44,
   "metadata": {},
   "outputs": [
    {
     "name": "stdout",
     "output_type": "stream",
     "text": [
      "Colour Object\n",
      "CIE LAB\n",
      "CIE LAB\n",
      "Sample_1\n",
      "[29.08465, 43.545095, -39.821735]\n",
      "Illuminant object: CIE D65 standard illuminant\n",
      "2º standard observer (CIE 1931)\n",
      "{'Sample_1': [29.08465, 43.545095, -39.821735]}\n"
     ]
    }
   ],
   "source": [
    "print(sample_LAB.type)\n",
    "print(sample_LAB.colour_space()) # subtype\n",
    "print(sample_LAB.subtype) # returns colour space\n",
    "print(sample_LAB.name_id)\n",
    "print(sample_LAB.coordinates)\n",
    "print(sample_LAB.illuminant) # str method\n",
    "print(sample_LAB.observer) # str method\n",
    "print(sample_LAB.get_sample()) # colour data as dict"
   ]
  },
  {
   "cell_type": "markdown",
   "metadata": {},
   "source": [
    "### Methods"
   ]
  },
  {
   "cell_type": "markdown",
   "metadata": {},
   "source": [
    "The `__str__` method returns the string representation of the object. This method is called when the print() or str() \n",
    "function is invoked on an object."
   ]
  },
  {
   "cell_type": "code",
   "execution_count": 45,
   "metadata": {},
   "outputs": [
    {
     "name": "stdout",
     "output_type": "stream",
     "text": [
      "CIELAB object: Sample_1 : L* =29.08465, a*=43.545095, b*=-39.821735\n"
     ]
    }
   ],
   "source": [
    "print(sample_LAB)"
   ]
  },
  {
   "cell_type": "markdown",
   "metadata": {},
   "source": [
    "`Colour space conversion`:"
   ]
  },
  {
   "cell_type": "markdown",
   "metadata": {},
   "source": [
    "It is only necessary to execute the class method that performs the colour conversion to the output colour space, for example:"
   ]
  },
  {
   "cell_type": "code",
   "execution_count": 46,
   "metadata": {},
   "outputs": [
    {
     "data": {
      "text/plain": [
       "coolpi.colour.cie_colour_spectral.CIELCHab"
      ]
     },
     "execution_count": 46,
     "metadata": {},
     "output_type": "execute_result"
    }
   ],
   "source": [
    "sample_LCHab = sample_LAB.to_LCHab() # returns a CIELCHab class object\n",
    "type(sample_LCHab)"
   ]
  },
  {
   "cell_type": "markdown",
   "metadata": {},
   "source": [
    "Note: After applying the colour conversion, a new Colour object is returned."
   ]
  },
  {
   "cell_type": "markdown",
   "metadata": {},
   "source": [
    "The alternative way to obtain the colour coordinates in the desired output colour space is:"
   ]
  },
  {
   "cell_type": "code",
   "execution_count": 47,
   "metadata": {},
   "outputs": [
    {
     "name": "stdout",
     "output_type": "stream",
     "text": [
      "XYZ   =  [10.234001201189463, 5.871000804384624, 22.109002163921144]\n",
      "xyY   =  [0.2678076119895039, 0.1536347978176864, 5.871000804384624]\n",
      "uvY   =  [0.24866059973237598, 0.3209638872208844, 5.871000804384624]\n",
      "LCHab =  [29.08465, 59.008015362061194, 317.5572657161243]\n",
      "LUV   =  [29.084649999999996, 19.220244191487748, -55.72305105943939]\n",
      "LCHuv =  [29.084649999999996, 58.94468768390675, 289.03056732468815]\n"
     ]
    }
   ],
   "source": [
    "print(\"XYZ   = \", sample_LAB.to_XYZ().coordinates)\n",
    "print(\"xyY   = \", sample_LAB.to_xyY().coordinates)\n",
    "print(\"uvY   = \", sample_LAB.to_uvY().coordinates)\n",
    "print(\"LCHab = \", sample_LAB.to_LCHab().coordinates)\n",
    "print(\"LUV   = \", sample_LAB.to_LUV().coordinates)\n",
    "print(\"LCHuv = \", sample_LAB.to_LCHuv().coordinates)"
   ]
  },
  {
   "cell_type": "markdown",
   "metadata": {},
   "source": [
    "RGB"
   ]
  },
  {
   "cell_type": "code",
   "execution_count": 48,
   "metadata": {},
   "outputs": [
    {
     "name": "stdout",
     "output_type": "stream",
     "text": [
      "sRGB     =  [0.3975511679443915, 0.1523321016451217, 0.5141948184670979]\n",
      "AdobeRGB =  [0.34842838757648475, 0.15228256833385487, 0.5051836955284814]\n",
      "AppleRGB =  [0.3835002864652972, 0.12346658709318589, 0.521211693412172]\n"
     ]
    }
   ],
   "source": [
    "print(\"sRGB     = \", sample_LAB.to_RGB(rgb_name_space = \"sRGB\").coordinates)\n",
    "print(\"AdobeRGB = \", sample_LAB.to_RGB(rgb_name_space = \"Adobe\").coordinates)\n",
    "print(\"AppleRGB = \", sample_LAB.to_RGB(rgb_name_space = \"Apple\").coordinates)"
   ]
  },
  {
   "cell_type": "markdown",
   "metadata": {},
   "source": [
    "### Plot"
   ]
  },
  {
   "cell_type": "code",
   "execution_count": 49,
   "metadata": {},
   "outputs": [
    {
     "data": {
      "image/png": "[encoded data removed]",
      "text/plain": [
       "<Figure size 1000x1000 with 1 Axes>"
      ]
     },
     "metadata": {},
     "output_type": "display_data"
    }
   ],
   "source": [
    "sample_LAB.plot(show_figure = True, save_figure = False, output_path = None)"
   ]
  },
  {
   "cell_type": "markdown",
   "metadata": {},
   "source": [
    "To save the figure:"
   ]
  },
  {
   "cell_type": "code",
   "execution_count": 50,
   "metadata": {},
   "outputs": [],
   "source": [
    "path_figure = os.path.join(*[\"res\", \"plot\", \"cielab_sample.png\"]) # your path here\n",
    "sample_LAB.plot(show_figure = False, save_figure = True, output_path = path_figure)"
   ]
  },
  {
   "cell_type": "markdown",
   "metadata": {},
   "source": [
    "`Colour difference`:"
   ]
  },
  {
   "cell_type": "markdown",
   "metadata": {},
   "source": [
    "$\\Delta E_{ab}^*$ Colour Difference"
   ]
  },
  {
   "cell_type": "markdown",
   "metadata": {},
   "source": [
    "Given two *CIELAB* colour samples, it is posible to compute the $\\Delta E_{ab}$ colour difference between them as follows:"
   ]
  },
  {
   "cell_type": "code",
   "execution_count": 51,
   "metadata": {},
   "outputs": [],
   "source": [
    "S1_LAB = CIELAB(name_id=\"Sample_1\", L=29.084648, a=43.545095, b=-39.821735, cie_illuminant=\"D65\", observer=2)\n",
    "S2_LAB = CIELAB(name_id=\"Sample_2\", L=35.893646, a=15.903706, b=-29.659472, cie_illuminant=\"D65\", observer=2)"
   ]
  },
  {
   "cell_type": "code",
   "execution_count": 52,
   "metadata": {},
   "outputs": [
    {
     "name": "stdout",
     "output_type": "stream",
     "text": [
      "30.22714721726968\n"
     ]
    }
   ],
   "source": [
    "AE_ab = S1_LAB.delta_e_ab(S2_LAB)\n",
    "print(AE_ab)"
   ]
  },
  {
   "cell_type": "code",
   "execution_count": 53,
   "metadata": {},
   "outputs": [
    {
     "name": "stdout",
     "output_type": "stream",
     "text": [
      "30.22714721726968\n"
     ]
    }
   ],
   "source": [
    "AE_ab = S2_LAB.delta_e_ab(S1_LAB)\n",
    "print(AE_ab)"
   ]
  },
  {
   "cell_type": "markdown",
   "metadata": {},
   "source": [
    "The *CIELAB* reference and target objects should be measured under the same illuminant:"
   ]
  },
  {
   "cell_type": "code",
   "execution_count": 54,
   "metadata": {},
   "outputs": [],
   "source": [
    "S3_LAB = CIELAB(name_id=\"Sample_3\", L=35.893646, a=15.903706, b=-29.659472, cie_illuminant=\"D50\", observer=2)"
   ]
  },
  {
   "cell_type": "code",
   "execution_count": 55,
   "metadata": {},
   "outputs": [
    {
     "ename": "CIEIlluminantError",
     "evalue": "The CIELAB target must be referred to the same illuminant D65.",
     "output_type": "error",
     "traceback": [
      "\u001b[0;31m---------------------------------------------------------------------------\u001b[0m",
      "\u001b[0;31mCIEIlluminantError\u001b[0m                        Traceback (most recent call last)",
      "\u001b[1;32m/Users/adolfomoladatebar/Library/Mobile Documents/com~apple~CloudDocs/GitHub/notebooks_test/02a_Colour_objects.ipynb Cell 128\u001b[0m in \u001b[0;36m<cell line: 1>\u001b[0;34m()\u001b[0m\n\u001b[0;32m----> <a href='vscode-notebook-cell:/Users/adolfomoladatebar/Library/Mobile%20Documents/com~apple~CloudDocs/GitHub/notebooks_test/02a_Colour_objects.ipynb#Y241sZmlsZQ%3D%3D?line=0'>1</a>\u001b[0m AE_ab \u001b[39m=\u001b[39m S1_LAB\u001b[39m.\u001b[39;49mdelta_e_ab(S3_LAB)\n\u001b[1;32m      <a href='vscode-notebook-cell:/Users/adolfomoladatebar/Library/Mobile%20Documents/com~apple~CloudDocs/GitHub/notebooks_test/02a_Colour_objects.ipynb#Y241sZmlsZQ%3D%3D?line=1'>2</a>\u001b[0m \u001b[39mprint\u001b[39m(AE_ab)\n",
      "File \u001b[0;32m~/.local/share/virtualenvs/notebooks_test-m1LjhKG4/lib/python3.9/site-packages/coolpi/colour/cie_colour_spectral.py:1817\u001b[0m, in \u001b[0;36mCIELAB.delta_e_ab\u001b[0;34m(self, target)\u001b[0m\n\u001b[1;32m   1815\u001b[0m         \u001b[39mreturn\u001b[39;00m AE_ab\n\u001b[1;32m   1816\u001b[0m     \u001b[39melse\u001b[39;00m:\n\u001b[0;32m-> 1817\u001b[0m         \u001b[39mraise\u001b[39;00m CIEIlluminantError(\u001b[39mf\u001b[39m\u001b[39m\"\u001b[39m\u001b[39mThe CIELAB target must be referred to the same illuminant \u001b[39m\u001b[39m{\u001b[39;00m\u001b[39mself\u001b[39m\u001b[39m.\u001b[39milluminant\u001b[39m.\u001b[39milluminant_name\u001b[39m}\u001b[39;00m\u001b[39m.\u001b[39m\u001b[39m\"\u001b[39m)\n\u001b[1;32m   1818\u001b[0m \u001b[39melse\u001b[39;00m:\n\u001b[1;32m   1819\u001b[0m     \u001b[39mraise\u001b[39;00m ClassTypeError(\u001b[39m\"\u001b[39m\u001b[39mThe input target is not a CIELAB colour object.\u001b[39m\u001b[39m\"\u001b[39m)\n",
      "\u001b[0;31mCIEIlluminantError\u001b[0m: The CIELAB target must be referred to the same illuminant D65."
     ]
    }
   ],
   "source": [
    "AE_ab = S1_LAB.delta_e_ab(S3_LAB)\n",
    "print(AE_ab)"
   ]
  },
  {
   "cell_type": "markdown",
   "metadata": {},
   "source": [
    "The reference and the colour target should be referred to the same colour space:"
   ]
  },
  {
   "cell_type": "code",
   "execution_count": 56,
   "metadata": {},
   "outputs": [],
   "source": [
    "S3_XYZ = CIEXYZ(name_id=\"Sample_3\", X=10.345, Y=20.367, Z=36.972, cie_illuminant=\"D65\", observer=2)"
   ]
  },
  {
   "cell_type": "code",
   "execution_count": 57,
   "metadata": {},
   "outputs": [
    {
     "ename": "ClassTypeError",
     "evalue": "The input target is not a CIELAB colour object.",
     "output_type": "error",
     "traceback": [
      "\u001b[0;31m---------------------------------------------------------------------------\u001b[0m",
      "\u001b[0;31mClassTypeError\u001b[0m                            Traceback (most recent call last)",
      "\u001b[1;32m/Users/adolfomoladatebar/Library/Mobile Documents/com~apple~CloudDocs/GitHub/notebooks_test/02a_Colour_objects.ipynb Cell 131\u001b[0m in \u001b[0;36m<cell line: 1>\u001b[0;34m()\u001b[0m\n\u001b[0;32m----> <a href='vscode-notebook-cell:/Users/adolfomoladatebar/Library/Mobile%20Documents/com~apple~CloudDocs/GitHub/notebooks_test/02a_Colour_objects.ipynb#Y244sZmlsZQ%3D%3D?line=0'>1</a>\u001b[0m AE_ab \u001b[39m=\u001b[39m S1_LAB\u001b[39m.\u001b[39;49mdelta_e_ab(S3_XYZ)\n",
      "File \u001b[0;32m~/.local/share/virtualenvs/notebooks_test-m1LjhKG4/lib/python3.9/site-packages/coolpi/colour/cie_colour_spectral.py:1819\u001b[0m, in \u001b[0;36mCIELAB.delta_e_ab\u001b[0;34m(self, target)\u001b[0m\n\u001b[1;32m   1817\u001b[0m         \u001b[39mraise\u001b[39;00m CIEIlluminantError(\u001b[39mf\u001b[39m\u001b[39m\"\u001b[39m\u001b[39mThe CIELAB target must be referred to the same illuminant \u001b[39m\u001b[39m{\u001b[39;00m\u001b[39mself\u001b[39m\u001b[39m.\u001b[39milluminant\u001b[39m.\u001b[39milluminant_name\u001b[39m}\u001b[39;00m\u001b[39m.\u001b[39m\u001b[39m\"\u001b[39m)\n\u001b[1;32m   1818\u001b[0m \u001b[39melse\u001b[39;00m:\n\u001b[0;32m-> 1819\u001b[0m     \u001b[39mraise\u001b[39;00m ClassTypeError(\u001b[39m\"\u001b[39m\u001b[39mThe input target is not a CIELAB colour object.\u001b[39m\u001b[39m\"\u001b[39m)\n",
      "\u001b[0;31mClassTypeError\u001b[0m: The input target is not a CIELAB colour object."
     ]
    }
   ],
   "source": [
    "AE_ab = S1_LAB.delta_e_ab(S3_XYZ)"
   ]
  },
  {
   "cell_type": "markdown",
   "metadata": {},
   "source": [
    "CIELAB2000"
   ]
  },
  {
   "cell_type": "markdown",
   "metadata": {},
   "source": [
    "To compute the CIEDE2000 colour difference:"
   ]
  },
  {
   "cell_type": "code",
   "execution_count": 58,
   "metadata": {},
   "outputs": [
    {
     "name": "stdout",
     "output_type": "stream",
     "text": [
      "13.205811623182113\n"
     ]
    }
   ],
   "source": [
    "AE_00 = S1_LAB.CIEDE2000(S2_LAB)\n",
    "print(AE_00)"
   ]
  },
  {
   "cell_type": "markdown",
   "metadata": {},
   "source": [
    "Note: The colour sample entered as a parameter must be a valid CIELAB object measured under the same illuminant."
   ]
  },
  {
   "cell_type": "markdown",
   "metadata": {},
   "source": [
    "## CIE LCHab"
   ]
  },
  {
   "cell_type": "code",
   "execution_count": 59,
   "metadata": {},
   "outputs": [],
   "source": [
    "from coolpi.colour.cie_colour_spectral import CIELCHab"
   ]
  },
  {
   "cell_type": "markdown",
   "metadata": {},
   "source": [
    "### To create an instance:"
   ]
  },
  {
   "cell_type": "markdown",
   "metadata": {},
   "source": [
    "To create an instance of the `CIELCHab` class, simply enter the required parameters as follows:"
   ]
  },
  {
   "cell_type": "code",
   "execution_count": 60,
   "metadata": {},
   "outputs": [],
   "source": [
    "sample_LCHab = CIELCHab(name_id=\"Sample_1\", L=29.08465, Cab=59.008015, Hab=317.557266, cie_illuminant=\"D65\", observer=2)"
   ]
  },
  {
   "cell_type": "markdown",
   "metadata": {},
   "source": [
    "The colour sample should be referred to a valid CIE standard illuminant and observer:"
   ]
  },
  {
   "cell_type": "code",
   "execution_count": 61,
   "metadata": {},
   "outputs": [
    {
     "ename": "CIEIlluminantError",
     "evalue": "The input illuminant is not a valid CIE standard illuminant.",
     "output_type": "error",
     "traceback": [
      "\u001b[0;31m---------------------------------------------------------------------------\u001b[0m",
      "\u001b[0;31mCIEIlluminantError\u001b[0m                        Traceback (most recent call last)",
      "\u001b[1;32m/Users/adolfomoladatebar/Library/Mobile Documents/com~apple~CloudDocs/GitHub/notebooks_test/02a_Colour_objects.ipynb Cell 142\u001b[0m in \u001b[0;36m<cell line: 1>\u001b[0;34m()\u001b[0m\n\u001b[0;32m----> <a href='vscode-notebook-cell:/Users/adolfomoladatebar/Library/Mobile%20Documents/com~apple~CloudDocs/GitHub/notebooks_test/02a_Colour_objects.ipynb#Y261sZmlsZQ%3D%3D?line=0'>1</a>\u001b[0m sample_LCHab \u001b[39m=\u001b[39m CIELCHab(name_id\u001b[39m=\u001b[39;49m\u001b[39m\"\u001b[39;49m\u001b[39mSample_1\u001b[39;49m\u001b[39m\"\u001b[39;49m, L\u001b[39m=\u001b[39;49m\u001b[39m29.08465\u001b[39;49m, Cab\u001b[39m=\u001b[39;49m\u001b[39m59.008015\u001b[39;49m, Hab\u001b[39m=\u001b[39;49m\u001b[39m317.557266\u001b[39;49m, cie_illuminant\u001b[39m=\u001b[39;49m\u001b[39m\"\u001b[39;49m\u001b[39mD30\u001b[39;49m\u001b[39m\"\u001b[39;49m, observer\u001b[39m=\u001b[39;49m\u001b[39m2\u001b[39;49m)\n",
      "File \u001b[0;32m~/.local/share/virtualenvs/notebooks_test-m1LjhKG4/lib/python3.9/site-packages/coolpi/colour/cie_colour_spectral.py:1902\u001b[0m, in \u001b[0;36mCIELCHab.__init__\u001b[0;34m(self, name_id, L, Cab, Hab, cie_illuminant, observer)\u001b[0m\n\u001b[1;32m   1901\u001b[0m \u001b[39mdef\u001b[39;00m \u001b[39m__init__\u001b[39m(\u001b[39mself\u001b[39m, name_id, L, Cab, Hab, cie_illuminant \u001b[39m=\u001b[39m \u001b[39m\"\u001b[39m\u001b[39mD65\u001b[39m\u001b[39m\"\u001b[39m, observer \u001b[39m=\u001b[39m \u001b[39m2\u001b[39m):\n\u001b[0;32m-> 1902\u001b[0m     \u001b[39mself\u001b[39;49m\u001b[39m.\u001b[39;49m__illuminant_is_CIE__(cie_illuminant)\n\u001b[1;32m   1903\u001b[0m     \u001b[39mself\u001b[39m\u001b[39m.\u001b[39m__update__(name_id, cie_illuminant, observer, [L, Cab, Hab])\n",
      "File \u001b[0;32m~/.local/share/virtualenvs/notebooks_test-m1LjhKG4/lib/python3.9/site-packages/coolpi/colour/cie_colour_spectral.py:1205\u001b[0m, in \u001b[0;36mColour.__illuminant_is_CIE__\u001b[0;34m(self, illuminant)\u001b[0m\n\u001b[1;32m   1203\u001b[0m         \u001b[39mreturn\u001b[39;00m \u001b[39mTrue\u001b[39;00m\n\u001b[1;32m   1204\u001b[0m     \u001b[39melse\u001b[39;00m:\n\u001b[0;32m-> 1205\u001b[0m         \u001b[39mraise\u001b[39;00m CIEIlluminantError(\u001b[39m\"\u001b[39m\u001b[39mThe input illuminant is not a valid CIE standard illuminant.\u001b[39m\u001b[39m\"\u001b[39m)\n\u001b[1;32m   1206\u001b[0m \u001b[39melif\u001b[39;00m \u001b[39misinstance\u001b[39m(illuminant, Illuminant):\n\u001b[1;32m   1207\u001b[0m     \u001b[39mreturn\u001b[39;00m \u001b[39mTrue\u001b[39;00m\n",
      "\u001b[0;31mCIEIlluminantError\u001b[0m: The input illuminant is not a valid CIE standard illuminant."
     ]
    }
   ],
   "source": [
    "sample_LCHab = CIELCHab(name_id=\"Sample_1\", L=29.08465, Cab=59.008015, Hab=317.557266, cie_illuminant=\"D30\", observer=2)"
   ]
  },
  {
   "cell_type": "code",
   "execution_count": 62,
   "metadata": {},
   "outputs": [
    {
     "ename": "CIEObserverError",
     "evalue": "The observer should be a CIE standard 1931 or 1964 observer (2º or 10º).",
     "output_type": "error",
     "traceback": [
      "\u001b[0;31m---------------------------------------------------------------------------\u001b[0m",
      "\u001b[0;31mCIEObserverError\u001b[0m                          Traceback (most recent call last)",
      "\u001b[1;32m/Users/adolfomoladatebar/Library/Mobile Documents/com~apple~CloudDocs/GitHub/notebooks_test/02a_Colour_objects.ipynb Cell 143\u001b[0m in \u001b[0;36m<cell line: 1>\u001b[0;34m()\u001b[0m\n\u001b[0;32m----> <a href='vscode-notebook-cell:/Users/adolfomoladatebar/Library/Mobile%20Documents/com~apple~CloudDocs/GitHub/notebooks_test/02a_Colour_objects.ipynb#Y262sZmlsZQ%3D%3D?line=0'>1</a>\u001b[0m sample_LCHab \u001b[39m=\u001b[39m CIELCHab(name_id\u001b[39m=\u001b[39;49m\u001b[39m\"\u001b[39;49m\u001b[39mSample_1\u001b[39;49m\u001b[39m\"\u001b[39;49m, L\u001b[39m=\u001b[39;49m\u001b[39m29.08465\u001b[39;49m, Cab\u001b[39m=\u001b[39;49m\u001b[39m59.008015\u001b[39;49m, Hab\u001b[39m=\u001b[39;49m\u001b[39m317.557266\u001b[39;49m, cie_illuminant\u001b[39m=\u001b[39;49m\u001b[39m\"\u001b[39;49m\u001b[39mD65\u001b[39;49m\u001b[39m\"\u001b[39;49m, observer\u001b[39m=\u001b[39;49m\u001b[39m20\u001b[39;49m)\n",
      "File \u001b[0;32m~/.local/share/virtualenvs/notebooks_test-m1LjhKG4/lib/python3.9/site-packages/coolpi/colour/cie_colour_spectral.py:1903\u001b[0m, in \u001b[0;36mCIELCHab.__init__\u001b[0;34m(self, name_id, L, Cab, Hab, cie_illuminant, observer)\u001b[0m\n\u001b[1;32m   1901\u001b[0m \u001b[39mdef\u001b[39;00m \u001b[39m__init__\u001b[39m(\u001b[39mself\u001b[39m, name_id, L, Cab, Hab, cie_illuminant \u001b[39m=\u001b[39m \u001b[39m\"\u001b[39m\u001b[39mD65\u001b[39m\u001b[39m\"\u001b[39m, observer \u001b[39m=\u001b[39m \u001b[39m2\u001b[39m):\n\u001b[1;32m   1902\u001b[0m     \u001b[39mself\u001b[39m\u001b[39m.\u001b[39m__illuminant_is_CIE__(cie_illuminant)\n\u001b[0;32m-> 1903\u001b[0m     \u001b[39mself\u001b[39;49m\u001b[39m.\u001b[39;49m__update__(name_id, cie_illuminant, observer, [L, Cab, Hab])\n",
      "File \u001b[0;32m~/.local/share/virtualenvs/notebooks_test-m1LjhKG4/lib/python3.9/site-packages/coolpi/colour/cie_colour_spectral.py:1909\u001b[0m, in \u001b[0;36mCIELCHab.__update__\u001b[0;34m(self, name_id, illuminant, observer, coordinates)\u001b[0m\n\u001b[1;32m   1908\u001b[0m \u001b[39mdef\u001b[39;00m \u001b[39m__update__\u001b[39m(\u001b[39mself\u001b[39m, name_id, illuminant, observer, coordinates):\n\u001b[0;32m-> 1909\u001b[0m     \u001b[39msuper\u001b[39;49m()\u001b[39m.\u001b[39;49m__update__(illuminant, observer, coordinates)\n\u001b[1;32m   1910\u001b[0m     \u001b[39mself\u001b[39m\u001b[39m.\u001b[39mname_id \u001b[39m=\u001b[39m name_id\n",
      "File \u001b[0;32m~/.local/share/virtualenvs/notebooks_test-m1LjhKG4/lib/python3.9/site-packages/coolpi/colour/cie_colour_spectral.py:1248\u001b[0m, in \u001b[0;36mColour.__update__\u001b[0;34m(self, illuminant, observer, coordinates)\u001b[0m\n\u001b[1;32m   1246\u001b[0m \u001b[39mdef\u001b[39;00m \u001b[39m__update__\u001b[39m(\u001b[39mself\u001b[39m, illuminant, observer, coordinates):\n\u001b[1;32m   1247\u001b[0m     \u001b[39mself\u001b[39m\u001b[39m.\u001b[39milluminant \u001b[39m=\u001b[39m illuminant\n\u001b[0;32m-> 1248\u001b[0m     \u001b[39mself\u001b[39;49m\u001b[39m.\u001b[39;49mobserver \u001b[39m=\u001b[39m observer\n\u001b[1;32m   1249\u001b[0m     \u001b[39mself\u001b[39m\u001b[39m.\u001b[39mcoordinates \u001b[39m=\u001b[39m coordinates\n",
      "File \u001b[0;32m~/.local/share/virtualenvs/notebooks_test-m1LjhKG4/lib/python3.9/site-packages/coolpi/colour/cie_colour_spectral.py:1220\u001b[0m, in \u001b[0;36mColour.observer\u001b[0;34m(self, observer)\u001b[0m\n\u001b[1;32m   1218\u001b[0m     \u001b[39mself\u001b[39m\u001b[39m.\u001b[39m__observer  \u001b[39m=\u001b[39m observer\n\u001b[1;32m   1219\u001b[0m \u001b[39melse\u001b[39;00m:\n\u001b[0;32m-> 1220\u001b[0m     \u001b[39mself\u001b[39m\u001b[39m.\u001b[39m__observer \u001b[39m=\u001b[39m Observer(observer)\n",
      "File \u001b[0;32m~/.local/share/virtualenvs/notebooks_test-m1LjhKG4/lib/python3.9/site-packages/coolpi/colour/cie_colour_spectral.py:293\u001b[0m, in \u001b[0;36mObserver.__init__\u001b[0;34m(self, observer)\u001b[0m\n\u001b[1;32m    287\u001b[0m \u001b[39mdef\u001b[39;00m \u001b[39m__init__\u001b[39m(\u001b[39mself\u001b[39m, observer\u001b[39m=\u001b[39m\u001b[39m2\u001b[39m):     \n\u001b[1;32m    288\u001b[0m     \u001b[39m'''\u001b[39;00m\n\u001b[1;32m    289\u001b[0m \u001b[39m    The Observer class receives a valid `str` or `int` type for the specification of the 2º or \u001b[39;00m\n\u001b[1;32m    290\u001b[0m \u001b[39m    10º degree CIE standard observer.\u001b[39;00m\n\u001b[1;32m    291\u001b[0m \n\u001b[1;32m    292\u001b[0m \u001b[39m    '''\u001b[39;00m   \n\u001b[0;32m--> 293\u001b[0m     \u001b[39mself\u001b[39;49m\u001b[39m.\u001b[39;49mobserver \u001b[39m=\u001b[39m observer\n",
      "File \u001b[0;32m~/.local/share/virtualenvs/notebooks_test-m1LjhKG4/lib/python3.9/site-packages/coolpi/colour/cie_colour_spectral.py:285\u001b[0m, in \u001b[0;36mObserver.observer\u001b[0;34m(self, observer)\u001b[0m\n\u001b[1;32m    283\u001b[0m     \u001b[39mself\u001b[39m\u001b[39m.\u001b[39m__observer \u001b[39m=\u001b[39m \u001b[39mint\u001b[39m(observer)\n\u001b[1;32m    284\u001b[0m \u001b[39melse\u001b[39;00m:\n\u001b[0;32m--> 285\u001b[0m     \u001b[39mraise\u001b[39;00m CIEObserverError(\u001b[39m\"\u001b[39m\u001b[39mThe observer should be a CIE standard 1931 or 1964 observer (2º or 10º).\u001b[39m\u001b[39m\"\u001b[39m)\n",
      "\u001b[0;31mCIEObserverError\u001b[0m: The observer should be a CIE standard 1931 or 1964 observer (2º or 10º)."
     ]
    }
   ],
   "source": [
    "sample_LCHab = CIELCHab(name_id=\"Sample_1\", L=29.08465, Cab=59.008015, Hab=317.557266, cie_illuminant=\"D65\", observer=20)"
   ]
  },
  {
   "cell_type": "markdown",
   "metadata": {},
   "source": [
    "### Attributes"
   ]
  },
  {
   "cell_type": "code",
   "execution_count": 63,
   "metadata": {},
   "outputs": [
    {
     "name": "stdout",
     "output_type": "stream",
     "text": [
      "Colour Object\n",
      "CIE LCHab\n",
      "CIE LCHab\n",
      "Sample_1\n",
      "[29.08465, 59.008015, 317.557266]\n",
      "Illuminant object: CIE D65 standard illuminant\n",
      "2º standard observer (CIE 1931)\n",
      "{'Sample_1': [29.08465, 59.008015, 317.557266]}\n"
     ]
    }
   ],
   "source": [
    "print(sample_LCHab.type)\n",
    "print(sample_LCHab.colour_space()) # subtype\n",
    "print(sample_LCHab.subtype) # returns colour space\n",
    "print(sample_LCHab.name_id)\n",
    "print(sample_LCHab.coordinates)\n",
    "print(sample_LCHab.illuminant) # str method\n",
    "print(sample_LCHab.observer) # str method\n",
    "print(sample_LCHab.get_sample()) # colour data as dict"
   ]
  },
  {
   "cell_type": "markdown",
   "metadata": {},
   "source": [
    "### Methods"
   ]
  },
  {
   "cell_type": "markdown",
   "metadata": {},
   "source": [
    "The `__str__` method returns the string representation of the object. This method is called when the print() or str() \n",
    "function is invoked on an object."
   ]
  },
  {
   "cell_type": "code",
   "execution_count": 64,
   "metadata": {},
   "outputs": [
    {
     "name": "stdout",
     "output_type": "stream",
     "text": [
      "CIELCHab object: Sample_1 : L* =29.08465, C*ab=59.008015, h*ab=317.557266\n"
     ]
    }
   ],
   "source": [
    "print(sample_LCHab)"
   ]
  },
  {
   "cell_type": "markdown",
   "metadata": {},
   "source": [
    "`Colour space conversion`:"
   ]
  },
  {
   "cell_type": "markdown",
   "metadata": {},
   "source": [
    "It is only necessary to execute the class method that performs the colour conversion to the output colour space, for example:"
   ]
  },
  {
   "cell_type": "code",
   "execution_count": 65,
   "metadata": {},
   "outputs": [
    {
     "data": {
      "text/plain": [
       "coolpi.colour.cie_colour_spectral.CIELUV"
      ]
     },
     "execution_count": 65,
     "metadata": {},
     "output_type": "execute_result"
    }
   ],
   "source": [
    "sample_LUV = sample_LCHab.to_LUV() # returns a CIELUV class object\n",
    "type(sample_LUV)"
   ]
  },
  {
   "cell_type": "markdown",
   "metadata": {},
   "source": [
    "Note: After applying the colour conversion, a new Colour object is returned."
   ]
  },
  {
   "cell_type": "markdown",
   "metadata": {},
   "source": [
    "The alternative way to obtain the colour coordinates in the desired output colour space is:"
   ]
  },
  {
   "cell_type": "code",
   "execution_count": 66,
   "metadata": {},
   "outputs": [
    {
     "name": "stdout",
     "output_type": "stream",
     "text": [
      "XYZ   =  [10.234001192169652, 5.871000804384624, 22.10900190432898]\n",
      "xyY   =  [0.26780761363592964, 0.15363479889760845, 5.871000804384624]\n",
      "uvY   =  [0.24866060070314994, 0.3209638887568151, 5.871000804384624]\n",
      "LAB   =  [29.08465, 43.54509493011557, -39.821734539914864]\n",
      "LUV   =  [29.084649999999996, 19.220244558537818, -55.723050478703314]\n",
      "LCHuv =  [29.084649999999996, 58.9446872545959, 289.03056784603535]\n"
     ]
    }
   ],
   "source": [
    "print(\"XYZ   = \", sample_LCHab.to_XYZ().coordinates)\n",
    "print(\"xyY   = \", sample_LCHab.to_xyY().coordinates)\n",
    "print(\"uvY   = \", sample_LCHab.to_uvY().coordinates)\n",
    "print(\"LAB   = \", sample_LCHab.to_LAB().coordinates)\n",
    "print(\"LUV   = \", sample_LCHab.to_LUV().coordinates)\n",
    "print(\"LCHuv = \", sample_LCHab.to_LCHuv().coordinates)"
   ]
  },
  {
   "cell_type": "markdown",
   "metadata": {},
   "source": [
    "RGB"
   ]
  },
  {
   "cell_type": "code",
   "execution_count": 67,
   "metadata": {},
   "outputs": [
    {
     "name": "stdout",
     "output_type": "stream",
     "text": [
      "sRGB     =  [0.3975511693849829, 0.15233210155791194, 0.5141948156003442]\n",
      "AdobeRGB =  [0.3484283887766336, 0.1522825682460794, 0.505183692716826]\n",
      "AppleRGB =  [0.3835002879135414, 0.12346658710006109, 0.5212116905001472]\n"
     ]
    }
   ],
   "source": [
    "print(\"sRGB     = \", sample_LCHab.to_RGB(rgb_name_space = \"sRGB\").coordinates)\n",
    "print(\"AdobeRGB = \", sample_LCHab.to_RGB(rgb_name_space = \"Adobe\").coordinates)\n",
    "print(\"AppleRGB = \", sample_LCHab.to_RGB(rgb_name_space = \"Apple\").coordinates)"
   ]
  },
  {
   "cell_type": "markdown",
   "metadata": {},
   "source": [
    "`Colour difference`:"
   ]
  },
  {
   "cell_type": "markdown",
   "metadata": {},
   "source": [
    "$\\Delta E_{ab}^*$ Colour Difference:"
   ]
  },
  {
   "cell_type": "markdown",
   "metadata": {},
   "source": [
    "Given two *CIELCHab* colour samples, it is posible to compute the $\\Delta E_{ab}$ colour difference between them as follows:"
   ]
  },
  {
   "cell_type": "code",
   "execution_count": 68,
   "metadata": {},
   "outputs": [],
   "source": [
    "S1_LCHab = CIELCHab(name_id=\"Sample_1\", L=29.08465, Cab=59.008015, Hab=317.557266, cie_illuminant=\"D65\", observer=2)\n",
    "S2_LCHab = CIELCHab(name_id=\"Sample_2\", L=35.893646, Cab=33.654304, Hab=298.200655, cie_illuminant=\"D65\", observer=2)"
   ]
  },
  {
   "cell_type": "code",
   "execution_count": 69,
   "metadata": {},
   "outputs": [
    {
     "name": "stdout",
     "output_type": "stream",
     "text": [
      "30.22714623748055\n"
     ]
    }
   ],
   "source": [
    "AE_ab = S1_LCHab.delta_e_ab(S2_LCHab)\n",
    "print(AE_ab)"
   ]
  },
  {
   "cell_type": "markdown",
   "metadata": {},
   "source": [
    "$\\Delta H_{ab}$"
   ]
  },
  {
   "cell_type": "markdown",
   "metadata": {},
   "source": [
    "To compute the $\\Delta H_{ab}$ difference between the two CIE LCHab colour samples:"
   ]
  },
  {
   "cell_type": "code",
   "execution_count": 70,
   "metadata": {},
   "outputs": [
    {
     "name": "stdout",
     "output_type": "stream",
     "text": [
      "-14.98356705402615\n"
     ]
    }
   ],
   "source": [
    "AH_ab = S1_LCHab.hue_difference(S2_LCHab)\n",
    "print(AH_ab)"
   ]
  },
  {
   "cell_type": "markdown",
   "metadata": {},
   "source": [
    "The *CIELCHab* reference and target objects should be measured under the same illuminant:"
   ]
  },
  {
   "cell_type": "code",
   "execution_count": 71,
   "metadata": {},
   "outputs": [],
   "source": [
    "S3_LCHab = CIELCHab(name_id=\"Sample_3\", L=35.893646, Cab=33.654304, Hab=298.200655, cie_illuminant=\"D50\", observer=2)"
   ]
  },
  {
   "cell_type": "code",
   "execution_count": 72,
   "metadata": {},
   "outputs": [
    {
     "ename": "CIEIlluminantError",
     "evalue": "The CIELCHab target must be referred to the same illuminant D65.",
     "output_type": "error",
     "traceback": [
      "\u001b[0;31m---------------------------------------------------------------------------\u001b[0m",
      "\u001b[0;31mCIEIlluminantError\u001b[0m                        Traceback (most recent call last)",
      "\u001b[1;32m/Users/adolfomoladatebar/Library/Mobile Documents/com~apple~CloudDocs/GitHub/notebooks_test/02a_Colour_objects.ipynb Cell 167\u001b[0m in \u001b[0;36m<cell line: 1>\u001b[0;34m()\u001b[0m\n\u001b[0;32m----> <a href='vscode-notebook-cell:/Users/adolfomoladatebar/Library/Mobile%20Documents/com~apple~CloudDocs/GitHub/notebooks_test/02a_Colour_objects.ipynb#Y325sZmlsZQ%3D%3D?line=0'>1</a>\u001b[0m AE_ab \u001b[39m=\u001b[39m S1_LCHab\u001b[39m.\u001b[39;49mdelta_e_ab(S3_LCHab)\n\u001b[1;32m      <a href='vscode-notebook-cell:/Users/adolfomoladatebar/Library/Mobile%20Documents/com~apple~CloudDocs/GitHub/notebooks_test/02a_Colour_objects.ipynb#Y325sZmlsZQ%3D%3D?line=1'>2</a>\u001b[0m \u001b[39mprint\u001b[39m(AE_ab)\n",
      "File \u001b[0;32m~/.local/share/virtualenvs/notebooks_test-m1LjhKG4/lib/python3.9/site-packages/coolpi/colour/cie_colour_spectral.py:2008\u001b[0m, in \u001b[0;36mCIELCHab.delta_e_ab\u001b[0;34m(self, target)\u001b[0m\n\u001b[1;32m   2006\u001b[0m         \u001b[39mreturn\u001b[39;00m AE_ab\n\u001b[1;32m   2007\u001b[0m     \u001b[39melse\u001b[39;00m:\n\u001b[0;32m-> 2008\u001b[0m         \u001b[39mraise\u001b[39;00m CIEIlluminantError(\u001b[39mf\u001b[39m\u001b[39m\"\u001b[39m\u001b[39mThe CIELCHab target must be referred to the same illuminant \u001b[39m\u001b[39m{\u001b[39;00m\u001b[39mself\u001b[39m\u001b[39m.\u001b[39milluminant\u001b[39m.\u001b[39milluminant_name\u001b[39m}\u001b[39;00m\u001b[39m.\u001b[39m\u001b[39m\"\u001b[39m)\n\u001b[1;32m   2009\u001b[0m \u001b[39melse\u001b[39;00m:\n\u001b[1;32m   2010\u001b[0m     \u001b[39mraise\u001b[39;00m ClassTypeError(\u001b[39m\"\u001b[39m\u001b[39mThe input target is not a CIELCHab colour object.\u001b[39m\u001b[39m\"\u001b[39m)\n",
      "\u001b[0;31mCIEIlluminantError\u001b[0m: The CIELCHab target must be referred to the same illuminant D65."
     ]
    }
   ],
   "source": [
    "AE_ab = S1_LCHab.delta_e_ab(S3_LCHab)\n",
    "print(AE_ab)"
   ]
  },
  {
   "cell_type": "markdown",
   "metadata": {},
   "source": [
    "The reference and the colour target should be referred to the same colour space:"
   ]
  },
  {
   "cell_type": "code",
   "execution_count": 73,
   "metadata": {},
   "outputs": [
    {
     "ename": "ClassTypeError",
     "evalue": "The input target is not a CIELCHab colour object.",
     "output_type": "error",
     "traceback": [
      "\u001b[0;31m---------------------------------------------------------------------------\u001b[0m",
      "\u001b[0;31mClassTypeError\u001b[0m                            Traceback (most recent call last)",
      "\u001b[1;32m/Users/adolfomoladatebar/Library/Mobile Documents/com~apple~CloudDocs/GitHub/notebooks_test/02a_Colour_objects.ipynb Cell 169\u001b[0m in \u001b[0;36m<cell line: 1>\u001b[0;34m()\u001b[0m\n\u001b[0;32m----> <a href='vscode-notebook-cell:/Users/adolfomoladatebar/Library/Mobile%20Documents/com~apple~CloudDocs/GitHub/notebooks_test/02a_Colour_objects.ipynb#Y330sZmlsZQ%3D%3D?line=0'>1</a>\u001b[0m AE_ab \u001b[39m=\u001b[39m S1_LCHab\u001b[39m.\u001b[39;49mdelta_e_ab(S3_XYZ)\n",
      "File \u001b[0;32m~/.local/share/virtualenvs/notebooks_test-m1LjhKG4/lib/python3.9/site-packages/coolpi/colour/cie_colour_spectral.py:2010\u001b[0m, in \u001b[0;36mCIELCHab.delta_e_ab\u001b[0;34m(self, target)\u001b[0m\n\u001b[1;32m   2008\u001b[0m         \u001b[39mraise\u001b[39;00m CIEIlluminantError(\u001b[39mf\u001b[39m\u001b[39m\"\u001b[39m\u001b[39mThe CIELCHab target must be referred to the same illuminant \u001b[39m\u001b[39m{\u001b[39;00m\u001b[39mself\u001b[39m\u001b[39m.\u001b[39milluminant\u001b[39m.\u001b[39milluminant_name\u001b[39m}\u001b[39;00m\u001b[39m.\u001b[39m\u001b[39m\"\u001b[39m)\n\u001b[1;32m   2009\u001b[0m \u001b[39melse\u001b[39;00m:\n\u001b[0;32m-> 2010\u001b[0m     \u001b[39mraise\u001b[39;00m ClassTypeError(\u001b[39m\"\u001b[39m\u001b[39mThe input target is not a CIELCHab colour object.\u001b[39m\u001b[39m\"\u001b[39m)\n",
      "\u001b[0;31mClassTypeError\u001b[0m: The input target is not a CIELCHab colour object."
     ]
    }
   ],
   "source": [
    "AE_ab = S1_LCHab.delta_e_ab(S3_XYZ)"
   ]
  },
  {
   "cell_type": "markdown",
   "metadata": {},
   "source": [
    "## CIE LUV"
   ]
  },
  {
   "cell_type": "code",
   "execution_count": 74,
   "metadata": {},
   "outputs": [],
   "source": [
    "from coolpi.colour.cie_colour_spectral import CIELUV"
   ]
  },
  {
   "cell_type": "markdown",
   "metadata": {},
   "source": [
    "### To create an instance"
   ]
  },
  {
   "cell_type": "markdown",
   "metadata": {},
   "source": [
    "To create an instance of the `CIELUV` class, simply enter the required parameters as follows:"
   ]
  },
  {
   "cell_type": "code",
   "execution_count": 75,
   "metadata": {},
   "outputs": [],
   "source": [
    "sample_LUV = CIELUV(name_id=\"Sample_1\", L=29.08465, U=19.220243, V=-55.723049, cie_illuminant=\"D65\", observer=2)"
   ]
  },
  {
   "cell_type": "markdown",
   "metadata": {},
   "source": [
    "The colour sample should be referred to a valid CIE standard illuminant and observer:"
   ]
  },
  {
   "cell_type": "code",
   "execution_count": 76,
   "metadata": {},
   "outputs": [
    {
     "ename": "CIEIlluminantError",
     "evalue": "The input illuminant is not a valid CIE standard illuminant.",
     "output_type": "error",
     "traceback": [
      "\u001b[0;31m---------------------------------------------------------------------------\u001b[0m",
      "\u001b[0;31mCIEIlluminantError\u001b[0m                        Traceback (most recent call last)",
      "\u001b[1;32m/Users/adolfomoladatebar/Library/Mobile Documents/com~apple~CloudDocs/GitHub/notebooks_test/02a_Colour_objects.ipynb Cell 176\u001b[0m in \u001b[0;36m<cell line: 1>\u001b[0;34m()\u001b[0m\n\u001b[0;32m----> <a href='vscode-notebook-cell:/Users/adolfomoladatebar/Library/Mobile%20Documents/com~apple~CloudDocs/GitHub/notebooks_test/02a_Colour_objects.ipynb#Y340sZmlsZQ%3D%3D?line=0'>1</a>\u001b[0m sample_LUV \u001b[39m=\u001b[39m CIELUV(name_id\u001b[39m=\u001b[39;49m\u001b[39m\"\u001b[39;49m\u001b[39mSample_1\u001b[39;49m\u001b[39m\"\u001b[39;49m, L\u001b[39m=\u001b[39;49m\u001b[39m29.08465\u001b[39;49m, U\u001b[39m=\u001b[39;49m\u001b[39m19.220243\u001b[39;49m, V\u001b[39m=\u001b[39;49m\u001b[39m-\u001b[39;49m\u001b[39m55.723049\u001b[39;49m, cie_illuminant\u001b[39m=\u001b[39;49m\u001b[39m\"\u001b[39;49m\u001b[39mD30\u001b[39;49m\u001b[39m\"\u001b[39;49m, observer\u001b[39m=\u001b[39;49m\u001b[39m2\u001b[39;49m)\n",
      "File \u001b[0;32m~/.local/share/virtualenvs/notebooks_test-m1LjhKG4/lib/python3.9/site-packages/coolpi/colour/cie_colour_spectral.py:2081\u001b[0m, in \u001b[0;36mCIELUV.__init__\u001b[0;34m(self, name_id, L, U, V, cie_illuminant, observer)\u001b[0m\n\u001b[1;32m   2080\u001b[0m \u001b[39mdef\u001b[39;00m \u001b[39m__init__\u001b[39m(\u001b[39mself\u001b[39m, name_id, L, U, V, cie_illuminant \u001b[39m=\u001b[39m \u001b[39m\"\u001b[39m\u001b[39mD65\u001b[39m\u001b[39m\"\u001b[39m, observer \u001b[39m=\u001b[39m \u001b[39m2\u001b[39m):\n\u001b[0;32m-> 2081\u001b[0m     \u001b[39mself\u001b[39;49m\u001b[39m.\u001b[39;49m__illuminant_is_CIE__(cie_illuminant)\n\u001b[1;32m   2082\u001b[0m     \u001b[39mself\u001b[39m\u001b[39m.\u001b[39m__update__(name_id, cie_illuminant, observer, [L, U, V])\n",
      "File \u001b[0;32m~/.local/share/virtualenvs/notebooks_test-m1LjhKG4/lib/python3.9/site-packages/coolpi/colour/cie_colour_spectral.py:1205\u001b[0m, in \u001b[0;36mColour.__illuminant_is_CIE__\u001b[0;34m(self, illuminant)\u001b[0m\n\u001b[1;32m   1203\u001b[0m         \u001b[39mreturn\u001b[39;00m \u001b[39mTrue\u001b[39;00m\n\u001b[1;32m   1204\u001b[0m     \u001b[39melse\u001b[39;00m:\n\u001b[0;32m-> 1205\u001b[0m         \u001b[39mraise\u001b[39;00m CIEIlluminantError(\u001b[39m\"\u001b[39m\u001b[39mThe input illuminant is not a valid CIE standard illuminant.\u001b[39m\u001b[39m\"\u001b[39m)\n\u001b[1;32m   1206\u001b[0m \u001b[39melif\u001b[39;00m \u001b[39misinstance\u001b[39m(illuminant, Illuminant):\n\u001b[1;32m   1207\u001b[0m     \u001b[39mreturn\u001b[39;00m \u001b[39mTrue\u001b[39;00m\n",
      "\u001b[0;31mCIEIlluminantError\u001b[0m: The input illuminant is not a valid CIE standard illuminant."
     ]
    }
   ],
   "source": [
    "sample_LUV = CIELUV(name_id=\"Sample_1\", L=29.08465, U=19.220243, V=-55.723049, cie_illuminant=\"D30\", observer=2)"
   ]
  },
  {
   "cell_type": "code",
   "execution_count": 77,
   "metadata": {},
   "outputs": [
    {
     "ename": "CIEObserverError",
     "evalue": "The observer should be a CIE standard 1931 or 1964 observer (2º or 10º).",
     "output_type": "error",
     "traceback": [
      "\u001b[0;31m---------------------------------------------------------------------------\u001b[0m",
      "\u001b[0;31mCIEObserverError\u001b[0m                          Traceback (most recent call last)",
      "\u001b[1;32m/Users/adolfomoladatebar/Library/Mobile Documents/com~apple~CloudDocs/GitHub/notebooks_test/02a_Colour_objects.ipynb Cell 177\u001b[0m in \u001b[0;36m<cell line: 1>\u001b[0;34m()\u001b[0m\n\u001b[0;32m----> <a href='vscode-notebook-cell:/Users/adolfomoladatebar/Library/Mobile%20Documents/com~apple~CloudDocs/GitHub/notebooks_test/02a_Colour_objects.ipynb#Y341sZmlsZQ%3D%3D?line=0'>1</a>\u001b[0m sample_LUV \u001b[39m=\u001b[39m CIELUV(name_id\u001b[39m=\u001b[39;49m\u001b[39m\"\u001b[39;49m\u001b[39mSample_1\u001b[39;49m\u001b[39m\"\u001b[39;49m, L\u001b[39m=\u001b[39;49m\u001b[39m29.08465\u001b[39;49m, U\u001b[39m=\u001b[39;49m\u001b[39m19.220243\u001b[39;49m, V\u001b[39m=\u001b[39;49m\u001b[39m-\u001b[39;49m\u001b[39m55.723049\u001b[39;49m, cie_illuminant\u001b[39m=\u001b[39;49m\u001b[39m\"\u001b[39;49m\u001b[39mD65\u001b[39;49m\u001b[39m\"\u001b[39;49m, observer\u001b[39m=\u001b[39;49m\u001b[39m20\u001b[39;49m)\n",
      "File \u001b[0;32m~/.local/share/virtualenvs/notebooks_test-m1LjhKG4/lib/python3.9/site-packages/coolpi/colour/cie_colour_spectral.py:2082\u001b[0m, in \u001b[0;36mCIELUV.__init__\u001b[0;34m(self, name_id, L, U, V, cie_illuminant, observer)\u001b[0m\n\u001b[1;32m   2080\u001b[0m \u001b[39mdef\u001b[39;00m \u001b[39m__init__\u001b[39m(\u001b[39mself\u001b[39m, name_id, L, U, V, cie_illuminant \u001b[39m=\u001b[39m \u001b[39m\"\u001b[39m\u001b[39mD65\u001b[39m\u001b[39m\"\u001b[39m, observer \u001b[39m=\u001b[39m \u001b[39m2\u001b[39m):\n\u001b[1;32m   2081\u001b[0m     \u001b[39mself\u001b[39m\u001b[39m.\u001b[39m__illuminant_is_CIE__(cie_illuminant)\n\u001b[0;32m-> 2082\u001b[0m     \u001b[39mself\u001b[39;49m\u001b[39m.\u001b[39;49m__update__(name_id, cie_illuminant, observer, [L, U, V])\n",
      "File \u001b[0;32m~/.local/share/virtualenvs/notebooks_test-m1LjhKG4/lib/python3.9/site-packages/coolpi/colour/cie_colour_spectral.py:2088\u001b[0m, in \u001b[0;36mCIELUV.__update__\u001b[0;34m(self, name_id, illuminant, observer, coordinates)\u001b[0m\n\u001b[1;32m   2087\u001b[0m \u001b[39mdef\u001b[39;00m \u001b[39m__update__\u001b[39m(\u001b[39mself\u001b[39m, name_id, illuminant, observer, coordinates):\n\u001b[0;32m-> 2088\u001b[0m     \u001b[39msuper\u001b[39;49m()\u001b[39m.\u001b[39;49m__update__(illuminant, observer, coordinates)\n\u001b[1;32m   2089\u001b[0m     \u001b[39mself\u001b[39m\u001b[39m.\u001b[39mname_id \u001b[39m=\u001b[39m name_id\n",
      "File \u001b[0;32m~/.local/share/virtualenvs/notebooks_test-m1LjhKG4/lib/python3.9/site-packages/coolpi/colour/cie_colour_spectral.py:1248\u001b[0m, in \u001b[0;36mColour.__update__\u001b[0;34m(self, illuminant, observer, coordinates)\u001b[0m\n\u001b[1;32m   1246\u001b[0m \u001b[39mdef\u001b[39;00m \u001b[39m__update__\u001b[39m(\u001b[39mself\u001b[39m, illuminant, observer, coordinates):\n\u001b[1;32m   1247\u001b[0m     \u001b[39mself\u001b[39m\u001b[39m.\u001b[39milluminant \u001b[39m=\u001b[39m illuminant\n\u001b[0;32m-> 1248\u001b[0m     \u001b[39mself\u001b[39;49m\u001b[39m.\u001b[39;49mobserver \u001b[39m=\u001b[39m observer\n\u001b[1;32m   1249\u001b[0m     \u001b[39mself\u001b[39m\u001b[39m.\u001b[39mcoordinates \u001b[39m=\u001b[39m coordinates\n",
      "File \u001b[0;32m~/.local/share/virtualenvs/notebooks_test-m1LjhKG4/lib/python3.9/site-packages/coolpi/colour/cie_colour_spectral.py:1220\u001b[0m, in \u001b[0;36mColour.observer\u001b[0;34m(self, observer)\u001b[0m\n\u001b[1;32m   1218\u001b[0m     \u001b[39mself\u001b[39m\u001b[39m.\u001b[39m__observer  \u001b[39m=\u001b[39m observer\n\u001b[1;32m   1219\u001b[0m \u001b[39melse\u001b[39;00m:\n\u001b[0;32m-> 1220\u001b[0m     \u001b[39mself\u001b[39m\u001b[39m.\u001b[39m__observer \u001b[39m=\u001b[39m Observer(observer)\n",
      "File \u001b[0;32m~/.local/share/virtualenvs/notebooks_test-m1LjhKG4/lib/python3.9/site-packages/coolpi/colour/cie_colour_spectral.py:293\u001b[0m, in \u001b[0;36mObserver.__init__\u001b[0;34m(self, observer)\u001b[0m\n\u001b[1;32m    287\u001b[0m \u001b[39mdef\u001b[39;00m \u001b[39m__init__\u001b[39m(\u001b[39mself\u001b[39m, observer\u001b[39m=\u001b[39m\u001b[39m2\u001b[39m):     \n\u001b[1;32m    288\u001b[0m     \u001b[39m'''\u001b[39;00m\n\u001b[1;32m    289\u001b[0m \u001b[39m    The Observer class receives a valid `str` or `int` type for the specification of the 2º or \u001b[39;00m\n\u001b[1;32m    290\u001b[0m \u001b[39m    10º degree CIE standard observer.\u001b[39;00m\n\u001b[1;32m    291\u001b[0m \n\u001b[1;32m    292\u001b[0m \u001b[39m    '''\u001b[39;00m   \n\u001b[0;32m--> 293\u001b[0m     \u001b[39mself\u001b[39;49m\u001b[39m.\u001b[39;49mobserver \u001b[39m=\u001b[39m observer\n",
      "File \u001b[0;32m~/.local/share/virtualenvs/notebooks_test-m1LjhKG4/lib/python3.9/site-packages/coolpi/colour/cie_colour_spectral.py:285\u001b[0m, in \u001b[0;36mObserver.observer\u001b[0;34m(self, observer)\u001b[0m\n\u001b[1;32m    283\u001b[0m     \u001b[39mself\u001b[39m\u001b[39m.\u001b[39m__observer \u001b[39m=\u001b[39m \u001b[39mint\u001b[39m(observer)\n\u001b[1;32m    284\u001b[0m \u001b[39melse\u001b[39;00m:\n\u001b[0;32m--> 285\u001b[0m     \u001b[39mraise\u001b[39;00m CIEObserverError(\u001b[39m\"\u001b[39m\u001b[39mThe observer should be a CIE standard 1931 or 1964 observer (2º or 10º).\u001b[39m\u001b[39m\"\u001b[39m)\n",
      "\u001b[0;31mCIEObserverError\u001b[0m: The observer should be a CIE standard 1931 or 1964 observer (2º or 10º)."
     ]
    }
   ],
   "source": [
    "sample_LUV = CIELUV(name_id=\"Sample_1\", L=29.08465, U=19.220243, V=-55.723049, cie_illuminant=\"D65\", observer=20)"
   ]
  },
  {
   "cell_type": "markdown",
   "metadata": {},
   "source": [
    "### Attributes"
   ]
  },
  {
   "cell_type": "code",
   "execution_count": 78,
   "metadata": {},
   "outputs": [
    {
     "name": "stdout",
     "output_type": "stream",
     "text": [
      "Colour Object\n",
      "CIE LUV\n",
      "CIE LUV\n",
      "Sample_1\n",
      "[29.08465, 19.220243, -55.723049]\n",
      "Illuminant object: CIE D65 standard illuminant\n",
      "2º standard observer (CIE 1931)\n",
      "{'Sample_1': [29.08465, 19.220243, -55.723049]}\n"
     ]
    }
   ],
   "source": [
    "print(sample_LUV.type)\n",
    "print(sample_LUV.colour_space()) # subtype\n",
    "print(sample_LUV.subtype) # returns colour space\n",
    "print(sample_LUV.name_id)\n",
    "print(sample_LUV.coordinates)\n",
    "print(sample_LUV.illuminant) # str method\n",
    "print(sample_LUV.observer) # str method\n",
    "print(sample_LUV.get_sample()) # colour data as dict"
   ]
  },
  {
   "cell_type": "markdown",
   "metadata": {},
   "source": [
    "### Methods"
   ]
  },
  {
   "cell_type": "markdown",
   "metadata": {},
   "source": [
    "The `__str__` method returns the string representation of the object. This method is called when the print() or str() \n",
    "function is invoked on an object."
   ]
  },
  {
   "cell_type": "code",
   "execution_count": 79,
   "metadata": {},
   "outputs": [
    {
     "name": "stdout",
     "output_type": "stream",
     "text": [
      "CIELUV object: Sample_1 : L* =29.08465, u*=19.220243, v*=-55.723049\n"
     ]
    }
   ],
   "source": [
    "print(sample_LUV)"
   ]
  },
  {
   "cell_type": "markdown",
   "metadata": {},
   "source": [
    "`Colour space conversion`:"
   ]
  },
  {
   "cell_type": "markdown",
   "metadata": {},
   "source": [
    "It is only necessary to execute the class method that performs the colour conversion to the output colour space, for example:"
   ]
  },
  {
   "cell_type": "code",
   "execution_count": 80,
   "metadata": {},
   "outputs": [
    {
     "data": {
      "text/plain": [
       "coolpi.colour.cie_colour_spectral.CIELCHuv"
      ]
     },
     "execution_count": 80,
     "metadata": {},
     "output_type": "execute_result"
    }
   ],
   "source": [
    "sample_LCHuv = sample_LUV.to_LCHuv() # returns a CIELCHuv class object\n",
    "type(sample_LCHuv)"
   ]
  },
  {
   "cell_type": "markdown",
   "metadata": {},
   "source": [
    "Note: After applying the colour conversion, a new Colour object is returned."
   ]
  },
  {
   "cell_type": "markdown",
   "metadata": {},
   "source": [
    "The alternative way to obtain the colour coordinates in the desired output colour space is:"
   ]
  },
  {
   "cell_type": "code",
   "execution_count": 81,
   "metadata": {},
   "outputs": [
    {
     "name": "stdout",
     "output_type": "stream",
     "text": [
      "XYZ   =  [10.23400089782265, 5.871000804384624, 22.109001333800745]\n",
      "xyY   =  [0.2678076119944678, 0.1536348023747352, 5.871000804384624]\n",
      "uvY   =  [0.2486605965811294, 0.3209638926676893, 5.871000804384624]\n",
      "LAB   =  [29.084649999999996, 43.54509264954989, -39.82173352874585]\n",
      "LCHab =  [29.084649999999996, 59.008012634661114, 317.55726523015403]\n",
      "LCHuv =  [29.08465, 58.9446853485151, 289.0305668825717]\n"
     ]
    }
   ],
   "source": [
    "print(\"XYZ   = \", sample_LUV.to_XYZ().coordinates)\n",
    "print(\"xyY   = \", sample_LUV.to_xyY().coordinates)\n",
    "print(\"uvY   = \", sample_LUV.to_uvY().coordinates)\n",
    "print(\"LAB   = \", sample_LUV.to_LAB().coordinates)\n",
    "print(\"LCHab = \", sample_LUV.to_LCHab().coordinates)\n",
    "print(\"LCHuv = \", sample_LUV.to_LCHuv().coordinates)"
   ]
  },
  {
   "cell_type": "markdown",
   "metadata": {},
   "source": [
    "RGB"
   ]
  },
  {
   "cell_type": "code",
   "execution_count": 82,
   "metadata": {},
   "outputs": [
    {
     "name": "stdout",
     "output_type": "stream",
     "text": [
      "sRGB     =  [0.3975511597612691, 0.15233211277188624, 0.5141948091403663]\n",
      "AdobeRGB =  [0.34842838195041914, 0.15228257946662999, 0.5051836864980597]\n",
      "AppleRGB =  [0.38350027892160043, 0.12346660287196215, 0.5212116838595396]\n"
     ]
    }
   ],
   "source": [
    "print(\"sRGB     = \", sample_LUV.to_RGB(rgb_name_space = \"sRGB\").coordinates)\n",
    "print(\"AdobeRGB = \", sample_LUV.to_RGB(rgb_name_space = \"Adobe\").coordinates)\n",
    "print(\"AppleRGB = \", sample_LUV.to_RGB(rgb_name_space = \"Apple\").coordinates)"
   ]
  },
  {
   "cell_type": "markdown",
   "metadata": {},
   "source": [
    "`Colour difference`:"
   ]
  },
  {
   "cell_type": "markdown",
   "metadata": {},
   "source": [
    "Saturation ($s_{uv}$)"
   ]
  },
  {
   "cell_type": "markdown",
   "metadata": {},
   "source": [
    "To compute the $s_{uv}$ (saturation) of a given *CIELUV* colour sample:"
   ]
  },
  {
   "cell_type": "code",
   "execution_count": 83,
   "metadata": {},
   "outputs": [
    {
     "name": "stdout",
     "output_type": "stream",
     "text": [
      "2.0266596073363474\n"
     ]
    }
   ],
   "source": [
    "s_uv = sample_LUV.get_saturation()\n",
    "print(s_uv)"
   ]
  },
  {
   "cell_type": "markdown",
   "metadata": {},
   "source": [
    "$\\Delta E_{uv}^*$"
   ]
  },
  {
   "cell_type": "markdown",
   "metadata": {},
   "source": [
    "Given two *CIELUV* colour objects, it is posible to compute the $\\Delta E_{uv}$ colour difference between them as follows:"
   ]
  },
  {
   "cell_type": "code",
   "execution_count": 84,
   "metadata": {},
   "outputs": [],
   "source": [
    "S1_LUV = CIELUV(name_id=\"Sample_1\", L=29.08465, U=19.220243, V=-55.723049, cie_illuminant=\"D65\", observer=2)\n",
    "S2_LUV = CIELUV(name_id=\"Sample_2\", L=35.893646, U=-1.021978, V=-42.663638, cie_illuminant=\"D65\", observer=2)"
   ]
  },
  {
   "cell_type": "code",
   "execution_count": 85,
   "metadata": {},
   "outputs": [
    {
     "name": "stdout",
     "output_type": "stream",
     "text": [
      "25.033141097508683\n"
     ]
    }
   ],
   "source": [
    "AE_uv = S1_LUV.delta_e_uv(S2_LUV)\n",
    "print(AE_uv)"
   ]
  },
  {
   "cell_type": "code",
   "execution_count": 86,
   "metadata": {},
   "outputs": [
    {
     "name": "stdout",
     "output_type": "stream",
     "text": [
      "25.033141097508683\n"
     ]
    }
   ],
   "source": [
    "AE_uv = S2_LUV.delta_e_uv(S1_LUV)\n",
    "print(AE_uv)"
   ]
  },
  {
   "cell_type": "markdown",
   "metadata": {},
   "source": [
    "The *CIELUV* reference and target objects should be measured under the same illuminant:"
   ]
  },
  {
   "cell_type": "code",
   "execution_count": 87,
   "metadata": {},
   "outputs": [],
   "source": [
    "S3_LUV = CIELUV(name_id=\"Sample_3\", L=35.893646, U=-1.021978, V=-42.663638, cie_illuminant=\"D50\", observer=2)"
   ]
  },
  {
   "cell_type": "code",
   "execution_count": 88,
   "metadata": {},
   "outputs": [
    {
     "ename": "CIEIlluminantError",
     "evalue": "The CIELUV sample must be referred to the same illuminant D65.",
     "output_type": "error",
     "traceback": [
      "\u001b[0;31m---------------------------------------------------------------------------\u001b[0m",
      "\u001b[0;31mCIEIlluminantError\u001b[0m                        Traceback (most recent call last)",
      "\u001b[1;32m/Users/adolfomoladatebar/Library/Mobile Documents/com~apple~CloudDocs/GitHub/notebooks_test/02a_Colour_objects.ipynb Cell 202\u001b[0m in \u001b[0;36m<cell line: 1>\u001b[0;34m()\u001b[0m\n\u001b[0;32m----> <a href='vscode-notebook-cell:/Users/adolfomoladatebar/Library/Mobile%20Documents/com~apple~CloudDocs/GitHub/notebooks_test/02a_Colour_objects.ipynb#Y405sZmlsZQ%3D%3D?line=0'>1</a>\u001b[0m AE_ab \u001b[39m=\u001b[39m S1_LUV\u001b[39m.\u001b[39;49mdelta_e_uv(S3_LUV)\n",
      "File \u001b[0;32m~/.local/share/virtualenvs/notebooks_test-m1LjhKG4/lib/python3.9/site-packages/coolpi/colour/cie_colour_spectral.py:2198\u001b[0m, in \u001b[0;36mCIELUV.delta_e_uv\u001b[0;34m(self, target)\u001b[0m\n\u001b[1;32m   2196\u001b[0m         \u001b[39mreturn\u001b[39;00m AEuv\n\u001b[1;32m   2197\u001b[0m     \u001b[39melse\u001b[39;00m:\n\u001b[0;32m-> 2198\u001b[0m         \u001b[39mraise\u001b[39;00m CIEIlluminantError(\u001b[39mf\u001b[39m\u001b[39m\"\u001b[39m\u001b[39mThe CIELUV sample must be referred to the same illuminant \u001b[39m\u001b[39m{\u001b[39;00m\u001b[39mself\u001b[39m\u001b[39m.\u001b[39milluminant\u001b[39m.\u001b[39milluminant_name\u001b[39m}\u001b[39;00m\u001b[39m.\u001b[39m\u001b[39m\"\u001b[39m)\n\u001b[1;32m   2199\u001b[0m \u001b[39melse\u001b[39;00m:\n\u001b[1;32m   2200\u001b[0m     \u001b[39mraise\u001b[39;00m ClassTypeError(\u001b[39m\"\u001b[39m\u001b[39mThe input sample is not a CIELUV colour object.\u001b[39m\u001b[39m\"\u001b[39m)\n",
      "\u001b[0;31mCIEIlluminantError\u001b[0m: The CIELUV sample must be referred to the same illuminant D65."
     ]
    }
   ],
   "source": [
    "AE_ab = S1_LUV.delta_e_uv(S3_LUV)"
   ]
  },
  {
   "cell_type": "markdown",
   "metadata": {},
   "source": [
    "The reference and the colour target should be referred to the same colour space:"
   ]
  },
  {
   "cell_type": "code",
   "execution_count": 89,
   "metadata": {},
   "outputs": [
    {
     "ename": "ClassTypeError",
     "evalue": "The input sample is not a CIELUV colour object.",
     "output_type": "error",
     "traceback": [
      "\u001b[0;31m---------------------------------------------------------------------------\u001b[0m",
      "\u001b[0;31mClassTypeError\u001b[0m                            Traceback (most recent call last)",
      "\u001b[1;32m/Users/adolfomoladatebar/Library/Mobile Documents/com~apple~CloudDocs/GitHub/notebooks_test/02a_Colour_objects.ipynb Cell 204\u001b[0m in \u001b[0;36m<cell line: 1>\u001b[0;34m()\u001b[0m\n\u001b[0;32m----> <a href='vscode-notebook-cell:/Users/adolfomoladatebar/Library/Mobile%20Documents/com~apple~CloudDocs/GitHub/notebooks_test/02a_Colour_objects.ipynb#Y410sZmlsZQ%3D%3D?line=0'>1</a>\u001b[0m AE_ab \u001b[39m=\u001b[39m S1_LUV\u001b[39m.\u001b[39;49mdelta_e_uv(S3_XYZ)\n",
      "File \u001b[0;32m~/.local/share/virtualenvs/notebooks_test-m1LjhKG4/lib/python3.9/site-packages/coolpi/colour/cie_colour_spectral.py:2200\u001b[0m, in \u001b[0;36mCIELUV.delta_e_uv\u001b[0;34m(self, target)\u001b[0m\n\u001b[1;32m   2198\u001b[0m         \u001b[39mraise\u001b[39;00m CIEIlluminantError(\u001b[39mf\u001b[39m\u001b[39m\"\u001b[39m\u001b[39mThe CIELUV sample must be referred to the same illuminant \u001b[39m\u001b[39m{\u001b[39;00m\u001b[39mself\u001b[39m\u001b[39m.\u001b[39milluminant\u001b[39m.\u001b[39milluminant_name\u001b[39m}\u001b[39;00m\u001b[39m.\u001b[39m\u001b[39m\"\u001b[39m)\n\u001b[1;32m   2199\u001b[0m \u001b[39melse\u001b[39;00m:\n\u001b[0;32m-> 2200\u001b[0m     \u001b[39mraise\u001b[39;00m ClassTypeError(\u001b[39m\"\u001b[39m\u001b[39mThe input sample is not a CIELUV colour object.\u001b[39m\u001b[39m\"\u001b[39m)\n",
      "\u001b[0;31mClassTypeError\u001b[0m: The input sample is not a CIELUV colour object."
     ]
    }
   ],
   "source": [
    "AE_ab = S1_LUV.delta_e_uv(S3_XYZ)"
   ]
  },
  {
   "cell_type": "markdown",
   "metadata": {},
   "source": [
    "## CIE LCHuv"
   ]
  },
  {
   "cell_type": "code",
   "execution_count": 90,
   "metadata": {},
   "outputs": [],
   "source": [
    "from coolpi.colour.cie_colour_spectral import CIELCHuv"
   ]
  },
  {
   "cell_type": "markdown",
   "metadata": {},
   "source": [
    "### To create an instance:"
   ]
  },
  {
   "cell_type": "markdown",
   "metadata": {},
   "source": [
    "To create an instance of the `CIELCHuv` class, simply enter the required parameters as follows:"
   ]
  },
  {
   "cell_type": "code",
   "execution_count": 91,
   "metadata": {},
   "outputs": [],
   "source": [
    "sample_LCHuv = CIELCHuv(name_id=\"Sample_1\", L=29.08465, Cuv=58.944686, Huv=289.030567, cie_illuminant=\"D65\", observer=2)"
   ]
  },
  {
   "cell_type": "markdown",
   "metadata": {},
   "source": [
    "The colour sample should be referred to a valid CIE standard illuminant and observer:"
   ]
  },
  {
   "cell_type": "code",
   "execution_count": 92,
   "metadata": {},
   "outputs": [
    {
     "ename": "CIEIlluminantError",
     "evalue": "The input illuminant is not a valid CIE standard illuminant.",
     "output_type": "error",
     "traceback": [
      "\u001b[0;31m---------------------------------------------------------------------------\u001b[0m",
      "\u001b[0;31mCIEIlluminantError\u001b[0m                        Traceback (most recent call last)",
      "\u001b[1;32m/Users/adolfomoladatebar/Library/Mobile Documents/com~apple~CloudDocs/GitHub/notebooks_test/02a_Colour_objects.ipynb Cell 211\u001b[0m in \u001b[0;36m<cell line: 1>\u001b[0;34m()\u001b[0m\n\u001b[0;32m----> <a href='vscode-notebook-cell:/Users/adolfomoladatebar/Library/Mobile%20Documents/com~apple~CloudDocs/GitHub/notebooks_test/02a_Colour_objects.ipynb#Y420sZmlsZQ%3D%3D?line=0'>1</a>\u001b[0m sample_LCHuv \u001b[39m=\u001b[39m CIELCHuv(name_id\u001b[39m=\u001b[39;49m\u001b[39m\"\u001b[39;49m\u001b[39mSample_1\u001b[39;49m\u001b[39m\"\u001b[39;49m, L\u001b[39m=\u001b[39;49m\u001b[39m29.08465\u001b[39;49m, Cuv\u001b[39m=\u001b[39;49m\u001b[39m58.944686\u001b[39;49m, Huv\u001b[39m=\u001b[39;49m\u001b[39m289.030567\u001b[39;49m, cie_illuminant\u001b[39m=\u001b[39;49m\u001b[39m\"\u001b[39;49m\u001b[39mD30\u001b[39;49m\u001b[39m\"\u001b[39;49m, observer\u001b[39m=\u001b[39;49m\u001b[39m2\u001b[39;49m)\n",
      "File \u001b[0;32m~/.local/share/virtualenvs/notebooks_test-m1LjhKG4/lib/python3.9/site-packages/coolpi/colour/cie_colour_spectral.py:2245\u001b[0m, in \u001b[0;36mCIELCHuv.__init__\u001b[0;34m(self, name_id, L, Cuv, Huv, cie_illuminant, observer)\u001b[0m\n\u001b[1;32m   2244\u001b[0m \u001b[39mdef\u001b[39;00m \u001b[39m__init__\u001b[39m(\u001b[39mself\u001b[39m, name_id, L, Cuv, Huv, cie_illuminant \u001b[39m=\u001b[39m \u001b[39m\"\u001b[39m\u001b[39mD65\u001b[39m\u001b[39m\"\u001b[39m, observer \u001b[39m=\u001b[39m \u001b[39m2\u001b[39m):\n\u001b[0;32m-> 2245\u001b[0m     \u001b[39mself\u001b[39;49m\u001b[39m.\u001b[39;49m__illuminant_is_CIE__(cie_illuminant)\n\u001b[1;32m   2246\u001b[0m     \u001b[39mself\u001b[39m\u001b[39m.\u001b[39m__update__(name_id, cie_illuminant, observer, [L, Cuv, Huv])\n",
      "File \u001b[0;32m~/.local/share/virtualenvs/notebooks_test-m1LjhKG4/lib/python3.9/site-packages/coolpi/colour/cie_colour_spectral.py:1205\u001b[0m, in \u001b[0;36mColour.__illuminant_is_CIE__\u001b[0;34m(self, illuminant)\u001b[0m\n\u001b[1;32m   1203\u001b[0m         \u001b[39mreturn\u001b[39;00m \u001b[39mTrue\u001b[39;00m\n\u001b[1;32m   1204\u001b[0m     \u001b[39melse\u001b[39;00m:\n\u001b[0;32m-> 1205\u001b[0m         \u001b[39mraise\u001b[39;00m CIEIlluminantError(\u001b[39m\"\u001b[39m\u001b[39mThe input illuminant is not a valid CIE standard illuminant.\u001b[39m\u001b[39m\"\u001b[39m)\n\u001b[1;32m   1206\u001b[0m \u001b[39melif\u001b[39;00m \u001b[39misinstance\u001b[39m(illuminant, Illuminant):\n\u001b[1;32m   1207\u001b[0m     \u001b[39mreturn\u001b[39;00m \u001b[39mTrue\u001b[39;00m\n",
      "\u001b[0;31mCIEIlluminantError\u001b[0m: The input illuminant is not a valid CIE standard illuminant."
     ]
    }
   ],
   "source": [
    "sample_LCHuv = CIELCHuv(name_id=\"Sample_1\", L=29.08465, Cuv=58.944686, Huv=289.030567, cie_illuminant=\"D30\", observer=2)"
   ]
  },
  {
   "cell_type": "code",
   "execution_count": 93,
   "metadata": {},
   "outputs": [
    {
     "ename": "CIEObserverError",
     "evalue": "The observer should be a CIE standard 1931 or 1964 observer (2º or 10º).",
     "output_type": "error",
     "traceback": [
      "\u001b[0;31m---------------------------------------------------------------------------\u001b[0m",
      "\u001b[0;31mCIEObserverError\u001b[0m                          Traceback (most recent call last)",
      "\u001b[1;32m/Users/adolfomoladatebar/Library/Mobile Documents/com~apple~CloudDocs/GitHub/notebooks_test/02a_Colour_objects.ipynb Cell 212\u001b[0m in \u001b[0;36m<cell line: 1>\u001b[0;34m()\u001b[0m\n\u001b[0;32m----> <a href='vscode-notebook-cell:/Users/adolfomoladatebar/Library/Mobile%20Documents/com~apple~CloudDocs/GitHub/notebooks_test/02a_Colour_objects.ipynb#Y421sZmlsZQ%3D%3D?line=0'>1</a>\u001b[0m sample_LCHuv \u001b[39m=\u001b[39m CIELCHuv(name_id\u001b[39m=\u001b[39;49m\u001b[39m\"\u001b[39;49m\u001b[39mSample_1\u001b[39;49m\u001b[39m\"\u001b[39;49m, L\u001b[39m=\u001b[39;49m\u001b[39m29.08465\u001b[39;49m, Cuv\u001b[39m=\u001b[39;49m\u001b[39m58.944686\u001b[39;49m, Huv\u001b[39m=\u001b[39;49m\u001b[39m289.030567\u001b[39;49m, cie_illuminant\u001b[39m=\u001b[39;49m\u001b[39m\"\u001b[39;49m\u001b[39mD65\u001b[39;49m\u001b[39m\"\u001b[39;49m, observer\u001b[39m=\u001b[39;49m\u001b[39m20\u001b[39;49m)\n",
      "File \u001b[0;32m~/.local/share/virtualenvs/notebooks_test-m1LjhKG4/lib/python3.9/site-packages/coolpi/colour/cie_colour_spectral.py:2246\u001b[0m, in \u001b[0;36mCIELCHuv.__init__\u001b[0;34m(self, name_id, L, Cuv, Huv, cie_illuminant, observer)\u001b[0m\n\u001b[1;32m   2244\u001b[0m \u001b[39mdef\u001b[39;00m \u001b[39m__init__\u001b[39m(\u001b[39mself\u001b[39m, name_id, L, Cuv, Huv, cie_illuminant \u001b[39m=\u001b[39m \u001b[39m\"\u001b[39m\u001b[39mD65\u001b[39m\u001b[39m\"\u001b[39m, observer \u001b[39m=\u001b[39m \u001b[39m2\u001b[39m):\n\u001b[1;32m   2245\u001b[0m     \u001b[39mself\u001b[39m\u001b[39m.\u001b[39m__illuminant_is_CIE__(cie_illuminant)\n\u001b[0;32m-> 2246\u001b[0m     \u001b[39mself\u001b[39;49m\u001b[39m.\u001b[39;49m__update__(name_id, cie_illuminant, observer, [L, Cuv, Huv])\n",
      "File \u001b[0;32m~/.local/share/virtualenvs/notebooks_test-m1LjhKG4/lib/python3.9/site-packages/coolpi/colour/cie_colour_spectral.py:2252\u001b[0m, in \u001b[0;36mCIELCHuv.__update__\u001b[0;34m(self, name_id, illuminant, observer, coordinates)\u001b[0m\n\u001b[1;32m   2251\u001b[0m \u001b[39mdef\u001b[39;00m \u001b[39m__update__\u001b[39m(\u001b[39mself\u001b[39m, name_id, illuminant, observer, coordinates):\n\u001b[0;32m-> 2252\u001b[0m     \u001b[39msuper\u001b[39;49m()\u001b[39m.\u001b[39;49m__update__(illuminant, observer, coordinates)\n\u001b[1;32m   2253\u001b[0m     \u001b[39mself\u001b[39m\u001b[39m.\u001b[39mname_id \u001b[39m=\u001b[39m name_id\n",
      "File \u001b[0;32m~/.local/share/virtualenvs/notebooks_test-m1LjhKG4/lib/python3.9/site-packages/coolpi/colour/cie_colour_spectral.py:1248\u001b[0m, in \u001b[0;36mColour.__update__\u001b[0;34m(self, illuminant, observer, coordinates)\u001b[0m\n\u001b[1;32m   1246\u001b[0m \u001b[39mdef\u001b[39;00m \u001b[39m__update__\u001b[39m(\u001b[39mself\u001b[39m, illuminant, observer, coordinates):\n\u001b[1;32m   1247\u001b[0m     \u001b[39mself\u001b[39m\u001b[39m.\u001b[39milluminant \u001b[39m=\u001b[39m illuminant\n\u001b[0;32m-> 1248\u001b[0m     \u001b[39mself\u001b[39;49m\u001b[39m.\u001b[39;49mobserver \u001b[39m=\u001b[39m observer\n\u001b[1;32m   1249\u001b[0m     \u001b[39mself\u001b[39m\u001b[39m.\u001b[39mcoordinates \u001b[39m=\u001b[39m coordinates\n",
      "File \u001b[0;32m~/.local/share/virtualenvs/notebooks_test-m1LjhKG4/lib/python3.9/site-packages/coolpi/colour/cie_colour_spectral.py:1220\u001b[0m, in \u001b[0;36mColour.observer\u001b[0;34m(self, observer)\u001b[0m\n\u001b[1;32m   1218\u001b[0m     \u001b[39mself\u001b[39m\u001b[39m.\u001b[39m__observer  \u001b[39m=\u001b[39m observer\n\u001b[1;32m   1219\u001b[0m \u001b[39melse\u001b[39;00m:\n\u001b[0;32m-> 1220\u001b[0m     \u001b[39mself\u001b[39m\u001b[39m.\u001b[39m__observer \u001b[39m=\u001b[39m Observer(observer)\n",
      "File \u001b[0;32m~/.local/share/virtualenvs/notebooks_test-m1LjhKG4/lib/python3.9/site-packages/coolpi/colour/cie_colour_spectral.py:293\u001b[0m, in \u001b[0;36mObserver.__init__\u001b[0;34m(self, observer)\u001b[0m\n\u001b[1;32m    287\u001b[0m \u001b[39mdef\u001b[39;00m \u001b[39m__init__\u001b[39m(\u001b[39mself\u001b[39m, observer\u001b[39m=\u001b[39m\u001b[39m2\u001b[39m):     \n\u001b[1;32m    288\u001b[0m     \u001b[39m'''\u001b[39;00m\n\u001b[1;32m    289\u001b[0m \u001b[39m    The Observer class receives a valid `str` or `int` type for the specification of the 2º or \u001b[39;00m\n\u001b[1;32m    290\u001b[0m \u001b[39m    10º degree CIE standard observer.\u001b[39;00m\n\u001b[1;32m    291\u001b[0m \n\u001b[1;32m    292\u001b[0m \u001b[39m    '''\u001b[39;00m   \n\u001b[0;32m--> 293\u001b[0m     \u001b[39mself\u001b[39;49m\u001b[39m.\u001b[39;49mobserver \u001b[39m=\u001b[39m observer\n",
      "File \u001b[0;32m~/.local/share/virtualenvs/notebooks_test-m1LjhKG4/lib/python3.9/site-packages/coolpi/colour/cie_colour_spectral.py:285\u001b[0m, in \u001b[0;36mObserver.observer\u001b[0;34m(self, observer)\u001b[0m\n\u001b[1;32m    283\u001b[0m     \u001b[39mself\u001b[39m\u001b[39m.\u001b[39m__observer \u001b[39m=\u001b[39m \u001b[39mint\u001b[39m(observer)\n\u001b[1;32m    284\u001b[0m \u001b[39melse\u001b[39;00m:\n\u001b[0;32m--> 285\u001b[0m     \u001b[39mraise\u001b[39;00m CIEObserverError(\u001b[39m\"\u001b[39m\u001b[39mThe observer should be a CIE standard 1931 or 1964 observer (2º or 10º).\u001b[39m\u001b[39m\"\u001b[39m)\n",
      "\u001b[0;31mCIEObserverError\u001b[0m: The observer should be a CIE standard 1931 or 1964 observer (2º or 10º)."
     ]
    }
   ],
   "source": [
    "sample_LCHuv = CIELCHuv(name_id=\"Sample_1\", L=29.08465, Cuv=58.944686, Huv=289.030567, cie_illuminant=\"D65\", observer=20)"
   ]
  },
  {
   "cell_type": "markdown",
   "metadata": {},
   "source": [
    "### Attributes"
   ]
  },
  {
   "cell_type": "code",
   "execution_count": 94,
   "metadata": {},
   "outputs": [
    {
     "name": "stdout",
     "output_type": "stream",
     "text": [
      "Colour Object\n",
      "CIE LCHuv\n",
      "CIE LCHuv\n",
      "Sample_1\n",
      "[29.08465, 58.944686, 289.030567]\n",
      "Illuminant object: CIE D65 standard illuminant\n",
      "2º standard observer (CIE 1931)\n",
      "{'Sample_1': [29.08465, 58.944686, 289.030567]}\n"
     ]
    }
   ],
   "source": [
    "print(sample_LCHuv.type)\n",
    "print(sample_LCHuv.colour_space()) # subtype\n",
    "print(sample_LCHuv.subtype) # returns colour space\n",
    "print(sample_LCHuv.name_id)\n",
    "print(sample_LCHuv.coordinates)\n",
    "print(sample_LCHuv.illuminant) # str method\n",
    "print(sample_LCHuv.observer) # str method\n",
    "print(sample_LCHuv.get_sample()) # colour data as dict"
   ]
  },
  {
   "cell_type": "markdown",
   "metadata": {},
   "source": [
    "### Methods"
   ]
  },
  {
   "cell_type": "markdown",
   "metadata": {},
   "source": [
    "The `__str__` method returns the string representation of the object. This method is called when the print() or str() \n",
    "function is invoked on an object."
   ]
  },
  {
   "cell_type": "code",
   "execution_count": 95,
   "metadata": {},
   "outputs": [
    {
     "name": "stdout",
     "output_type": "stream",
     "text": [
      "CIELCHuv object: Sample_1 : L* =29.08465, C*uv=58.944686, h*uv=289.030567\n"
     ]
    }
   ],
   "source": [
    "print(sample_LCHuv)"
   ]
  },
  {
   "cell_type": "markdown",
   "metadata": {},
   "source": [
    "`Colour space conversion`:"
   ]
  },
  {
   "cell_type": "markdown",
   "metadata": {},
   "source": [
    "It is only necessary to execute the class method that performs the colour conversion to the output colour space, for example:"
   ]
  },
  {
   "cell_type": "code",
   "execution_count": 96,
   "metadata": {},
   "outputs": [
    {
     "data": {
      "text/plain": [
       "coolpi.colour.cie_colour_spectral.CIEXYZ"
      ]
     },
     "execution_count": 96,
     "metadata": {},
     "output_type": "execute_result"
    }
   ],
   "source": [
    "sample_XYZ = sample_LCHuv.to_XYZ() # returns a CIELUV class object\n",
    "type(sample_XYZ)"
   ]
  },
  {
   "cell_type": "markdown",
   "metadata": {},
   "source": [
    "Note: After applying the colour conversion, a new Colour object is returned."
   ]
  },
  {
   "cell_type": "markdown",
   "metadata": {},
   "source": [
    "The alternative way to obtain the colour coordinates in the desired output colour space is:"
   ]
  },
  {
   "cell_type": "code",
   "execution_count": 97,
   "metadata": {},
   "outputs": [
    {
     "name": "stdout",
     "output_type": "stream",
     "text": [
      "XYZ   =  [10.234000981992285, 5.871000804384624, 22.10900156642102]\n",
      "xyY   =  [0.26780761197695807, 0.15363480110111952, 5.871000804384624]\n",
      "uvY   =  [0.248660597445017, 0.32096389114299995, 5.871000804384624]\n",
      "LAB   =  [29.084649999999996, 43.545093301686265, -39.82173394102766]\n",
      "LCHab =  [29.084649999999996, 59.00801339413619, 317.55726536206396]\n",
      "LUV   =  [29.08465, 19.220243326636297, -55.72304957648575]\n"
     ]
    }
   ],
   "source": [
    "print(\"XYZ   = \", sample_LCHuv.to_XYZ().coordinates)\n",
    "print(\"xyY   = \", sample_LCHuv.to_xyY().coordinates)\n",
    "print(\"uvY   = \", sample_LCHuv.to_uvY().coordinates)\n",
    "print(\"LAB   = \", sample_LCHuv.to_LAB().coordinates)\n",
    "print(\"LCHab = \", sample_LCHuv.to_LCHab().coordinates)\n",
    "print(\"LUV   = \", sample_LCHuv.to_LUV().coordinates)"
   ]
  },
  {
   "cell_type": "markdown",
   "metadata": {},
   "source": [
    "RGB"
   ]
  },
  {
   "cell_type": "code",
   "execution_count": 98,
   "metadata": {},
   "outputs": [
    {
     "name": "stdout",
     "output_type": "stream",
     "text": [
      "sRGB     =  [0.3975511620151892, 0.15233210968884317, 0.5141948117534585]\n",
      "AdobeRGB =  [0.3484283834979808, 0.15228257638192652, 0.5051836890284868]\n",
      "AppleRGB =  [0.3835002809982222, 0.12346659849864408, 0.5212116865356863]\n"
     ]
    }
   ],
   "source": [
    "print(\"sRGB     = \", sample_LCHuv.to_RGB(rgb_name_space = \"sRGB\").coordinates)\n",
    "print(\"AdobeRGB = \", sample_LCHuv.to_RGB(rgb_name_space = \"Adobe\").coordinates)\n",
    "print(\"AppleRGB = \", sample_LCHuv.to_RGB(rgb_name_space = \"Apple\").coordinates)"
   ]
  },
  {
   "cell_type": "markdown",
   "metadata": {},
   "source": [
    "`Colour difference`:"
   ]
  },
  {
   "cell_type": "markdown",
   "metadata": {},
   "source": [
    "$\\Delta E_{uv}^*$"
   ]
  },
  {
   "cell_type": "markdown",
   "metadata": {},
   "source": [
    "Given two *CIELCHuv* colour samples, it is posible to compute the $\\Delta E_{uv}$ colour difference between them as follows:"
   ]
  },
  {
   "cell_type": "code",
   "execution_count": 99,
   "metadata": {},
   "outputs": [],
   "source": [
    "S1_LCHuv = CIELCHuv(name_id=\"Sample_1\", L=29.08465, Cuv=58.944686, Huv=289.030567, cie_illuminant=\"D65\", observer=2)\n",
    "S2_LCHuv = CIELCHuv(name_id=\"Sample_2\", L=35.893646, Cuv=42.675878, Huv=268.627781, cie_illuminant=\"D65\", observer=2)"
   ]
  },
  {
   "cell_type": "code",
   "execution_count": 100,
   "metadata": {},
   "outputs": [
    {
     "name": "stdout",
     "output_type": "stream",
     "text": [
      "25.033141326676905\n"
     ]
    }
   ],
   "source": [
    "AE_uv = S1_LCHuv.delta_e_uv(S2_LCHuv)\n",
    "print(AE_uv)"
   ]
  },
  {
   "cell_type": "code",
   "execution_count": 101,
   "metadata": {},
   "outputs": [
    {
     "name": "stdout",
     "output_type": "stream",
     "text": [
      "25.033141326676905\n"
     ]
    }
   ],
   "source": [
    "AE_uv = S2_LCHuv.delta_e_uv(S1_LCHuv)\n",
    "print(AE_uv)"
   ]
  },
  {
   "cell_type": "markdown",
   "metadata": {},
   "source": [
    "$\\Delta H_{uv}$"
   ]
  },
  {
   "cell_type": "markdown",
   "metadata": {},
   "source": [
    "To compute the $\\Delta H_{uv}$ difference between the two *CIELCHuv* colour samples:"
   ]
  },
  {
   "cell_type": "code",
   "execution_count": 102,
   "metadata": {},
   "outputs": [
    {
     "name": "stdout",
     "output_type": "stream",
     "text": [
      "-17.765743001982752\n"
     ]
    }
   ],
   "source": [
    "AH_uv = S1_LCHuv.hue_difference(S2_LCHuv)\n",
    "print(AH_uv)"
   ]
  },
  {
   "cell_type": "markdown",
   "metadata": {},
   "source": [
    "The *CIELCHuv* reference and target objects should be measured under the same illuminant:"
   ]
  },
  {
   "cell_type": "code",
   "execution_count": 103,
   "metadata": {},
   "outputs": [],
   "source": [
    "S3_LCHuv = CIELCHuv(name_id=\"Sample_3\", L=35.893646, Cuv=42.675878, Huv=268.627781, cie_illuminant=\"D50\", observer=2)"
   ]
  },
  {
   "cell_type": "code",
   "execution_count": 104,
   "metadata": {},
   "outputs": [
    {
     "ename": "CIEIlluminantError",
     "evalue": "The CIELCHuv target must be referred to the same illuminant D65.",
     "output_type": "error",
     "traceback": [
      "\u001b[0;31m---------------------------------------------------------------------------\u001b[0m",
      "\u001b[0;31mCIEIlluminantError\u001b[0m                        Traceback (most recent call last)",
      "\u001b[1;32m/Users/adolfomoladatebar/Library/Mobile Documents/com~apple~CloudDocs/GitHub/notebooks_test/02a_Colour_objects.ipynb Cell 237\u001b[0m in \u001b[0;36m<cell line: 1>\u001b[0;34m()\u001b[0m\n\u001b[0;32m----> <a href='vscode-notebook-cell:/Users/adolfomoladatebar/Library/Mobile%20Documents/com~apple~CloudDocs/GitHub/notebooks_test/02a_Colour_objects.ipynb#Y455sZmlsZQ%3D%3D?line=0'>1</a>\u001b[0m AE_uv \u001b[39m=\u001b[39m S1_LCHuv\u001b[39m.\u001b[39;49mdelta_e_uv(S3_LCHuv)\n",
      "File \u001b[0;32m~/.local/share/virtualenvs/notebooks_test-m1LjhKG4/lib/python3.9/site-packages/coolpi/colour/cie_colour_spectral.py:2350\u001b[0m, in \u001b[0;36mCIELCHuv.delta_e_uv\u001b[0;34m(self, target)\u001b[0m\n\u001b[1;32m   2348\u001b[0m         \u001b[39mreturn\u001b[39;00m AEuv\n\u001b[1;32m   2349\u001b[0m     \u001b[39melse\u001b[39;00m:\n\u001b[0;32m-> 2350\u001b[0m         \u001b[39mraise\u001b[39;00m CIEIlluminantError(\u001b[39mf\u001b[39m\u001b[39m\"\u001b[39m\u001b[39mThe CIELCHuv target must be referred to the same illuminant \u001b[39m\u001b[39m{\u001b[39;00m\u001b[39mself\u001b[39m\u001b[39m.\u001b[39milluminant\u001b[39m.\u001b[39milluminant_name\u001b[39m}\u001b[39;00m\u001b[39m.\u001b[39m\u001b[39m\"\u001b[39m)\n\u001b[1;32m   2351\u001b[0m \u001b[39melse\u001b[39;00m:\n\u001b[1;32m   2352\u001b[0m     \u001b[39mraise\u001b[39;00m ClassTypeError(\u001b[39m\"\u001b[39m\u001b[39mThe input target is not a CIELCHuv colour object.\u001b[39m\u001b[39m\"\u001b[39m)\n",
      "\u001b[0;31mCIEIlluminantError\u001b[0m: The CIELCHuv target must be referred to the same illuminant D65."
     ]
    }
   ],
   "source": [
    "AE_uv = S1_LCHuv.delta_e_uv(S3_LCHuv)"
   ]
  },
  {
   "cell_type": "markdown",
   "metadata": {},
   "source": [
    "## sRGB"
   ]
  },
  {
   "cell_type": "code",
   "execution_count": 105,
   "metadata": {},
   "outputs": [],
   "source": [
    "from coolpi.colour.cie_colour_spectral import sRGB"
   ]
  },
  {
   "cell_type": "markdown",
   "metadata": {},
   "source": [
    "### To create an instance"
   ]
  },
  {
   "cell_type": "markdown",
   "metadata": {},
   "source": [
    "To create an instance of the *sRGB* class, simply enter the required parameters as follows:"
   ]
  },
  {
   "cell_type": "code",
   "execution_count": 106,
   "metadata": {},
   "outputs": [],
   "source": [
    "sample_sRGB = sRGB(name_id=\"Sample_1\", sR=0.397551, sG=0.152332, sB=0.514194, observer=2)"
   ]
  },
  {
   "cell_type": "markdown",
   "metadata": {},
   "source": [
    "The *sRGB* sample should be referred to a valid CIE standard observer:"
   ]
  },
  {
   "cell_type": "code",
   "execution_count": 107,
   "metadata": {},
   "outputs": [
    {
     "ename": "CIEObserverError",
     "evalue": "The observer should be a CIE standard 1931 or 1964 observer (2º or 10º).",
     "output_type": "error",
     "traceback": [
      "\u001b[0;31m---------------------------------------------------------------------------\u001b[0m",
      "\u001b[0;31mCIEObserverError\u001b[0m                          Traceback (most recent call last)",
      "\u001b[1;32m/Users/adolfomoladatebar/Library/Mobile Documents/com~apple~CloudDocs/GitHub/notebooks_test/02a_Colour_objects.ipynb Cell 244\u001b[0m in \u001b[0;36m<cell line: 1>\u001b[0;34m()\u001b[0m\n\u001b[0;32m----> <a href='vscode-notebook-cell:/Users/adolfomoladatebar/Library/Mobile%20Documents/com~apple~CloudDocs/GitHub/notebooks_test/02a_Colour_objects.ipynb#Y465sZmlsZQ%3D%3D?line=0'>1</a>\u001b[0m sample_sRGB \u001b[39m=\u001b[39m sRGB(name_id\u001b[39m=\u001b[39;49m\u001b[39m\"\u001b[39;49m\u001b[39mSample_1\u001b[39;49m\u001b[39m\"\u001b[39;49m, sR\u001b[39m=\u001b[39;49m\u001b[39m0.397551\u001b[39;49m, sG\u001b[39m=\u001b[39;49m\u001b[39m0.152332\u001b[39;49m, sB\u001b[39m=\u001b[39;49m\u001b[39m0.514194\u001b[39;49m, observer\u001b[39m=\u001b[39;49m\u001b[39m20\u001b[39;49m)\n",
      "File \u001b[0;32m~/.local/share/virtualenvs/notebooks_test-m1LjhKG4/lib/python3.9/site-packages/coolpi/colour/cie_colour_spectral.py:2521\u001b[0m, in \u001b[0;36msRGB.__init__\u001b[0;34m(self, name_id, sR, sG, sB, observer)\u001b[0m\n\u001b[1;32m   2520\u001b[0m \u001b[39mdef\u001b[39;00m \u001b[39m__init__\u001b[39m(\u001b[39mself\u001b[39m, name_id, sR, sG, sB, observer \u001b[39m=\u001b[39m \u001b[39m2\u001b[39m):\n\u001b[0;32m-> 2521\u001b[0m     \u001b[39mself\u001b[39;49m\u001b[39m.\u001b[39;49m__update__(\u001b[39m\"\u001b[39;49m\u001b[39mD65\u001b[39;49m\u001b[39m\"\u001b[39;49m, observer, [sR, sG, sB])\n\u001b[1;32m   2522\u001b[0m     \u001b[39mself\u001b[39m\u001b[39m.\u001b[39mname_id \u001b[39m=\u001b[39m name_id\n",
      "File \u001b[0;32m~/.local/share/virtualenvs/notebooks_test-m1LjhKG4/lib/python3.9/site-packages/coolpi/colour/cie_colour_spectral.py:1248\u001b[0m, in \u001b[0;36mColour.__update__\u001b[0;34m(self, illuminant, observer, coordinates)\u001b[0m\n\u001b[1;32m   1246\u001b[0m \u001b[39mdef\u001b[39;00m \u001b[39m__update__\u001b[39m(\u001b[39mself\u001b[39m, illuminant, observer, coordinates):\n\u001b[1;32m   1247\u001b[0m     \u001b[39mself\u001b[39m\u001b[39m.\u001b[39milluminant \u001b[39m=\u001b[39m illuminant\n\u001b[0;32m-> 1248\u001b[0m     \u001b[39mself\u001b[39;49m\u001b[39m.\u001b[39;49mobserver \u001b[39m=\u001b[39m observer\n\u001b[1;32m   1249\u001b[0m     \u001b[39mself\u001b[39m\u001b[39m.\u001b[39mcoordinates \u001b[39m=\u001b[39m coordinates\n",
      "File \u001b[0;32m~/.local/share/virtualenvs/notebooks_test-m1LjhKG4/lib/python3.9/site-packages/coolpi/colour/cie_colour_spectral.py:1220\u001b[0m, in \u001b[0;36mColour.observer\u001b[0;34m(self, observer)\u001b[0m\n\u001b[1;32m   1218\u001b[0m     \u001b[39mself\u001b[39m\u001b[39m.\u001b[39m__observer  \u001b[39m=\u001b[39m observer\n\u001b[1;32m   1219\u001b[0m \u001b[39melse\u001b[39;00m:\n\u001b[0;32m-> 1220\u001b[0m     \u001b[39mself\u001b[39m\u001b[39m.\u001b[39m__observer \u001b[39m=\u001b[39m Observer(observer)\n",
      "File \u001b[0;32m~/.local/share/virtualenvs/notebooks_test-m1LjhKG4/lib/python3.9/site-packages/coolpi/colour/cie_colour_spectral.py:293\u001b[0m, in \u001b[0;36mObserver.__init__\u001b[0;34m(self, observer)\u001b[0m\n\u001b[1;32m    287\u001b[0m \u001b[39mdef\u001b[39;00m \u001b[39m__init__\u001b[39m(\u001b[39mself\u001b[39m, observer\u001b[39m=\u001b[39m\u001b[39m2\u001b[39m):     \n\u001b[1;32m    288\u001b[0m     \u001b[39m'''\u001b[39;00m\n\u001b[1;32m    289\u001b[0m \u001b[39m    The Observer class receives a valid `str` or `int` type for the specification of the 2º or \u001b[39;00m\n\u001b[1;32m    290\u001b[0m \u001b[39m    10º degree CIE standard observer.\u001b[39;00m\n\u001b[1;32m    291\u001b[0m \n\u001b[1;32m    292\u001b[0m \u001b[39m    '''\u001b[39;00m   \n\u001b[0;32m--> 293\u001b[0m     \u001b[39mself\u001b[39;49m\u001b[39m.\u001b[39;49mobserver \u001b[39m=\u001b[39m observer\n",
      "File \u001b[0;32m~/.local/share/virtualenvs/notebooks_test-m1LjhKG4/lib/python3.9/site-packages/coolpi/colour/cie_colour_spectral.py:285\u001b[0m, in \u001b[0;36mObserver.observer\u001b[0;34m(self, observer)\u001b[0m\n\u001b[1;32m    283\u001b[0m     \u001b[39mself\u001b[39m\u001b[39m.\u001b[39m__observer \u001b[39m=\u001b[39m \u001b[39mint\u001b[39m(observer)\n\u001b[1;32m    284\u001b[0m \u001b[39melse\u001b[39;00m:\n\u001b[0;32m--> 285\u001b[0m     \u001b[39mraise\u001b[39;00m CIEObserverError(\u001b[39m\"\u001b[39m\u001b[39mThe observer should be a CIE standard 1931 or 1964 observer (2º or 10º).\u001b[39m\u001b[39m\"\u001b[39m)\n",
      "\u001b[0;31mCIEObserverError\u001b[0m: The observer should be a CIE standard 1931 or 1964 observer (2º or 10º)."
     ]
    }
   ],
   "source": [
    "sample_sRGB = sRGB(name_id=\"Sample_1\", sR=0.397551, sG=0.152332, sB=0.514194, observer=20)"
   ]
  },
  {
   "cell_type": "markdown",
   "metadata": {},
   "source": [
    "### Attributes"
   ]
  },
  {
   "cell_type": "code",
   "execution_count": 108,
   "metadata": {},
   "outputs": [
    {
     "name": "stdout",
     "output_type": "stream",
     "text": [
      "Colour Object\n",
      "sRGB\n",
      "sRGB\n",
      "Sample_1\n",
      "[0.397551, 0.152332, 0.514194]\n",
      "Illuminant object: CIE D65 standard illuminant\n",
      "2º standard observer (CIE 1931)\n",
      "{'Sample_1': [0.397551, 0.152332, 0.514194]}\n"
     ]
    }
   ],
   "source": [
    "print(sample_sRGB.type)\n",
    "print(sample_sRGB.colour_space()) # subtype\n",
    "print(sample_sRGB.subtype) # returns colour space\n",
    "print(sample_sRGB.name_id)\n",
    "print(sample_sRGB.coordinates)\n",
    "print(sample_sRGB.illuminant) # str method\n",
    "print(sample_sRGB.observer) # str method\n",
    "print(sample_sRGB.get_sample()) # colour data as dict"
   ]
  },
  {
   "cell_type": "markdown",
   "metadata": {},
   "source": [
    "### Methods"
   ]
  },
  {
   "cell_type": "markdown",
   "metadata": {},
   "source": [
    "The `__str__` method returns the string representation of the object. This method is called when the print() or str() \n",
    "function is invoked on an object."
   ]
  },
  {
   "cell_type": "code",
   "execution_count": 109,
   "metadata": {},
   "outputs": [
    {
     "name": "stdout",
     "output_type": "stream",
     "text": [
      "sRGB object: Sample_1 : sR =0.397551, sG=0.152332, sB=0.514194\n"
     ]
    }
   ],
   "source": [
    "print(sample_sRGB)"
   ]
  },
  {
   "cell_type": "markdown",
   "metadata": {},
   "source": [
    "`Colour space conversion`:"
   ]
  },
  {
   "cell_type": "markdown",
   "metadata": {},
   "source": [
    "Only the conversion between the sRGB and CIE XYZ colour space is implemented:"
   ]
  },
  {
   "cell_type": "code",
   "execution_count": 110,
   "metadata": {},
   "outputs": [
    {
     "data": {
      "text/plain": [
       "coolpi.colour.cie_colour_spectral.CIEXYZ"
      ]
     },
     "execution_count": 110,
     "metadata": {},
     "output_type": "execute_result"
    }
   ],
   "source": [
    "sample_XYZ = sample_sRGB.to_XYZ() # returns a CIEXYZ class object\n",
    "type(sample_XYZ)"
   ]
  },
  {
   "cell_type": "markdown",
   "metadata": {},
   "source": [
    "Note: After applying the colour conversion, a new Colour object is returned."
   ]
  },
  {
   "cell_type": "markdown",
   "metadata": {},
   "source": [
    "The alternative way to obtain the colour coordinates in the desired output colour space is:"
   ]
  },
  {
   "cell_type": "code",
   "execution_count": 111,
   "metadata": {},
   "outputs": [
    {
     "name": "stdout",
     "output_type": "stream",
     "text": [
      "XYZ   =  [10.234239815225408, 5.871220041030704, 22.109061465530786]\n"
     ]
    }
   ],
   "source": [
    "print(\"XYZ   = \", sample_sRGB.to_XYZ().coordinates)"
   ]
  }
 ],
 "metadata": {
  "kernelspec": {
   "display_name": "Python 3.9.0 64-bit",
   "language": "python",
   "name": "python3"
  },
  "language_info": {
   "codemirror_mode": {
    "name": "ipython",
    "version": 3
   },
   "file_extension": ".py",
   "mimetype": "text/x-python",
   "name": "python",
   "nbconvert_exporter": "python",
   "pygments_lexer": "ipython3",
   "version": "3.9.0"
  },
  "vscode": {
   "interpreter": {
    "hash": "aee8b7b246df8f9039afb4144a1f6fd8d2ca17a180786b69acc140d282b71a49"
   }
  }
 },
 "nbformat": 4,
 "nbformat_minor": 4
}
