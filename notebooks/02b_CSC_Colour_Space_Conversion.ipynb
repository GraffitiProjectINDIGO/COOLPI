{
 "cells": [
  {
   "cell_type": "markdown",
   "metadata": {},
   "source": [
    "<img src=\"res/logo/coolpi.png\" width=\"200\">\n",
    "\n",
    "# Jupyter Notebook"
   ]
  },
  {
   "cell_type": "markdown",
   "metadata": {},
   "source": [
    "# 02b. - Colour Space Conversion (CSC)"
   ]
  },
  {
   "cell_type": "markdown",
   "metadata": {},
   "source": [
    "<img src=\"res/screenshot/CSC_direct_indirect.jpg\" width=\"800\">"
   ]
  },
  {
   "cell_type": "markdown",
   "metadata": {},
   "source": [
    "## Import packages "
   ]
  },
  {
   "cell_type": "code",
   "execution_count": 1,
   "metadata": {},
   "outputs": [
    {
     "data": {
      "text/plain": [
       "'3.9.0 (v3.9.0:9cf6752276, Oct  5 2020, 11:29:23) \\n[Clang 6.0 (clang-600.0.57)]'"
      ]
     },
     "execution_count": 1,
     "metadata": {},
     "output_type": "execute_result"
    }
   ],
   "source": [
    "import sys\n",
    "sys.version"
   ]
  },
  {
   "cell_type": "markdown",
   "metadata": {},
   "source": [
    "### Import the Colour Space Conversion Module"
   ]
  },
  {
   "cell_type": "code",
   "execution_count": 2,
   "metadata": {},
   "outputs": [],
   "source": [
    "import coolpi.colour.colour_space_conversion as csc"
   ]
  },
  {
   "cell_type": "markdown",
   "metadata": {},
   "source": [
    "Alternatively, the specific function can be imported to perform the desired conversion between colour spaces as follows:"
   ]
  },
  {
   "cell_type": "code",
   "execution_count": 3,
   "metadata": {},
   "outputs": [],
   "source": [
    "from coolpi.colour.colour_space_conversion import XYZ_to_xyY"
   ]
  },
  {
   "cell_type": "markdown",
   "metadata": {},
   "source": [
    "## CIE XYZ"
   ]
  },
  {
   "cell_type": "markdown",
   "metadata": {},
   "source": [
    "### CIE XYZ to CIExyY"
   ]
  },
  {
   "cell_type": "markdown",
   "metadata": {},
   "source": [
    "Given a colour sample in CIE XYZ colour space:"
   ]
  },
  {
   "cell_type": "code",
   "execution_count": 4,
   "metadata": {},
   "outputs": [
    {
     "name": "stdout",
     "output_type": "stream",
     "text": [
      "0.5037554895817657 0.40378695634328876 29.514\n"
     ]
    }
   ],
   "source": [
    "x, y, Y = csc.XYZ_to_xyY(X=36.821, Y=29.514, Z=6.758) \n",
    "print(x, y, Y)"
   ]
  },
  {
   "cell_type": "markdown",
   "metadata": {},
   "source": [
    "Reverse transform"
   ]
  },
  {
   "cell_type": "code",
   "execution_count": 5,
   "metadata": {},
   "outputs": [
    {
     "name": "stdout",
     "output_type": "stream",
     "text": [
      "36.821033326976846 29.514 6.75795877034179\n"
     ]
    }
   ],
   "source": [
    "X, Y, Z = csc.xyY_to_XYZ(x=0.503756, y=0.403787,Y=29.514)\n",
    "print(X, Y, Z)"
   ]
  },
  {
   "cell_type": "markdown",
   "metadata": {},
   "source": [
    "### CIE XYZ to CIE uvY"
   ]
  },
  {
   "cell_type": "markdown",
   "metadata": {},
   "source": [
    "Given a colour sample in CIE XYZ colour space:"
   ]
  },
  {
   "cell_type": "code",
   "execution_count": 6,
   "metadata": {},
   "outputs": [
    {
     "name": "stdout",
     "output_type": "stream",
     "text": [
      "0.29468292634127313 0.5314592691149549 29.514\n"
     ]
    }
   ],
   "source": [
    "u, v, Y = csc.XYZ_to_uvY(X=36.821, Y=29.514, Z=6.758) \n",
    "print(u, v, Y)"
   ]
  },
  {
   "cell_type": "markdown",
   "metadata": {},
   "source": [
    "Reverse transform"
   ]
  },
  {
   "cell_type": "code",
   "execution_count": 7,
   "metadata": {},
   "outputs": [
    {
     "name": "stdout",
     "output_type": "stream",
     "text": [
      "36.82102784880865 29.514 6.758075079168849\n"
     ]
    }
   ],
   "source": [
    "X, Y, Z = csc.uvY_to_XYZ(u=0.294683, v=0.531459, Y=29.514)\n",
    "print(X, Y, Z)"
   ]
  },
  {
   "cell_type": "markdown",
   "metadata": {},
   "source": [
    "### CIE XYZ to CIELAB"
   ]
  },
  {
   "cell_type": "markdown",
   "metadata": {},
   "source": [
    "Given a colour sample in CIE XYZ colour space:"
   ]
  },
  {
   "cell_type": "code",
   "execution_count": 8,
   "metadata": {},
   "outputs": [
    {
     "name": "stdout",
     "output_type": "stream",
     "text": [
      "61.23260441015891 31.602680131515292 53.969245402697965\n"
     ]
    }
   ],
   "source": [
    "L, a, b = csc.XYZ_to_LAB(X=36.821, Y=29.514, Z=6.7589) # Default D65\n",
    "print(L, a, b)"
   ]
  },
  {
   "cell_type": "markdown",
   "metadata": {},
   "source": [
    "Reverse transform"
   ]
  },
  {
   "cell_type": "code",
   "execution_count": 9,
   "metadata": {},
   "outputs": [
    {
     "name": "stdout",
     "output_type": "stream",
     "text": [
      "36.82099942437046 29.513999529780317 6.758899922039823\n"
     ]
    }
   ],
   "source": [
    "X, Y, Z = csc.LAB_to_XYZ(L=61.232604, a=31.60268, b=53.969245) # Default D65\n",
    "print(X, Y, Z)"
   ]
  },
  {
   "cell_type": "markdown",
   "metadata": {},
   "source": [
    "Note: A reference $X_n,Y_n,Z_n$ WhitePoint is required to perform these conversions. By default, the white point of the CIE illuminant D65 is used."
   ]
  },
  {
   "cell_type": "markdown",
   "metadata": {},
   "source": [
    "### CIE XYZ to CIELUV"
   ]
  },
  {
   "cell_type": "markdown",
   "metadata": {},
   "source": [
    "Given a colour sample in CIE XYZ colour space:"
   ]
  },
  {
   "cell_type": "code",
   "execution_count": 10,
   "metadata": {},
   "outputs": [
    {
     "name": "stdout",
     "output_type": "stream",
     "text": [
      "61.23260441015891 77.09970653086928 50.24428301895813\n"
     ]
    }
   ],
   "source": [
    "L, U, V = csc.XYZ_to_LUV(X=36.821, Y=29.514, Z=6.758) # Default D65\n",
    "print(L, U, V)"
   ]
  },
  {
   "cell_type": "markdown",
   "metadata": {},
   "source": [
    "Reverse transform"
   ]
  },
  {
   "cell_type": "code",
   "execution_count": 11,
   "metadata": {},
   "outputs": [
    {
     "name": "stdout",
     "output_type": "stream",
     "text": [
      "36.820999540426826 29.513999529780317 6.7579997249050034\n"
     ]
    }
   ],
   "source": [
    "X, Y, Z = csc.LUV_to_XYZ(L=61.232604, U=77.099707, V=50.244283) # Default D65\n",
    "print(X, Y, Z)"
   ]
  },
  {
   "cell_type": "markdown",
   "metadata": {},
   "source": [
    "Note: A reference $X_n,Y_n,Z_n$ WhitePoint is required to perform these conversions. By default, the white point of the CIE illuminant D65 is used."
   ]
  },
  {
   "cell_type": "markdown",
   "metadata": {},
   "source": [
    "### CIE XYZ to sRGB"
   ]
  },
  {
   "cell_type": "markdown",
   "metadata": {},
   "source": [
    "Given a colour sample in CIE XYZ colour space:"
   ]
  },
  {
   "cell_type": "code",
   "execution_count": 12,
   "metadata": {},
   "outputs": [
    {
     "name": "stdout",
     "output_type": "stream",
     "text": [
      "0.8574573325855738 0.4841575515644259 0.1955422309360167\n"
     ]
    }
   ],
   "source": [
    "sR, sG, sB = csc.XYZ_to_RGB(X=36.821, Y=29.514, Z=6.758)\n",
    "print(sR,sG,sB)"
   ]
  },
  {
   "cell_type": "markdown",
   "metadata": {},
   "source": [
    "Reverse transform"
   ]
  },
  {
   "cell_type": "code",
   "execution_count": 13,
   "metadata": {},
   "outputs": [
    {
     "name": "stdout",
     "output_type": "stream",
     "text": [
      "36.821664390790275 29.51556496878112 6.758527341276241\n"
     ]
    }
   ],
   "source": [
    "X, Y, Z = csc.RGB_to_XYZ(R=0.8574573, G=0.4841576, B=0.1955422)\n",
    "print(X,Y,Z)"
   ]
  },
  {
   "cell_type": "markdown",
   "metadata": {},
   "source": [
    "## CIE xyY"
   ]
  },
  {
   "cell_type": "markdown",
   "metadata": {},
   "source": [
    "### CIE xyY to CIE uvY"
   ]
  },
  {
   "cell_type": "markdown",
   "metadata": {},
   "source": [
    "Given a colour sample in CIE xyY colour space:"
   ]
  },
  {
   "cell_type": "code",
   "execution_count": 14,
   "metadata": {},
   "outputs": [
    {
     "name": "stdout",
     "output_type": "stream",
     "text": [
      "0.29468324633822035 0.5314593651998879\n"
     ]
    }
   ],
   "source": [
    "u, v = csc.xy_to_uv(x=0.503756, y=0.403787)\n",
    "print(u,v)"
   ]
  },
  {
   "cell_type": "markdown",
   "metadata": {},
   "source": [
    "Reverse transform"
   ]
  },
  {
   "cell_type": "code",
   "execution_count": 15,
   "metadata": {},
   "outputs": [
    {
     "name": "stdout",
     "output_type": "stream",
     "text": [
      "0.5037551612098116 0.40378638774005415\n"
     ]
    }
   ],
   "source": [
    "x, y = csc.uv_to_xy(u=0.294683, v=0.531459) \n",
    "print(x,y)"
   ]
  },
  {
   "cell_type": "markdown",
   "metadata": {},
   "source": [
    "### CIE xyY to CIELUV"
   ]
  },
  {
   "cell_type": "markdown",
   "metadata": {},
   "source": [
    "Given a colour sample in CIE xyY colour space:"
   ]
  },
  {
   "cell_type": "code",
   "execution_count": 16,
   "metadata": {},
   "outputs": [
    {
     "name": "stdout",
     "output_type": "stream",
     "text": [
      "61.23260441015891 77.09996125607354 50.24435950485714\n"
     ]
    }
   ],
   "source": [
    "L, U, V = csc.xyY_to_LUV(x=0.503756, y=0.403787, Y=29.514) # Default D65\n",
    "print(L, U, V)"
   ]
  },
  {
   "cell_type": "markdown",
   "metadata": {},
   "source": [
    "Reverse transform"
   ]
  },
  {
   "cell_type": "code",
   "execution_count": 17,
   "metadata": {},
   "outputs": [
    {
     "name": "stdout",
     "output_type": "stream",
     "text": [
      "0.5037554915983159 0.4037869565662692 29.513999529780317\n"
     ]
    }
   ],
   "source": [
    "x, y, Y = csc.LUV_to_xyY(L=61.232604, U=77.099707, V=50.244283) # Default D65\n",
    "print(x,y,Y)"
   ]
  },
  {
   "cell_type": "markdown",
   "metadata": {},
   "source": [
    "Note: A reference $X_n,Y_n,Z_n$ WhitePoint is required to perform these conversions. By default, the white point of the CIE illuminant D65 is used."
   ]
  },
  {
   "cell_type": "markdown",
   "metadata": {},
   "source": [
    "## CIELAB"
   ]
  },
  {
   "cell_type": "markdown",
   "metadata": {},
   "source": [
    "### CIELAB to CIELCHab"
   ]
  },
  {
   "cell_type": "markdown",
   "metadata": {},
   "source": [
    "Given a colour sample in CIELAB colour space:"
   ]
  },
  {
   "cell_type": "code",
   "execution_count": 18,
   "metadata": {},
   "outputs": [
    {
     "name": "stdout",
     "output_type": "stream",
     "text": [
      "61.232604 62.54125669550001 59.64811202045994\n"
     ]
    }
   ],
   "source": [
    "L, Cab, Hab = csc.LAB_to_LCHab(L=61.232604, a=31.60268, b=53.969245)\n",
    "print(L, Cab, Hab)"
   ]
  },
  {
   "cell_type": "markdown",
   "metadata": {},
   "source": [
    "Reverse transform"
   ]
  },
  {
   "cell_type": "code",
   "execution_count": 19,
   "metadata": {},
   "outputs": [
    {
     "name": "stdout",
     "output_type": "stream",
     "text": [
      "61.232604 31.602680173138754 53.969245251479585\n"
     ]
    }
   ],
   "source": [
    "L, a, b = csc.LCHab_to_LAB(L=61.232604, Cab=62.541257, Hab=59.648112)\n",
    "print(L, a, b)"
   ]
  },
  {
   "cell_type": "markdown",
   "metadata": {},
   "source": [
    "## CIELUV"
   ]
  },
  {
   "cell_type": "markdown",
   "metadata": {},
   "source": [
    "### CIELUV to CIELCHuv"
   ]
  },
  {
   "cell_type": "markdown",
   "metadata": {},
   "source": [
    "Given a colour sample in CIELUV colour space:"
   ]
  },
  {
   "cell_type": "code",
   "execution_count": 20,
   "metadata": {},
   "outputs": [
    {
     "name": "stdout",
     "output_type": "stream",
     "text": [
      "61.232604 92.02637009939019 33.09145484438754\n"
     ]
    }
   ],
   "source": [
    "L, Cuv, Huv = csc.LUV_to_LCHuv(L=61.232604, U=77.099707, V=50.244283)\n",
    "print(L, Cuv, Huv)"
   ]
  },
  {
   "cell_type": "markdown",
   "metadata": {},
   "source": [
    "Reverse transform"
   ]
  },
  {
   "cell_type": "code",
   "execution_count": 21,
   "metadata": {},
   "outputs": [
    {
     "name": "stdout",
     "output_type": "stream",
     "text": [
      "61.232604 77.09970678026993 50.24428315513418\n"
     ]
    }
   ],
   "source": [
    "L, U, V = csc.LCHuv_to_LUV(L=61.232604, Cuv=92.02637, Huv=33.091455)\n",
    "print(L, U, V)"
   ]
  },
  {
   "cell_type": "markdown",
   "metadata": {},
   "source": [
    "## Spectral to CIE XYZ"
   ]
  },
  {
   "cell_type": "markdown",
   "metadata": {},
   "source": [
    "Given the reflectance data, the SPD of the illuminant and the CMFs (for a valid CIE observer):"
   ]
  },
  {
   "cell_type": "markdown",
   "metadata": {},
   "source": [
    "- Reflectance:"
   ]
  },
  {
   "cell_type": "code",
   "execution_count": 22,
   "metadata": {},
   "outputs": [],
   "source": [
    "reflectance = [6.0475, 5.97, 5.8775, 5.845, 5.8625, 5.9225, 5.99, 6.06, 6.245, 6.49,\n",
    "    7.175, 9.435, 13.045, 15.6575, 17.1975, 19.415, 24.47, 33.2475, 44.34, 53.75, 58.15, 58.6625, 58.1725, 57.9075, 57.5325, \n",
    "    57.32, 57.91, 59.6, 61.6025, 63.5, 64.97] # visible, 10nm"
   ]
  },
  {
   "cell_type": "markdown",
   "metadata": {},
   "source": [
    "- SPD:"
   ]
  },
  {
   "cell_type": "code",
   "execution_count": 23,
   "metadata": {},
   "outputs": [],
   "source": [
    "from coolpi.colour.cie_colour_spectral import Illuminant"
   ]
  },
  {
   "cell_type": "code",
   "execution_count": 24,
   "metadata": {},
   "outputs": [],
   "source": [
    "D65 = Illuminant(\"D65\")\n",
    "D65.set_into_visible_range_spectrum()\n",
    "spd = D65.lambda_values"
   ]
  },
  {
   "cell_type": "markdown",
   "metadata": {},
   "source": [
    "- CMFs"
   ]
  },
  {
   "cell_type": "code",
   "execution_count": 25,
   "metadata": {},
   "outputs": [],
   "source": [
    "from coolpi.colour.cie_colour_spectral import CMF"
   ]
  },
  {
   "cell_type": "code",
   "execution_count": 26,
   "metadata": {},
   "outputs": [],
   "source": [
    "cmf_2 = CMF(observer=2)\n",
    "cmf_2.set_cmf_into_visible_range_spectrum()\n",
    "x_cmf, y_cmf, z_cmf = cmf_2.get_colour_matching_functions()"
   ]
  },
  {
   "cell_type": "markdown",
   "metadata": {},
   "source": [
    "Note: The spectral data should be referred to the same range and interval."
   ]
  },
  {
   "cell_type": "code",
   "execution_count": 27,
   "metadata": {},
   "outputs": [],
   "source": [
    "x_cmf = x_cmf.lambda_values\n",
    "y_cmf = y_cmf.lambda_values\n",
    "z_cmf = z_cmf.lambda_values"
   ]
  },
  {
   "cell_type": "code",
   "execution_count": 28,
   "metadata": {},
   "outputs": [
    {
     "name": "stdout",
     "output_type": "stream",
     "text": [
      "36.8208393765158 29.51360348192101 6.757552323290141\n"
     ]
    }
   ],
   "source": [
    "X, Y, Z = csc.spectral_to_XYZ(reflectance, spd, x_cmf, y_cmf, z_cmf)\n",
    "print(X, Y, Z) "
   ]
  },
  {
   "cell_type": "code",
   "execution_count": 29,
   "metadata": {},
   "outputs": [
    {
     "name": "stdout",
     "output_type": "stream",
     "text": [
      "36.8208393765158 29.513603481921013 6.75755232329014\n"
     ]
    }
   ],
   "source": [
    "X, Y, Z = csc.spectral_to_XYZ_using_arrays(reflectance, spd, x_cmf, y_cmf, z_cmf) # optimized using np.arrays\n",
    "print(X, Y, Z) "
   ]
  },
  {
   "cell_type": "markdown",
   "metadata": {},
   "source": [
    "## Additional examples"
   ]
  },
  {
   "cell_type": "markdown",
   "metadata": {},
   "source": [
    "### CIE LCHab to sRGB"
   ]
  },
  {
   "cell_type": "markdown",
   "metadata": {},
   "source": [
    "Given a colour sample in CIE LCHab colour space:"
   ]
  },
  {
   "cell_type": "code",
   "execution_count": 30,
   "metadata": {},
   "outputs": [
    {
     "name": "stdout",
     "output_type": "stream",
     "text": [
      "0.8574549106403582 0.48415796750328627 0.1955735207277029\n"
     ]
    }
   ],
   "source": [
    "L, a, b = csc.LCHab_to_LAB(L=61.232604, Cab=62.541257, Hab=59.648112)\n",
    "X, Y, Z = csc.LAB_to_XYZ(L, a, b)\n",
    "sR, sG, sB = csc.XYZ_to_RGB(X, Y, Z, rgb_space=\"sRGB\")\n",
    "print(sR, sG, sB)"
   ]
  },
  {
   "cell_type": "markdown",
   "metadata": {},
   "source": [
    "### CIE u'v'Y to CIE LCHuv"
   ]
  },
  {
   "cell_type": "markdown",
   "metadata": {},
   "source": [
    "Given a colour sample in CIE u'v'Y colour space:"
   ]
  },
  {
   "cell_type": "code",
   "execution_count": 31,
   "metadata": {},
   "outputs": [
    {
     "name": "stdout",
     "output_type": "stream",
     "text": [
      "61.23260441015891 92.02630188035951 33.091323340827486\n"
     ]
    }
   ],
   "source": [
    "X, Y, Z = csc.uvY_to_XYZ(u=0.294683, v=0.531459, Y=29.514)\n",
    "L, U, V = csc.XYZ_to_LUV(X, Y, Z)\n",
    "L, Cuv, Huv = csc.LUV_to_LCHuv(L, U, V)\n",
    "print(L, Cuv, Huv)"
   ]
  }
 ],
 "metadata": {
  "kernelspec": {
   "display_name": "Python 3.9.0 ('coolpi_v_0.1.15-616vlx5b')",
   "language": "python",
   "name": "python3"
  },
  "language_info": {
   "codemirror_mode": {
    "name": "ipython",
    "version": 3
   },
   "file_extension": ".py",
   "mimetype": "text/x-python",
   "name": "python",
   "nbconvert_exporter": "python",
   "pygments_lexer": "ipython3",
   "version": "3.9.0"
  },
  "vscode": {
   "interpreter": {
    "hash": "cd03bc827db60da07dffd4b6f842fec0b764359de6824c287c98b60d7219a3f7"
   }
  }
 },
 "nbformat": 4,
 "nbformat_minor": 4
}
