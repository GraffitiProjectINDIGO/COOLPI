{
 "cells": [
  {
   "cell_type": "markdown",
   "metadata": {},
   "source": [
    "<img src=\"res/logo/indigo.png\" width=\"200\">\n",
    "\n",
    "# Coolpi Notebook"
   ]
  },
  {
   "cell_type": "markdown",
   "metadata": {},
   "source": [
    "# 04b. - CIEDE2000 - Test data (Sharma et. al, 2005)"
   ]
  },
  {
   "cell_type": "markdown",
   "metadata": {},
   "source": [
    "TABLE 1. CIEDE2000 total color difference test data (p.24)\n",
    "\n",
    "Sharma, G., Wu, W., & Dalal, E. N. 2005. The CIEDE2000 color-difference formula: Implementation notes, supplementary test data, and mathematical observations. Color Research & Application 30(1), 21-30\n",
    "\n",
    "https://onlinelibrary.wiley.com/doi/abs/10.1002/col.20070\n"
   ]
  },
  {
   "cell_type": "markdown",
   "metadata": {},
   "source": [
    "<img src=\"res/screenshot/CIEDE2000_test_data_Sharma_2005.jpg\" width=\"800\">"
   ]
  },
  {
   "cell_type": "markdown",
   "metadata": {},
   "source": [
    "## Import"
   ]
  },
  {
   "cell_type": "code",
   "execution_count": 1,
   "metadata": {},
   "outputs": [
    {
     "data": {
      "text/plain": [
       "'3.9.0 (v3.9.0:9cf6752276, Oct  5 2020, 11:29:23) \\n[Clang 6.0 (clang-600.0.57)]'"
      ]
     },
     "execution_count": 1,
     "metadata": {},
     "output_type": "execute_result"
    }
   ],
   "source": [
    "import sys\n",
    "sys.version"
   ]
  },
  {
   "cell_type": "code",
   "execution_count": 2,
   "metadata": {},
   "outputs": [],
   "source": [
    "import math\n",
    "import numpy as np"
   ]
  },
  {
   "cell_type": "code",
   "execution_count": 3,
   "metadata": {},
   "outputs": [],
   "source": [
    "import coolpi.colour.colour_difference as cde\n",
    "import coolpi.colour.colour_space_conversion as csc"
   ]
  },
  {
   "cell_type": "markdown",
   "metadata": {},
   "source": [
    "## CIELAB Samples"
   ]
  },
  {
   "cell_type": "markdown",
   "metadata": {},
   "source": [
    "Pair 1"
   ]
  },
  {
   "cell_type": "code",
   "execution_count": 4,
   "metadata": {},
   "outputs": [],
   "source": [
    "L1, a1, b1 = 50.0, 2.6772, -79.7751\n",
    "L2, a2, b2 = 50.0, 0., -82.7465"
   ]
  },
  {
   "cell_type": "markdown",
   "metadata": {},
   "source": [
    "Pair 2"
   ]
  },
  {
   "cell_type": "code",
   "execution_count": 5,
   "metadata": {},
   "outputs": [],
   "source": [
    "L1, a1, b1 = 50.0, 3.1571, -77.2803\n",
    "L2, a2, b2 = 50.0, 0., -82.7465"
   ]
  },
  {
   "cell_type": "markdown",
   "metadata": {},
   "source": [
    "Pair 25"
   ]
  },
  {
   "cell_type": "code",
   "execution_count": 6,
   "metadata": {},
   "outputs": [],
   "source": [
    "L1, a1, b1 = 60.2574, -34.0099, 36.2677\n",
    "L2, a2, b2 = 60.4626, -34.1751, 39.4387"
   ]
  },
  {
   "cell_type": "markdown",
   "metadata": {},
   "source": [
    "Pair 32"
   ]
  },
  {
   "cell_type": "code",
   "execution_count": 7,
   "metadata": {},
   "outputs": [],
   "source": [
    "L1, a1, b1 = 90.9257, -0.5406, -0.9208\n",
    "L2, a2, b2 = 88.6381, -0.8985, -0.7239 "
   ]
  },
  {
   "cell_type": "markdown",
   "metadata": {},
   "source": [
    "Pair 34"
   ]
  },
  {
   "cell_type": "code",
   "execution_count": 8,
   "metadata": {},
   "outputs": [],
   "source": [
    "L1, a1, b1 = 2.0776, 0.0795, -1.135\n",
    "L2, a2, b2 = 0.9033, -0.0636, -0.5514"
   ]
  },
  {
   "cell_type": "markdown",
   "metadata": {},
   "source": [
    "## $\\Delta E_{00}^*$"
   ]
  },
  {
   "cell_type": "code",
   "execution_count": 9,
   "metadata": {},
   "outputs": [],
   "source": [
    "L1, Cab1, Hab1 = csc.LAB_to_LCHab(L1, a1, b1)\n",
    "L2, Cab2, Hab2 = csc.LAB_to_LCHab(L2, a2, b2)"
   ]
  },
  {
   "cell_type": "code",
   "execution_count": 10,
   "metadata": {},
   "outputs": [],
   "source": [
    "Cab = np.average([Cab1, Cab2])\n",
    "G = cde.compute_G_equation(Cab)"
   ]
  },
  {
   "cell_type": "markdown",
   "metadata": {},
   "source": [
    "LAB scaled"
   ]
  },
  {
   "cell_type": "code",
   "execution_count": 11,
   "metadata": {},
   "outputs": [
    {
     "name": "stdout",
     "output_type": "stream",
     "text": [
      "a1', C1', h1' =  0.1192 1.1412 275.9978\n",
      "a2', C2', h2' =  -0.0954 0.5596 260.1842\n"
     ]
    }
   ],
   "source": [
    "a1_ = (1+G)*a1\n",
    "a2_ = (1+G)*a2\n",
    "Cab1_ = csc.compute_chroma(a1_, b1)\n",
    "Cab2_ = csc.compute_chroma(a2_, b2)\n",
    "Hab1_ = csc.compute_hue_angle_degree(a1_, b1)\n",
    "Hab2_ = csc.compute_hue_angle_degree(a2_, b2)\n",
    "\n",
    "print(\"a1', C1', h1' = \", round(a1_,4), round(Cab1_,4), round(Hab1_,4))\n",
    "print(\"a2', C2', h2' = \",round(a2_,4), round(Cab2_,4), round(Hab2_,4))"
   ]
  },
  {
   "cell_type": "markdown",
   "metadata": {},
   "source": [
    "Average"
   ]
  },
  {
   "cell_type": "code",
   "execution_count": 12,
   "metadata": {},
   "outputs": [
    {
     "name": "stdout",
     "output_type": "stream",
     "text": [
      "h' =  268.091\n"
     ]
    }
   ],
   "source": [
    "L_ = np.average([L1, L2])\n",
    "Cab_ = np.average([Cab1_, Cab2_])\n",
    "\n",
    "Hab_ = cde.compute_Hab_average(Cab1_, Hab1_, Cab2_, Hab2_)\n",
    "print(\"h' = \", round(Hab_,4))"
   ]
  },
  {
   "cell_type": "code",
   "execution_count": 13,
   "metadata": {},
   "outputs": [
    {
     "name": "stdout",
     "output_type": "stream",
     "text": [
      "G =  0.5\n"
     ]
    }
   ],
   "source": [
    "print(\"G = \", round(G, 4))"
   ]
  },
  {
   "cell_type": "code",
   "execution_count": 14,
   "metadata": {},
   "outputs": [
    {
     "name": "stdout",
     "output_type": "stream",
     "text": [
      " T, SL, SC, SH =  0.7826 1.7246 1.0383 1.01\n"
     ]
    }
   ],
   "source": [
    "SL, SC, SH, T = cde.compute_weighting_functions(L_, Cab_, Hab_)\n",
    "print(\" T, SL, SC, SH = \", round(T, 4), round(SL,4), round(SC,4), round(SH,4))"
   ]
  },
  {
   "cell_type": "code",
   "execution_count": 15,
   "metadata": {},
   "outputs": [
    {
     "name": "stdout",
     "output_type": "stream",
     "text": [
      "RT =  -0.0\n"
     ]
    }
   ],
   "source": [
    "RT = cde.compute_RT(Cab_, Hab_)\n",
    "print(\"RT = \", round(RT,4))"
   ]
  },
  {
   "cell_type": "code",
   "execution_count": 16,
   "metadata": {},
   "outputs": [
    {
     "name": "stdout",
     "output_type": "stream",
     "text": [
      "AE00 = 0.9082\n"
     ]
    }
   ],
   "source": [
    "AE00 = cde.CIEDE2000(L1, a1, b1, L2, a2, b2)\n",
    "print(\"AE00 =\", round(AE00,4))"
   ]
  },
  {
   "cell_type": "markdown",
   "metadata": {},
   "source": [
    "Note: Difference in the fourth decimal place in SC and AE00 (in some cases)"
   ]
  }
 ],
 "metadata": {
  "kernelspec": {
   "display_name": "Python 3.9.0 ('notebooks_test-m1LjhKG4')",
   "language": "python",
   "name": "python3"
  },
  "language_info": {
   "codemirror_mode": {
    "name": "ipython",
    "version": 3
   },
   "file_extension": ".py",
   "mimetype": "text/x-python",
   "name": "python",
   "nbconvert_exporter": "python",
   "pygments_lexer": "ipython3",
   "version": "3.9.0"
  },
  "vscode": {
   "interpreter": {
    "hash": "0fdcca9142aee400815b03e813baab2695bec9f8e0467cda749508e0689582fe"
   }
  }
 },
 "nbformat": 4,
 "nbformat_minor": 4
}
