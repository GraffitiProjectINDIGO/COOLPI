{
 "cells": [
  {
   "cell_type": "markdown",
   "metadata": {},
   "source": [
    "<img src=\"res/logo/coolpi.png\" width=\"200\">\n",
    "\n",
    "# Notebook"
   ]
  },
  {
   "cell_type": "markdown",
   "metadata": {},
   "source": [
    "# RGB to XYZ Transform Matrix Computation"
   ]
  },
  {
   "cell_type": "markdown",
   "metadata": {},
   "source": [
    "# Nikon D5600"
   ]
  },
  {
   "cell_type": "markdown",
   "metadata": {},
   "source": [
    "## Import packages "
   ]
  },
  {
   "cell_type": "code",
   "execution_count": null,
   "metadata": {},
   "outputs": [],
   "source": [
    "import sys\n",
    "sys.version"
   ]
  },
  {
   "cell_type": "code",
   "execution_count": null,
   "metadata": {},
   "outputs": [],
   "source": [
    "import os\n",
    "import numpy as np\n",
    "import pandas as pd\n",
    "\n",
    "%matplotlib inline"
   ]
  },
  {
   "cell_type": "markdown",
   "metadata": {},
   "source": [
    "## SPD Illuminant"
   ]
  },
  {
   "cell_type": "code",
   "execution_count": null,
   "metadata": {},
   "outputs": [],
   "source": [
    "from coolpi.colour.cie_colour_spectral import MeasuredIlluminant"
   ]
  },
  {
   "cell_type": "markdown",
   "metadata": {},
   "source": [
    "### JN Colour Cabin"
   ]
  },
  {
   "cell_type": "markdown",
   "metadata": {},
   "source": [
    "JND65"
   ]
  },
  {
   "cell_type": "code",
   "execution_count": null,
   "metadata": {},
   "outputs": [],
   "source": [
    "file_spd = [\"res\", \"spd\", \"SPD_JND65_014_02°_6658K.csv\"]\n",
    "path_spd = os.path.join(*file_spd)\n",
    "\n",
    "JND65 = MeasuredIlluminant(illuminant_name=\"JND65\", path_file=path_spd)\n",
    "\n",
    "JND65.plot()"
   ]
  },
  {
   "cell_type": "markdown",
   "metadata": {},
   "source": [
    "JNA"
   ]
  },
  {
   "cell_type": "code",
   "execution_count": null,
   "metadata": {},
   "outputs": [],
   "source": [
    "file_spd = [\"res\", \"spd\", \"SPD_JNA_015_02°_2681K.csv\"]\n",
    "path_spd = os.path.join(*file_spd)\n",
    "\n",
    "JNA = MeasuredIlluminant(illuminant_name=\"JNA\", path_file=path_spd)\n",
    "\n",
    "JNA.plot()"
   ]
  },
  {
   "cell_type": "markdown",
   "metadata": {},
   "source": [
    "JNF"
   ]
  },
  {
   "cell_type": "code",
   "execution_count": null,
   "metadata": {},
   "outputs": [],
   "source": [
    "file_spd = [\"res\", \"spd\", \"SPD_JNF_016_02°_3872K.csv\"]\n",
    "path_spd = os.path.join(*file_spd)\n",
    "\n",
    "JNF = MeasuredIlluminant(illuminant_name=\"JNF\", path_file=path_spd)\n",
    "\n",
    "JNF.plot()"
   ]
  },
  {
   "cell_type": "markdown",
   "metadata": {},
   "source": [
    "JND50"
   ]
  },
  {
   "cell_type": "code",
   "execution_count": null,
   "metadata": {},
   "outputs": [],
   "source": [
    "file_spd = [\"res\", \"spd\", \"SPD_JND50_017_02°_4963K.csv\"]\n",
    "path_spd = os.path.join(*file_spd)\n",
    "\n",
    "JND50 = MeasuredIlluminant(illuminant_name=\"JND50\", path_file=path_spd)\n",
    "\n",
    "JND50.plot()"
   ]
  },
  {
   "cell_type": "markdown",
   "metadata": {},
   "source": [
    "### Indoor"
   ]
  },
  {
   "cell_type": "markdown",
   "metadata": {},
   "source": [
    "SPD32"
   ]
  },
  {
   "cell_type": "code",
   "execution_count": null,
   "metadata": {},
   "outputs": [],
   "source": [
    "file_spd = [\"res\", \"spd\", \"INDIGO-C7000-A_032_02°_5011K.csv\"]\n",
    "path_spd = os.path.join(*file_spd)\n",
    "\n",
    "SPD32 = MeasuredIlluminant(illuminant_name=\"SPD32\", path_file=path_spd)\n",
    "\n",
    "SPD32.plot()"
   ]
  },
  {
   "cell_type": "markdown",
   "metadata": {},
   "source": [
    "SPD33"
   ]
  },
  {
   "cell_type": "code",
   "execution_count": null,
   "metadata": {},
   "outputs": [],
   "source": [
    "file_spd = [\"res\", \"spd\", \"INDIGO-C7000-A_033_02°_3064K.csv\"]\n",
    "path_spd = os.path.join(*file_spd)\n",
    "\n",
    "SPD33 = MeasuredIlluminant(illuminant_name=\"SPD33\", path_file=path_spd)\n",
    "\n",
    "SPD33.plot()"
   ]
  },
  {
   "cell_type": "markdown",
   "metadata": {},
   "source": [
    "### Outdoor"
   ]
  },
  {
   "cell_type": "markdown",
   "metadata": {},
   "source": [
    "SPD38"
   ]
  },
  {
   "cell_type": "code",
   "execution_count": null,
   "metadata": {},
   "outputs": [],
   "source": [
    "file_spd = [\"res\", \"spd\", \"INDIGO-C7000-A_038_02°_5557K.csv\"]\n",
    "path_spd = os.path.join(*file_spd)\n",
    "\n",
    "SPD38 = MeasuredIlluminant(illuminant_name=\"SPD38\", path_file=path_spd)\n",
    "\n",
    "SPD38.plot()"
   ]
  },
  {
   "cell_type": "markdown",
   "metadata": {},
   "source": [
    "# Plot"
   ]
  },
  {
   "cell_type": "code",
   "execution_count": null,
   "metadata": {},
   "outputs": [],
   "source": [
    "import coolpi.auxiliary.plot as cpt"
   ]
  },
  {
   "cell_type": "code",
   "execution_count": null,
   "metadata": {},
   "outputs": [],
   "source": [
    "illuminants_JN = {\"JND65\": (JND65.nm_range, JND65.nm_interval, JND65.lambda_values),\n",
    "               \"JNA\": (JNA.nm_range, JNA.nm_interval, JNA.lambda_values),\n",
    "               \"JNF\": (JNF.nm_range, JNF.nm_interval, JNF.lambda_values),\n",
    "               \"JND50\": (JND50.nm_range, JND50.nm_interval, JND50.lambda_values)}"
   ]
  },
  {
   "cell_type": "code",
   "execution_count": null,
   "metadata": {},
   "outputs": [],
   "source": [
    "illuminants_indoor = {\"SPD32\": (SPD32.nm_range, SPD32.nm_interval, SPD32.lambda_values),\n",
    "                      \"SPD33\": (SPD33.nm_range, SPD33.nm_interval, SPD33.lambda_values)}"
   ]
  },
  {
   "cell_type": "code",
   "execution_count": null,
   "metadata": {},
   "outputs": [],
   "source": [
    "illuminants_outdoor= {\"SPD38\": (SPD38.nm_range, SPD38.nm_interval, SPD38.lambda_values)}"
   ]
  },
  {
   "cell_type": "code",
   "execution_count": null,
   "metadata": {},
   "outputs": [],
   "source": [
    "cpt.plot_illuminant(illuminants=illuminants_JN, normalised = True, show_figure = True, save_figure = False, output_path = None, title = \"Illuminant SPD\")"
   ]
  },
  {
   "cell_type": "code",
   "execution_count": null,
   "metadata": {},
   "outputs": [],
   "source": [
    "cpt.plot_illuminant(illuminants=illuminants_indoor, normalised = True, show_figure = True, save_figure = False, output_path = None, title = \"Illuminant SPD\")"
   ]
  },
  {
   "cell_type": "code",
   "execution_count": null,
   "metadata": {},
   "outputs": [],
   "source": [
    "cpt.plot_illuminant(illuminants=illuminants_outdoor, normalised = True, show_figure = True, save_figure = False, output_path = None, title = \"Illuminant SPD\")"
   ]
  },
  {
   "cell_type": "markdown",
   "metadata": {},
   "source": [
    "## Load Data From CSV"
   ]
  },
  {
   "cell_type": "markdown",
   "metadata": {},
   "source": [
    "### LR Dataset"
   ]
  },
  {
   "cell_type": "code",
   "execution_count": null,
   "metadata": {},
   "outputs": [],
   "source": [
    "path_csv = os.path.join(\"res\", \"csv\", \"NikonD5600_LR_Data.csv\")\n",
    "\n",
    "data_from_csv = pd.read_csv(path_csv, sep=\";\")\n",
    "\n",
    "data_lr = pd.DataFrame(data_from_csv, columns=[\"ColourChecker\",\"patch_id\", \"illuminant\", \"X\", \"Y\", \"Z\", \"R\", \"G\", \"B\"])\n",
    "data_lr"
   ]
  },
  {
   "cell_type": "markdown",
   "metadata": {},
   "source": [
    "Replace `str` for `MeasuredIlluminant`"
   ]
  },
  {
   "cell_type": "code",
   "execution_count": null,
   "metadata": {},
   "outputs": [],
   "source": [
    "data_lr[\"illuminant\"].replace({\"JND65\": JND65, \"JNA\": JNA, \"JNF\": JNF, \"JND50\": JND50, \"SPD32\": SPD32, \"SPD33\": SPD33, \"SPD38\": SPD38}, inplace=True)\n",
    "data_lr"
   ]
  },
  {
   "cell_type": "code",
   "execution_count": null,
   "metadata": {},
   "outputs": [],
   "source": [
    "data_lr.describe()"
   ]
  },
  {
   "cell_type": "markdown",
   "metadata": {},
   "source": [
    "### WPP Dataset"
   ]
  },
  {
   "cell_type": "code",
   "execution_count": null,
   "metadata": {},
   "outputs": [],
   "source": [
    "path_csv = os.path.join(\"res\", \"csv\", \"NikonD5600_WPP_Data.csv\")\n",
    "\n",
    "data_from_csv = pd.read_csv(path_csv, sep=\";\")\n",
    "\n",
    "data_wpp = pd.DataFrame(data_from_csv, columns=[\"ColourChecker\",\"patch_id\", \"illuminant\", \"X\", \"Y\", \"Z\", \"R\", \"G\", \"B\"])\n",
    "data_wpp"
   ]
  },
  {
   "cell_type": "code",
   "execution_count": null,
   "metadata": {},
   "outputs": [],
   "source": [
    "data_wpp[\"illuminant\"].replace({\"JND65\": JND65, \"JNA\": JNA, \"JNF\": JNF, \"JND50\": JND50, \"SPD32\": SPD32, \"SPD33\": SPD33, \"SPD38\": SPD38 }, inplace=True)\n",
    "data_wpp"
   ]
  },
  {
   "cell_type": "markdown",
   "metadata": {},
   "source": [
    "# Regression Model"
   ]
  },
  {
   "cell_type": "markdown",
   "metadata": {},
   "source": [
    "## Select Dataset"
   ]
  },
  {
   "cell_type": "code",
   "execution_count": null,
   "metadata": {},
   "outputs": [],
   "source": [
    "data_set = data_lr"
   ]
  },
  {
   "cell_type": "code",
   "execution_count": null,
   "metadata": {},
   "outputs": [],
   "source": [
    "data_set = data_wpp"
   ]
  },
  {
   "cell_type": "markdown",
   "metadata": {},
   "source": [
    "## One illuminant and One colourchecker"
   ]
  },
  {
   "cell_type": "markdown",
   "metadata": {},
   "source": [
    "Select illuminant and ColourChecker"
   ]
  },
  {
   "cell_type": "code",
   "execution_count": null,
   "metadata": {},
   "outputs": [],
   "source": [
    "spd = JND65\n",
    "colour_checker = \"XRCCPP\""
   ]
  },
  {
   "cell_type": "code",
   "execution_count": null,
   "metadata": {},
   "outputs": [],
   "source": [
    "data = data_set[(data_set['illuminant'] == spd)&(data_set['ColourChecker'] == colour_checker)]"
   ]
  },
  {
   "cell_type": "markdown",
   "metadata": {},
   "source": [
    "## Multiple options"
   ]
  },
  {
   "cell_type": "markdown",
   "metadata": {},
   "source": [
    "multiple illuminants & 1 colour_checker"
   ]
  },
  {
   "cell_type": "markdown",
   "metadata": {},
   "source": [
    "All JN"
   ]
  },
  {
   "cell_type": "code",
   "execution_count": null,
   "metadata": {},
   "outputs": [],
   "source": [
    "data = data_set[((data_set['illuminant'] == JND65) | (data_set['illuminant'] == JNA) | (data_set['illuminant'] == JNF) | (data_set['illuminant'] == JND50)) &(data_set['ColourChecker'] == colour_checker)]"
   ]
  },
  {
   "cell_type": "markdown",
   "metadata": {},
   "source": [
    "ALL Indoor"
   ]
  },
  {
   "cell_type": "code",
   "execution_count": null,
   "metadata": {},
   "outputs": [],
   "source": [
    "data = data_set[((data_set['illuminant'] == SPD32) | (data_set['illuminant'] == SPD33)) &(data_set['ColourChecker'] == colour_checker)]"
   ]
  },
  {
   "cell_type": "markdown",
   "metadata": {},
   "source": [
    "All"
   ]
  },
  {
   "cell_type": "code",
   "execution_count": null,
   "metadata": {},
   "outputs": [],
   "source": [
    "data = data_set[((data_set['illuminant'] == JND65) | (data_set['illuminant'] == JNA) | (data_set['illuminant'] == JNF) | (data_set['illuminant'] == JND50) | (data_set['illuminant'] == SPD32) | (data_set['illuminant'] == SPD33) | (data_set['illuminant'] == SPD38)) &(data_set['ColourChecker'] == colour_checker)]"
   ]
  },
  {
   "cell_type": "markdown",
   "metadata": {},
   "source": [
    "# Data Model"
   ]
  },
  {
   "cell_type": "code",
   "execution_count": null,
   "metadata": {},
   "outputs": [],
   "source": [
    "data"
   ]
  },
  {
   "cell_type": "code",
   "execution_count": null,
   "metadata": {},
   "outputs": [],
   "source": [
    "data.describe()"
   ]
  },
  {
   "cell_type": "markdown",
   "metadata": {},
   "source": [
    "## Split training/test"
   ]
  },
  {
   "cell_type": "code",
   "execution_count": null,
   "metadata": {},
   "outputs": [],
   "source": [
    "!pipenv install scikit-learn"
   ]
  },
  {
   "cell_type": "code",
   "execution_count": null,
   "metadata": {},
   "outputs": [],
   "source": [
    "from sklearn.model_selection import train_test_split"
   ]
  },
  {
   "cell_type": "markdown",
   "metadata": {},
   "source": [
    "For model assessment"
   ]
  },
  {
   "cell_type": "code",
   "execution_count": null,
   "metadata": {},
   "outputs": [],
   "source": [
    "X = np.array([data.patch_id, data.illuminant, data.R, data.G, data.B]).T\n",
    "y = np.array([data.patch_id, data.illuminant, data.X, data.Y, data.Z]).T\n",
    "\n",
    "print(X.shape)\n",
    "print(y.shape)"
   ]
  },
  {
   "cell_type": "markdown",
   "metadata": {},
   "source": [
    "All data"
   ]
  },
  {
   "cell_type": "code",
   "execution_count": null,
   "metadata": {},
   "outputs": [],
   "source": [
    "X_train_illum, X_test_illum, y_train_illum, y_test_illum = X, X, y, y"
   ]
  },
  {
   "cell_type": "markdown",
   "metadata": {},
   "source": [
    "Split data"
   ]
  },
  {
   "cell_type": "code",
   "execution_count": null,
   "metadata": {},
   "outputs": [],
   "source": [
    "X_train_illum, X_test_illum, y_train_illum, y_test_illum = train_test_split(X, y, test_size = 0.2, random_state=4)"
   ]
  },
  {
   "cell_type": "markdown",
   "metadata": {},
   "source": [
    "Training / test"
   ]
  },
  {
   "cell_type": "code",
   "execution_count": null,
   "metadata": {},
   "outputs": [],
   "source": [
    "X_train = X_train_illum[:,2:5]   # R G B\n",
    "y_train = y_train_illum[:,2:5]   # X Y Z \n",
    "\n",
    "X_test = X_test_illum[:,2:5]\n",
    "y_test = y_test_illum[:,2:5]\n",
    "\n",
    "print(X_train.shape)\n",
    "print(y_train.shape)\n",
    "print(X_test.shape)\n",
    "print(y_test.shape)"
   ]
  },
  {
   "cell_type": "markdown",
   "metadata": {},
   "source": [
    "## Non-linear optimization"
   ]
  },
  {
   "cell_type": "markdown",
   "metadata": {},
   "source": [
    "### Scipy.optimize"
   ]
  },
  {
   "cell_type": "code",
   "execution_count": null,
   "metadata": {},
   "outputs": [],
   "source": [
    "from scipy.optimize import least_squares"
   ]
  },
  {
   "cell_type": "markdown",
   "metadata": {},
   "source": [
    "https://docs.scipy.org/doc/scipy/reference/generated/scipy.optimize.least_squares.html"
   ]
  },
  {
   "cell_type": "markdown",
   "metadata": {},
   "source": [
    "Parameters:\n",
    "\n",
    "- fun: Function which computes the vector of residuals.\n",
    "- x0: Initial guess on independent variables.\n",
    "- jac{‘2-point’, ‘3-point’, ‘cs’, callable}: Method of computing the Jacobian matrix. The scheme ‘3-point’ is more accurate, but requires twice as many operations as ‘2-point’ (default). Method ‘lm’ always uses the ‘2-point’ scheme. \n",
    "- bounds: Lower and upper bounds on independent variables.\n",
    "- method{‘trf’, ‘dogbox’, ‘lm’}: Algorithm to perform minimization. \"trf\" Trust Region Reflective algorithm, particularly suitable for large sparse problems with bounds. Generally robust method. \"dogbox\": dogleg algorithm with rectangular trust regions, typical use case is small problems with bounds. Not recommended for problems with rank-deficient Jacobian. \"lm\": Levenberg-Marquardt algorithm as implemented in MINPACK. Doesn’t handle bounds and sparse Jacobians. Usually the most efficient method for small unconstrained problems.\n",
    "- ftol: float or None. Tolerance for termination by the change of the cost function. Default is 1e-8. \n",
    "- xtol: float or None. Tolerance for termination by the change of the independent variables. Default is 1e-8.\n",
    "- gtol: float or None. Tolerance for termination by the norm of the gradient. Default is 1e-8.\n",
    "- x_scale: array_like or ‘jac’. Characteristic scale of each variable.\n",
    "- loss: Determines the loss function. ‘linear’ (default) : rho(z) = z. Gives a standard least-squares problem.\n",
    "‘soft_l1’ : rho(z) = 2 * ((1 + z)**0.5 - 1). The smooth approximation of l1 (absolute value) loss. Usually a good choice for robust least squares. ‘huber’ : rho(z) = z if z <= 1 else 2*z**0.5 - 1. Works similarly to ‘soft_l1’.\n",
    "‘cauchy’ : rho(z) = ln(1 + z). Severely weakens outliers influence, but may cause difficulties in optimization process. ‘arctan’ : rho(z) = arctan(z). Limits a maximum loss on a single residual, has properties similar to ‘cauchy’.\n",
    "- f_scale: Value of soft margin between inlier and outlier residuals, default is 1.0\n",
    "- max_nfev: None or int. Maximum number of function evaluations before the termination\n",
    "- diff_step: Determines the relative step size for the finite difference approximation of the Jacobian\n",
    "- tr_solver{None, ‘exact’, ‘lsmr’}: Method for solving trust-region subproblems, relevant only for ‘trf’ and ‘dogbox’ methods.\n",
    "- jac_sparsity{None, array_like, sparse matrix}. Defines the sparsity structure of the Jacobian matrix for finite difference estimation, its shape must be (m, n)\n",
    "- verbose{0, 1, 2}: Level of algorithm’s verbosity: 0 (default) : work silently. 1 : display a termination report.\n",
    "2 : display progress during iterations (not supported by ‘lm’ method).\n",
    "- args, kwargstuple and dict. Additional arguments passed to fun and jac."
   ]
  },
  {
   "cell_type": "markdown",
   "metadata": {},
   "source": [
    "Function which computes the vector of residuals (function to minimize)"
   ]
  },
  {
   "cell_type": "code",
   "execution_count": null,
   "metadata": {},
   "outputs": [],
   "source": [
    "def compute_model_residuals(a, x, y):\n",
    "    return y - np.dot(a, x)"
   ]
  },
  {
   "cell_type": "code",
   "execution_count": null,
   "metadata": {},
   "outputs": [],
   "source": [
    "def compute_non_linear_optimization_model(fun, x0, x_data, y_data):\n",
    "    ls_sol = least_squares(compute_model_residuals, x0, method=\"lm\", args=(x_data, y_data))\n",
    "    return ls_sol"
   ]
  },
  {
   "cell_type": "code",
   "execution_count": null,
   "metadata": {},
   "outputs": [],
   "source": [
    "def apply_non_linear_optimization(fun, X_train, y_train, X_test, y_test):\n",
    "    RGB_to_XYZ = np.zeros((3,3))\n",
    "    x_data_rgb = np.array(X_train.T, dtype=float)  # RGB\n",
    "    y_data_x = np.array(y_train[:,0], dtype=float) # CIE X\n",
    "    y_data_y = np.array(y_train[:,1], dtype=float) # CIE Y\n",
    "    y_data_z = np.array(y_train[:,2], dtype=float) # CIE Y\n",
    "    x0 = [1, 1, 1] # initial parameters\n",
    "    sol_x = compute_non_linear_optimization_model(fun, x0, x_data_rgb, y_data_x)\n",
    "    sol_y = compute_non_linear_optimization_model(fun, x0, x_data_rgb, y_data_y)\n",
    "    sol_z = compute_non_linear_optimization_model(fun, x0, x_data_rgb, y_data_z)\n",
    "\n",
    "    RGB_to_XYZ[0,:] = sol_x.x\n",
    "    RGB_to_XYZ[1,:] = sol_y.x\n",
    "    RGB_to_XYZ[2,:] = sol_z.x\n",
    "\n",
    "    # compute residuals\n",
    "    y_predicted = np.dot(RGB_to_XYZ, X_test.T)\n",
    "\n",
    "    return RGB_to_XYZ, y_predicted.T\n"
   ]
  },
  {
   "cell_type": "code",
   "execution_count": null,
   "metadata": {},
   "outputs": [],
   "source": [
    "RGB_to_XYZ, y_pred = apply_non_linear_optimization(compute_model_residuals, X_train, y_train, X_test, y_test)"
   ]
  },
  {
   "cell_type": "code",
   "execution_count": null,
   "metadata": {},
   "outputs": [],
   "source": [
    "RGB_to_XYZ"
   ]
  },
  {
   "cell_type": "markdown",
   "metadata": {},
   "source": [
    "Should be 1, 1, 1"
   ]
  },
  {
   "cell_type": "code",
   "execution_count": null,
   "metadata": {},
   "outputs": [],
   "source": [
    "np.dot(RGB_to_XYZ, [1,1,1])"
   ]
  },
  {
   "cell_type": "code",
   "execution_count": null,
   "metadata": {},
   "outputs": [],
   "source": [
    "norm = np.tile(np.sum(RGB_to_XYZ, 1), (3, 1)).transpose()\n",
    "M = RGB_to_XYZ / norm\n",
    "M"
   ]
  },
  {
   "cell_type": "code",
   "execution_count": null,
   "metadata": {},
   "outputs": [],
   "source": [
    "np.dot(M, [1,1,1])"
   ]
  },
  {
   "cell_type": "markdown",
   "metadata": {},
   "source": [
    "## LR - Ordinary Least Squares Regression Model"
   ]
  },
  {
   "cell_type": "markdown",
   "metadata": {},
   "source": [
    "## Regression Model"
   ]
  },
  {
   "cell_type": "code",
   "execution_count": null,
   "metadata": {},
   "outputs": [],
   "source": [
    "from sklearn.linear_model import LinearRegression, MultiTaskLassoCV"
   ]
  },
  {
   "cell_type": "markdown",
   "metadata": {},
   "source": [
    "LinearRegression: Ordinary Least Squares (OLS)\n",
    "\n",
    "The least square regression determines the coefficients of the model so that the sum of the squared residuals is minimum. "
   ]
  },
  {
   "cell_type": "markdown",
   "metadata": {},
   "source": [
    "Linear Regression / Without intercept (bias)"
   ]
  },
  {
   "cell_type": "code",
   "execution_count": null,
   "metadata": {},
   "outputs": [],
   "source": [
    "linear_model = LinearRegression(fit_intercept=False,copy_X=True, n_jobs=None, positive=False)"
   ]
  },
  {
   "cell_type": "code",
   "execution_count": null,
   "metadata": {},
   "outputs": [],
   "source": [
    "linear_model = LinearRegression(fit_intercept=True,copy_X=True, n_jobs=None, positive=False)"
   ]
  },
  {
   "cell_type": "markdown",
   "metadata": {},
   "source": [
    "Model Fit"
   ]
  },
  {
   "cell_type": "code",
   "execution_count": null,
   "metadata": {},
   "outputs": [],
   "source": [
    "linear_model.fit(X_train, y_train)"
   ]
  },
  {
   "cell_type": "code",
   "execution_count": null,
   "metadata": {},
   "outputs": [],
   "source": [
    "linear_model.coef_"
   ]
  },
  {
   "cell_type": "code",
   "execution_count": null,
   "metadata": {},
   "outputs": [],
   "source": [
    "norm = np.tile(np.sum(linear_model.coef_, 1), (3, 1)).transpose()\n",
    "M = linear_model.coef_ / norm\n",
    "M"
   ]
  },
  {
   "cell_type": "code",
   "execution_count": null,
   "metadata": {},
   "outputs": [],
   "source": [
    "linear_model.intercept_"
   ]
  },
  {
   "cell_type": "code",
   "execution_count": null,
   "metadata": {},
   "outputs": [],
   "source": [
    "y_pred = linear_model.predict(X_test)\n",
    "y_pred"
   ]
  },
  {
   "cell_type": "code",
   "execution_count": null,
   "metadata": {},
   "outputs": [],
   "source": [
    "# predicted using coef\n",
    "rgb_data = X_test\n",
    "xyz_data = np.dot(linear_model.coef_, rgb_data.T) \n",
    "print(xyz_data.T)\n",
    "\n",
    "diff = y_pred - xyz_data.T\n",
    "print(diff)\n"
   ]
  },
  {
   "cell_type": "markdown",
   "metadata": {},
   "source": [
    "## Create a dataframe for model assesment\n",
    "\n",
    "patch_id  illuminant   X  Y  X  X' Y' Z'     X(D65) Y(D65) Z(D65) X'(D65) Y'(D65) Z'(D65)  L a b   L' a' b'   DeltaE CIEDE2000"
   ]
  },
  {
   "cell_type": "code",
   "execution_count": null,
   "metadata": {},
   "outputs": [],
   "source": [
    "data_for_model = y_test_illum # test / training"
   ]
  },
  {
   "cell_type": "code",
   "execution_count": null,
   "metadata": {},
   "outputs": [],
   "source": [
    "dataframe_assesment_model = pd.DataFrame(data_for_model, columns= [\"patch_id\", \"illuminant_x\", \"X\", \"Y\", \"Z\"])\n",
    "dataframe_assesment_model.rename(columns = {'illuminant_x':'illuminant'}, inplace = True) # rename column\n",
    "# add predicted values\n",
    "dataframe_assesment_model[\"X\"] = dataframe_assesment_model[\"X\"]*100\n",
    "dataframe_assesment_model[\"Y\"] = dataframe_assesment_model[\"Y\"]*100\n",
    "dataframe_assesment_model[\"Z\"] = dataframe_assesment_model[\"Z\"]*100\n",
    "dataframe_assesment_model[\"X'\"] = y_pred[:,0]*100 # X predicted\n",
    "dataframe_assesment_model[\"Y'\"] = y_pred[:,1]*100  # Y predicted\n",
    "dataframe_assesment_model[\"Z'\"] = y_pred[:,2]*100  # Z predicted"
   ]
  },
  {
   "cell_type": "code",
   "execution_count": null,
   "metadata": {},
   "outputs": [],
   "source": [
    "dataframe_assesment_model"
   ]
  },
  {
   "cell_type": "markdown",
   "metadata": {},
   "source": [
    "CAT's to D65; DeltaE, CIEDE2000"
   ]
  },
  {
   "cell_type": "code",
   "execution_count": null,
   "metadata": {},
   "outputs": [],
   "source": [
    "# CIE XYZ illuminant 1 to CIE XYZ D65 to LAB\n",
    "\n",
    "import coolpi.colour.cat_models as cat\n",
    "from coolpi.colour.cie_colour_spectral import WhitePoint, CIEXYZ, CIELAB\n",
    "\n",
    "#illuminant_dict = {\"JND65\": JND65}\n",
    "\n",
    "def ciexyz_illuminant_to_d65(X, Y, Z, illuminant_shot): #, illuminants = illuminant_dict):\n",
    "    #spd = illuminants[illuminant_shot]\n",
    "    Xn1, Yn1, Zn1 = illuminant_shot.compute_white_point_XYZ()\n",
    "    WP2 = WhitePoint(\"D65\")\n",
    "    Xn2, Yn2, Zn2 = WP2.coordinates\n",
    "    X2, Y2, Z2 = cat.apply_CATs_transform(X, Y, Z, Xn1, Yn1, Zn1, Xn2, Yn2, Zn2, cat_model=\"von Kries\")\n",
    "    return X2, Y2, Z2\n",
    "\n",
    "def compute_res(XYZ, XYZ_pred, col =0):\n",
    "    return XYZ[col] - XYZ_pred[col]\n",
    "\n",
    "def compute_LAB_d65(XYZ):\n",
    "    X, Y, Z = XYZ\n",
    "    ciexyz = CIEXYZ(\"sample\", X,Y,Z, \"D65\", 2)\n",
    "    L, a, b = ciexyz.to_LAB().coordinates\n",
    "    return L, a, b\n",
    "\n",
    "def compute_delta_e(LAB1, LAB2):\n",
    "    L1, a1, b1 = LAB1\n",
    "    lab1 = CIELAB(\"sample1\", L1, a1, b1, \"D65\", 2)\n",
    "    L2, a2, b2 = LAB2\n",
    "    lab2 = CIELAB(\"sample1\", L2, a2, b2, \"D65\", 2)\n",
    "    ae = lab1.delta_e_ab(lab2)\n",
    "    return ae\n",
    "\n",
    "def compute_ciede200(LAB1, LAB2):\n",
    "    L1, a1, b1 = LAB1\n",
    "    lab1 = CIELAB(\"sample1\", L1, a1, b1, \"D65\", 2)\n",
    "    L2, a2, b2 = LAB2\n",
    "    lab2 = CIELAB(\"sample1\", L2, a2, b2, \"D65\", 2)\n",
    "    ciede2000 = lab1.CIEDE2000(lab2)\n",
    "    return ciede2000"
   ]
  },
  {
   "cell_type": "code",
   "execution_count": null,
   "metadata": {},
   "outputs": [],
   "source": [
    "dataframe_assesment_model[\"XYZ(D65)\"] = dataframe_assesment_model.apply(lambda x: ciexyz_illuminant_to_d65(x[\"X\"], x[\"Y\"], x[\"Z\"], x[\"illuminant\"]), axis=1) \n",
    "dataframe_assesment_model[\"XYZ'(D65)\"] = dataframe_assesment_model.apply(lambda x: ciexyz_illuminant_to_d65(x[\"X'\"], x[\"Y'\"], x[\"Z'\"], x[\"illuminant\"]), axis=1) \n",
    "dataframe_assesment_model[\"resX\"] = dataframe_assesment_model.apply(lambda x: compute_res(x[\"XYZ(D65)\"], x[\"XYZ'(D65)\"], col=0), axis=1) \n",
    "dataframe_assesment_model[\"resY\"] = dataframe_assesment_model.apply(lambda x: compute_res(x[\"XYZ(D65)\"], x[\"XYZ'(D65)\"], col=1), axis=1) \n",
    "dataframe_assesment_model[\"resZ\"] = dataframe_assesment_model.apply(lambda x: compute_res(x[\"XYZ(D65)\"], x[\"XYZ'(D65)\"], col=2), axis=1) \n",
    "dataframe_assesment_model[\"LAB(D65)\"] = dataframe_assesment_model.apply(lambda x: compute_LAB_d65(x[\"XYZ(D65)\"]), axis=1)\n",
    "dataframe_assesment_model[\"LAB'(D65)\"] = dataframe_assesment_model.apply(lambda x: compute_LAB_d65(x[\"XYZ'(D65)\"]), axis=1)\n",
    "dataframe_assesment_model[\"DeltaE\"] = dataframe_assesment_model.apply(lambda x: compute_delta_e(x[\"LAB(D65)\"],x[\"LAB'(D65)\"]), axis=1)\n",
    "dataframe_assesment_model[\"CIEDE2000\"] = dataframe_assesment_model.apply(lambda x: compute_ciede200(x[\"LAB(D65)\"],x[\"LAB'(D65)\"]), axis=1)\n",
    "dataframe_assesment_model"
   ]
  },
  {
   "cell_type": "markdown",
   "metadata": {},
   "source": [
    "Outlayers"
   ]
  },
  {
   "cell_type": "code",
   "execution_count": null,
   "metadata": {},
   "outputs": [],
   "source": [
    "newdf = dataframe_assesment_model.where(dataframe_assesment_model[\"DeltaE\"] > 10)\n",
    "clear_data = newdf.dropna()\n",
    "patches = list(clear_data[\"patch_id\"])\n",
    "print(len(patches), patches)"
   ]
  },
  {
   "cell_type": "code",
   "execution_count": null,
   "metadata": {},
   "outputs": [],
   "source": [
    "AE_values = dataframe_assesment_model[\"DeltaE\"]\n",
    "AE_values.describe()"
   ]
  },
  {
   "cell_type": "code",
   "execution_count": null,
   "metadata": {},
   "outputs": [],
   "source": [
    "CIEDE2000 = dataframe_assesment_model[\"CIEDE2000\"]\n",
    "CIEDE2000.describe()"
   ]
  },
  {
   "cell_type": "code",
   "execution_count": null,
   "metadata": {},
   "outputs": [],
   "source": [
    "res = pd.DataFrame(dataframe_assesment_model, columns=[\"resX\", \"resY\", \"resZ\"])\n",
    "res[\"resX\"] = res[\"resX\"]/100\n",
    "res[\"resY\"] = res[\"resY\"]/100\n",
    "res[\"resZ\"] = res[\"resZ\"]/100\n",
    "res.describe()"
   ]
  },
  {
   "cell_type": "code",
   "execution_count": null,
   "metadata": {},
   "outputs": [],
   "source": [
    "from sklearn import metrics"
   ]
  },
  {
   "cell_type": "code",
   "execution_count": null,
   "metadata": {},
   "outputs": [],
   "source": [
    "MAE = metrics.mean_absolute_error(y_test, y_pred)\n",
    "MSE = metrics.mean_squared_error(y_test, y_pred)\n",
    "RMSE = np.sqrt(MSE)\n",
    "R2 = metrics.r2_score(y_test, y_pred)\n",
    "print('Mean Absolute Error     :', MAE)\n",
    "print('Mean Squared Error      :', MSE)\n",
    "print('Root Mean Squared Error :', RMSE)\n",
    "print('R2                      :', R2)"
   ]
  },
  {
   "cell_type": "markdown",
   "metadata": {},
   "source": [
    "## Plot"
   ]
  },
  {
   "cell_type": "code",
   "execution_count": null,
   "metadata": {},
   "outputs": [],
   "source": [
    "import matplotlib.pylab as plt\n",
    "import seaborn as sns\n",
    "%matplotlib inline"
   ]
  },
  {
   "cell_type": "code",
   "execution_count": null,
   "metadata": {},
   "outputs": [],
   "source": [
    "from mpl_toolkits import mplot3d"
   ]
  },
  {
   "cell_type": "code",
   "execution_count": null,
   "metadata": {},
   "outputs": [],
   "source": [
    "fig = plt.figure(figsize=(12,12))\n",
    "ax = plt.axes(projection='3d')\n",
    "ax.scatter(data.R, data.G, data.B, c=data.R)\n",
    "ax.set_title('3d Scatter plot')\n",
    "plt.show()"
   ]
  },
  {
   "cell_type": "code",
   "execution_count": null,
   "metadata": {},
   "outputs": [],
   "source": [
    "fig = plt.figure(figsize=(12,12))\n",
    "ax = plt.axes(projection='3d')\n",
    "ax.scatter(data.X, data.Y, data.Z, c=data.Y)\n",
    "ax.set_title('3d Scatter plot')\n",
    "plt.show()"
   ]
  },
  {
   "cell_type": "code",
   "execution_count": null,
   "metadata": {},
   "outputs": [],
   "source": [
    "residuals = np.array([res.resX,  res.resY,  res.resZ]).T"
   ]
  },
  {
   "cell_type": "code",
   "execution_count": null,
   "metadata": {},
   "outputs": [],
   "source": [
    "residual_label = \"XYZ\"\n",
    "fig, axis = plt.subplots(1,3, figsize=(24,6))\n",
    "fig.suptitle(\"Residuals CIE XYZ\", fontsize = 14)\n",
    "colours = [\"indigo\", \"navy\", \"slategrey\"]\n",
    "for i in range(0,len(axis)):\n",
    "    sns.histplot(x=residuals[:,i], color = colours[i], kde=True, ax = axis[i])\n",
    "    axis[i].set(xlabel=f\"{residual_label[i]}\", ylabel=\"Frequency\")\n",
    "plt.show()"
   ]
  },
  {
   "cell_type": "code",
   "execution_count": null,
   "metadata": {},
   "outputs": [],
   "source": [
    "fig, axes = plt.subplots(nrows=1, ncols=2, figsize=(24, 8))\n",
    "\n",
    "axes[0].scatter(y_test[:,0], y_pred[:,0], color = \"indigo\", edgecolors=(0,0,0), alpha=0.4)\n",
    "axes[0].plot([y_test[:,0].min(), y_test[:,0].max()], [y_test[:,0].min(), y_test[:,0].max()], \"k--\", color=\"black\", lw=2)\n",
    "axes[0].set_title('Predicted vs Observed (CIE X)', fontsize = 10, fontweight = \"bold\")\n",
    "axes[0].set_xlabel('Observed')\n",
    "axes[0].set_ylabel('Predicted')\n",
    "axes[0].tick_params(labelsize = 7)\n",
    "\n",
    "axes[1].scatter(list(range(len(y_test[:,0]))), residuals[:,0], color =\"indigo\", edgecolors=(0, 0, 0), alpha = 0.4)\n",
    "axes[1].axhline(y = 0, linestyle = '--', color = 'black', lw=2)\n",
    "axes[1].set_title('Residuals (CIE X)', fontsize = 10, fontweight = \"bold\")\n",
    "axes[1].set_xlabel('Patch')\n",
    "axes[1].set_ylabel('Residual')\n",
    "axes[1].tick_params(labelsize = 7)\n",
    "\n",
    "plt.show()"
   ]
  },
  {
   "cell_type": "code",
   "execution_count": null,
   "metadata": {},
   "outputs": [],
   "source": [
    "fig, axes = plt.subplots(nrows=1, ncols=2, figsize=(24, 8))\n",
    "\n",
    "axes[0].scatter(y_test[:,1], y_pred[:,1], color = \"indigo\", edgecolors=(0,0,0), alpha=0.4)\n",
    "axes[0].plot([y_test[:,1].min(), y_test[:,1].max()], [y_test[:,1].min(), y_test[:,1].max()], \"k--\", color=\"black\", lw=2)\n",
    "axes[0].set_title('Predicted vs Observed (CIE Y)', fontsize = 10, fontweight = \"bold\")\n",
    "axes[0].set_xlabel('Observed')\n",
    "axes[0].set_ylabel('Predicted')\n",
    "axes[0].tick_params(labelsize = 7)\n",
    "\n",
    "axes[1].scatter(list(range(len(y_test[:,1]))), residuals[:,1], color =\"indigo\", edgecolors=(0, 0, 0), alpha = 0.4)\n",
    "axes[1].axhline(y = 0, linestyle = '--', color = 'black', lw=2)\n",
    "axes[1].set_title('Residuals (CIE Y)', fontsize = 10, fontweight = \"bold\")\n",
    "axes[1].set_xlabel('Patch')\n",
    "axes[1].set_ylabel('Residual')\n",
    "axes[1].tick_params(labelsize = 7)\n",
    "\n",
    "plt.show()"
   ]
  },
  {
   "cell_type": "code",
   "execution_count": null,
   "metadata": {},
   "outputs": [],
   "source": [
    "fig, axes = plt.subplots(nrows=1, ncols=2, figsize=(24, 8))\n",
    "\n",
    "axes[0].scatter(y_test[:,2], y_pred[:,2], color = \"indigo\", edgecolors=(0,0,0), alpha=0.4)\n",
    "axes[0].plot([y_test[:,2].min(), y_test[:,2].max()], [y_test[:,2].min(), y_test[:,2].max()], \"k--\", color=\"black\", lw=2)\n",
    "axes[0].set_title('Predicted vs Observed (CIE Z)', fontsize = 10, fontweight = \"bold\")\n",
    "axes[0].set_xlabel('Observed')\n",
    "axes[0].set_ylabel('Predicted')\n",
    "axes[0].tick_params(labelsize = 7)\n",
    "\n",
    "axes[1].scatter(list(range(len(y_test[:,2]))), residuals[:,2], color =\"indigo\", edgecolors=(0, 0, 0), alpha = 0.4)\n",
    "axes[1].axhline(y = 0, linestyle = '--', color = 'black', lw=2)\n",
    "axes[1].set_title('Residuals (CIE Z)', fontsize = 10, fontweight = \"bold\")\n",
    "axes[1].set_xlabel('Patch')\n",
    "axes[1].set_ylabel('Residual')\n",
    "axes[1].tick_params(labelsize = 7)\n",
    "\n",
    "plt.show()"
   ]
  },
  {
   "cell_type": "markdown",
   "metadata": {},
   "source": [
    "DeltaE"
   ]
  },
  {
   "cell_type": "code",
   "execution_count": null,
   "metadata": {},
   "outputs": [],
   "source": [
    "fig, axes = plt.subplots(nrows=1, ncols=2, figsize=(24, 8))\n",
    "\n",
    "sns.histplot(x=AE_values, color = \"blue\", kde=True, ax = axes[0])\n",
    "axes[0].set_title('Colour Differences (CIE76)', fontsize = 10, fontweight = \"bold\")\n",
    "axes[0].set_xlabel('CIE76')\n",
    "axes[0].set_ylabel('Frequency')\n",
    "axes[0].tick_params(labelsize = 7)\n",
    "\n",
    "\n",
    "axes[1].scatter(list(range(len(AE_values))), AE_values, color =\"blue\", edgecolors=(0, 0, 0), alpha = 0.4)\n",
    "axes[1].axhline(y = 4, linestyle = '--', color = 'red', lw=2) # threshold\n",
    "axes[1].set_title('Colour Differences (CIE76)', fontsize = 10, fontweight = \"bold\")\n",
    "axes[1].set_xlabel('Patch')\n",
    "axes[1].set_ylabel('CIE76')\n",
    "axes[1].tick_params(labelsize = 7)"
   ]
  },
  {
   "cell_type": "markdown",
   "metadata": {},
   "source": [
    "AE00"
   ]
  },
  {
   "cell_type": "code",
   "execution_count": null,
   "metadata": {},
   "outputs": [],
   "source": [
    "fig, axes = plt.subplots(nrows=1, ncols=2, figsize=(24, 8))\n",
    "\n",
    "sns.histplot(x=CIEDE2000, color = \"blue\", kde=True, ax = axes[0])\n",
    "axes[0].set_title('Colour Differences (AE00)', fontsize = 10, fontweight = \"bold\")\n",
    "axes[0].set_xlabel('AE00')\n",
    "axes[0].set_ylabel('Frequency')\n",
    "axes[0].tick_params(labelsize = 7)\n",
    "\n",
    "axes[1].scatter(list(range(len(CIEDE2000))), CIEDE2000, color =\"blue\", edgecolors=(0, 0, 0), alpha = 0.4)\n",
    "axes[1].axhline(y = 4, linestyle = '--', color = 'red', lw=2) # threshold\n",
    "axes[1].set_title('Colour Differences (AE00)', fontsize = 10, fontweight = \"bold\")\n",
    "axes[1].set_xlabel('Patch')\n",
    "axes[1].set_ylabel('AE00')\n",
    "axes[1].tick_params(labelsize = 7)"
   ]
  }
 ],
 "metadata": {
  "kernelspec": {
   "display_name": "Python 3.9.0 ('coolpi_v_0.1.15-616vlx5b')",
   "language": "python",
   "name": "python3"
  },
  "language_info": {
   "codemirror_mode": {
    "name": "ipython",
    "version": 3
   },
   "file_extension": ".py",
   "mimetype": "text/x-python",
   "name": "python",
   "nbconvert_exporter": "python",
   "pygments_lexer": "ipython3",
   "version": "3.9.0"
  },
  "orig_nbformat": 4,
  "vscode": {
   "interpreter": {
    "hash": "cd03bc827db60da07dffd4b6f842fec0b764359de6824c287c98b60d7219a3f7"
   }
  }
 },
 "nbformat": 4,
 "nbformat_minor": 2
}
